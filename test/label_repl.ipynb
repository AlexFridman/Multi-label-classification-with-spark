{
 "cells": [
  {
   "cell_type": "code",
   "execution_count": 9,
   "metadata": {
    "collapsed": false
   },
   "outputs": [],
   "source": [
    "import json\n",
    "\n",
    "with open('/home/hadoop/data/l_repl.json', 'r', encoding='utf-8') as fp:\n",
    "    repl_dict = json.load(fp)"
   ]
  },
  {
   "cell_type": "code",
   "execution_count": 11,
   "metadata": {
    "collapsed": false
   },
   "outputs": [],
   "source": [
    "repl_dict_br = sc.broadcast(repl_dict)\n",
    "\n",
    "def repl_labels(doc: dict):\n",
    "    doc['Labels'] = list(set([repl_dict_br.value.get(l, l) \n",
    "        for l in doc['Labels']]))\n",
    "\n",
    "    return doc\n",
    "\n",
    "sc.textFile('hdfs://master:54310/exp_2/clean_data'). \\\n",
    "    map(json.loads). \\\n",
    "    map(repl_labels). \\\n",
    "    map(json.dumps). \\\n",
    "    repartition(6). \\\n",
    "    saveAsTextFile('hdfs://master:54310/exp_2/clean_data_l_r')"
   ]
  },
  {
   "cell_type": "code",
   "execution_count": null,
   "metadata": {
    "collapsed": true
   },
   "outputs": [],
   "source": []
  }
 ],
 "metadata": {
  "kernelspec": {
   "display_name": "Python 3",
   "language": "python",
   "name": "python3"
  },
  "language_info": {
   "codemirror_mode": {
    "name": "ipython",
    "version": 3
   },
   "file_extension": ".py",
   "mimetype": "text/x-python",
   "name": "python",
   "nbconvert_exporter": "python",
   "pygments_lexer": "ipython3",
   "version": "3.4.3"
  }
 },
 "nbformat": 4,
 "nbformat_minor": 0
}
