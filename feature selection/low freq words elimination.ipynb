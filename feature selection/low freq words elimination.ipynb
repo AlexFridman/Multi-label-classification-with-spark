{
 "cells": [
  {
   "cell_type": "code",
   "execution_count": 1,
   "metadata": {
    "collapsed": true
   },
   "outputs": [],
   "source": [
    "import json\n",
    "data = sc.textFile('hdfs://master:54310/stemmed'). \\\n",
    "    map(json.loads)"
   ]
  },
  {
   "cell_type": "code",
   "execution_count": 2,
   "metadata": {
    "collapsed": false
   },
   "outputs": [
    {
     "data": {
      "text/plain": [
       "27882459"
      ]
     },
     "execution_count": 2,
     "metadata": {},
     "output_type": "execute_result"
    }
   ],
   "source": [
    "data.flatMap(lambda p: set(p['Text'])).count()"
   ]
  },
  {
   "cell_type": "code",
   "execution_count": 3,
   "metadata": {
    "collapsed": false
   },
   "outputs": [],
   "source": [
    "low_freq_words = data.flatMap(lambda p: set(p['Text'])). \\\n",
    "    map(lambda w: (w, 1)). \\\n",
    "    reduceByKey(lambda a, b: a+b). \\\n",
    "    filter(lambda x: x[1] < 5). \\\n",
    "    collectAsMap()"
   ]
  },
  {
   "cell_type": "code",
   "execution_count": 4,
   "metadata": {
    "collapsed": true
   },
   "outputs": [],
   "source": [
    "def exclude_low_freq_words(words: list):\n",
    "    return [w for w in words if w not in low_freq_words]"
   ]
  },
  {
   "cell_type": "code",
   "execution_count": 5,
   "metadata": {
    "collapsed": false
   },
   "outputs": [
    {
     "data": {
      "text/plain": [
       "dict_keys(['Tags', 'Hubs', 'Text', 'Comments', 'Id', 'CodeComments'])"
      ]
     },
     "execution_count": 5,
     "metadata": {},
     "output_type": "execute_result"
    }
   ],
   "source": [
    "data.take(1)[0].keys()"
   ]
  },
  {
   "cell_type": "code",
   "execution_count": 17,
   "metadata": {
    "collapsed": false,
    "scrolled": true
   },
   "outputs": [
    {
     "data": {
      "text/plain": [
       "(1563, 124421)"
      ]
     },
     "execution_count": 17,
     "metadata": {},
     "output_type": "execute_result"
    }
   ],
   "source": [
    "all_hubs = data.flatMap(lambda x: x['Hubs']).distinct()\n",
    "all_tags = data.flatMap(lambda x: x['Tags']).distinct()\n",
    "\n",
    "all_hubs.count(), all_tags.count()"
   ]
  },
  {
   "cell_type": "code",
   "execution_count": 6,
   "metadata": {
    "collapsed": true
   },
   "outputs": [],
   "source": [
    "hub_bl = {'лог компании', 'рная дыра', 'пиарюсь'}"
   ]
  },
  {
   "cell_type": "code",
   "execution_count": 42,
   "metadata": {
    "collapsed": false
   },
   "outputs": [],
   "source": [
    "tag_count = data.flatMap(lambda x: x['Tags']). \\\n",
    "    map(lambda x: x.lower()). \\\n",
    "    countByValue()\n",
    "hub_count = data.flatMap(lambda x: x['Hubs']). \\\n",
    "    map(lambda x: x.lower()). \\\n",
    "    filter(lambda h: all(h_bl not in h for h_bl in hub_bl)). \\\n",
    "    countByValue()"
   ]
  },
  {
   "cell_type": "code",
   "execution_count": 18,
   "metadata": {
    "collapsed": true
   },
   "outputs": [],
   "source": [
    "from matplotlib import pyplot as plt"
   ]
  },
  {
   "cell_type": "code",
   "execution_count": 33,
   "metadata": {
    "collapsed": true
   },
   "outputs": [],
   "source": [
    "tag_counts_array = []\n",
    "hub_counts_array = []\n",
    "counts = range(0, 5000, 10)\n",
    "\n",
    "for c in range(0, 5000, 10):\n",
    "    tag_counts_array.append(len([v for v in tag_count.values() if v >= c]))\n",
    "    hub_counts_array.append(len([v for v in hub_count.values() if v >= c]))\n",
    "\n",
    "plt.plot(counts, tag_counts_array, 'b', hold=True)\n",
    "plt.plot(counts, hub_counts_array, 'r')\n",
    "plt.show()"
   ]
  },
  {
   "cell_type": "code",
   "execution_count": 43,
   "metadata": {
    "collapsed": false
   },
   "outputs": [],
   "source": [
    "all_labels = dict(tag_count)\n",
    "all_labels.update(hub_count)"
   ]
  },
  {
   "cell_type": "code",
   "execution_count": 37,
   "metadata": {
    "collapsed": true
   },
   "outputs": [],
   "source": [
    "all_labels_counts_array = []\n",
    "counts = range(0, 5000, 10)\n",
    "\n",
    "for c in range(0, 5000, 10):\n",
    "    all_labels_counts_array.append(len([v for v in all_labels.values() if v >= c]))\n",
    "\n",
    "plt.plot(counts, all_labels_counts_array, 'b', hold=True)\n",
    "plt.show()"
   ]
  },
  {
   "cell_type": "code",
   "execution_count": 44,
   "metadata": {
    "collapsed": true
   },
   "outputs": [],
   "source": [
    "from collections import Counter"
   ]
  },
  {
   "cell_type": "code",
   "execution_count": 45,
   "metadata": {
    "collapsed": true
   },
   "outputs": [],
   "source": [
    "label_counts = Counter(all_labels)"
   ]
  },
  {
   "cell_type": "code",
   "execution_count": 49,
   "metadata": {
    "collapsed": false
   },
   "outputs": [],
   "source": [
    "most_common = dict(label_counts.most_common(500)).keys()"
   ]
  },
  {
   "cell_type": "code",
   "execution_count": 60,
   "metadata": {
    "collapsed": false
   },
   "outputs": [],
   "source": [
    "label_counts = data.map(lambda d: (d['Tags'], d['Hubs'])). \\\n",
    "    map(lambda x: ([t.lower() for t in x[0]],\n",
    "                   [h.lower() for h in x[1]])). \\\n",
    "    map(lambda x: (x[0], [h for h in x[1] if all(h_bl not in h for h_bl in hub_bl)])). \\\n",
    "    map(lambda x: set(x[0] + x[1])). \\\n",
    "    map(lambda x: len(x)). \\\n",
    "    collect()"
   ]
  },
  {
   "cell_type": "code",
   "execution_count": 64,
   "metadata": {
    "collapsed": false
   },
   "outputs": [],
   "source": [
    "plt.hist(label_counts, bins=60)\n",
    "plt.show()"
   ]
  },
  {
   "cell_type": "code",
   "execution_count": 8,
   "metadata": {
    "collapsed": true
   },
   "outputs": [],
   "source": [
    "new_labels = data.map(lambda d: (d['Tags'], d['Hubs'])). \\\n",
    "    map(lambda x: ([t.lower() for t in x[0]],\n",
    "                   [h.lower() for h in x[1]])). \\\n",
    "    map(lambda x: (x[0], [h for h in x[1] if all(h_bl not in h for h_bl in hub_bl)])). \\\n",
    "    map(lambda x: set(x[0] + x[1]))"
   ]
  },
  {
   "cell_type": "code",
   "execution_count": 12,
   "metadata": {
    "collapsed": false,
    "scrolled": true
   },
   "outputs": [
    {
     "data": {
      "text/plain": [
       "('кол-во всех документов', 127434)"
      ]
     },
     "execution_count": 12,
     "metadata": {},
     "output_type": "execute_result"
    }
   ],
   "source": [
    "'кол-во всех документов', new_labels.count()"
   ]
  },
  {
   "cell_type": "code",
   "execution_count": 9,
   "metadata": {
    "collapsed": false
   },
   "outputs": [
    {
     "data": {
      "text/plain": [
       "('кол-во всех документов', 85981)"
      ]
     },
     "execution_count": 9,
     "metadata": {},
     "output_type": "execute_result"
    }
   ],
   "source": [
    "more_than_3 = new_labels.filter(lambda x: len(x) > 3)\n",
    "'кол-во всех документов', more_than_3.count()"
   ]
  },
  {
   "cell_type": "code",
   "execution_count": 14,
   "metadata": {
    "collapsed": false
   },
   "outputs": [
    {
     "data": {
      "text/plain": [
       "('уникальных лейблов в документах, где больше 3', 97645)"
      ]
     },
     "execution_count": 14,
     "metadata": {},
     "output_type": "execute_result"
    }
   ],
   "source": [
    "all_labels_from_more_than_3_rdd = more_than_3.flatMap(lambda x: x).distinct()\n",
    "'уникальных лейблов в документах, где больше 3', all_labels_from_more_than_3_rdd.count()"
   ]
  },
  {
   "cell_type": "code",
   "execution_count": 10,
   "metadata": {
    "collapsed": false
   },
   "outputs": [],
   "source": [
    "all_labels_counts = more_than_3.flatMap(lambda x: x). \\\n",
    "    map(lambda x: (x,1)). \\\n",
    "    reduceByKey(lambda a,b: a+b). \\\n",
    "    sortBy(lambda x: x[1], ascending=False)"
   ]
  },
  {
   "cell_type": "code",
   "execution_count": 32,
   "metadata": {
    "collapsed": true
   },
   "outputs": [],
   "source": [
    "all_labels_count_list = all_labels_counts.map(lambda x: x[1]).collect()"
   ]
  },
  {
   "cell_type": "code",
   "execution_count": 33,
   "metadata": {
    "collapsed": false
   },
   "outputs": [],
   "source": [
    "plt.hist(all_labels_count_list, bins=30)\n",
    "plt.show()"
   ]
  },
  {
   "cell_type": "code",
   "execution_count": 34,
   "metadata": {
    "collapsed": false,
    "scrolled": false
   },
   "outputs": [
    {
     "data": {
      "text/plain": [
       "[('веб-разработка', 4538),\n",
       " ('информационная безопасность', 3846),\n",
       " ('программирование', 3725),\n",
       " ('google', 3220),\n",
       " ('android', 3055),\n",
       " ('javascript', 2978),\n",
       " ('настройка linux', 2530),\n",
       " ('linux', 2442),\n",
       " ('microsoft', 2431),\n",
       " ('разработка', 2419)]"
      ]
     },
     "execution_count": 34,
     "metadata": {},
     "output_type": "execute_result"
    }
   ],
   "source": [
    "all_labels_counts.take(10)"
   ]
  },
  {
   "cell_type": "code",
   "execution_count": 35,
   "metadata": {
    "collapsed": false
   },
   "outputs": [
    {
     "data": {
      "text/plain": [
       "5763"
      ]
     },
     "execution_count": 35,
     "metadata": {},
     "output_type": "execute_result"
    }
   ],
   "source": [
    "all_labels_counts.filter(lambda x: x[1] > 10).count()"
   ]
  },
  {
   "cell_type": "code",
   "execution_count": 38,
   "metadata": {
    "collapsed": false,
    "scrolled": true
   },
   "outputs": [
    {
     "data": {
      "text/plain": [
       "['веб-разработка',\n",
       " 'информационная безопасность',\n",
       " 'программирование',\n",
       " 'google',\n",
       " 'android']"
      ]
     },
     "execution_count": 38,
     "metadata": {},
     "output_type": "execute_result"
    }
   ],
   "source": [
    "top_500 = all_labels_counts.map(lambda x: x[0]).take(500)\n",
    "top_500[:5]"
   ]
  },
  {
   "cell_type": "code",
   "execution_count": 50,
   "metadata": {
    "collapsed": false
   },
   "outputs": [],
   "source": [
    "top_500_set = set(top_500)\n",
    "def delete_not_top_500_labels(labels: set):\n",
    "    return [l for l in labels if l in top_500_set]"
   ]
  },
  {
   "cell_type": "code",
   "execution_count": 51,
   "metadata": {
    "collapsed": true
   },
   "outputs": [],
   "source": [
    "lengths_after_del = new_labels.map(lambda x: delete_not_top_500_labels(x)). \\\n",
    "    map(lambda x: len(x)).collect()"
   ]
  },
  {
   "cell_type": "code",
   "execution_count": 52,
   "metadata": {
    "collapsed": true
   },
   "outputs": [],
   "source": [
    "plt.hist(lengths_after_del, bins=30)\n",
    "plt.show()"
   ]
  },
  {
   "cell_type": "code",
   "execution_count": 53,
   "metadata": {
    "collapsed": false
   },
   "outputs": [
    {
     "data": {
      "text/plain": [
       "defaultdict(<class 'int'>, {0: 15986, 1: 41645, 2: 35134, 3: 19796, 4: 8742, 5: 3568, 6: 1362, 7: 566, 8: 250, 9: 94, 10: 82, 11: 42, 12: 13, 13: 9, 14: 49, 15: 30, 16: 41, 17: 18, 18: 6, 20: 1})"
      ]
     },
     "execution_count": 53,
     "metadata": {},
     "output_type": "execute_result"
    }
   ],
   "source": [
    "new_labels.map(lambda x: delete_not_top_500_labels(x)). \\\n",
    "    map(lambda x: len(x)). \\\n",
    "    countByValue()"
   ]
  },
  {
   "cell_type": "code",
   "execution_count": 54,
   "metadata": {
    "collapsed": false
   },
   "outputs": [
    {
     "data": {
      "text/plain": [
       "34378"
      ]
     },
     "execution_count": 54,
     "metadata": {},
     "output_type": "execute_result"
    }
   ],
   "source": [
    "new_new = new_labels.map(lambda x: delete_not_top_500_labels(x)). \\\n",
    "    filter(lambda x: 2 < len(x) < 10)\n",
    "new_new.count()"
   ]
  },
  {
   "cell_type": "code",
   "execution_count": 55,
   "metadata": {
    "collapsed": false
   },
   "outputs": [
    {
     "data": {
      "text/plain": [
       "[('go', 117),\n",
       " ('тест', 117),\n",
       " ('статистика в it', 117),\n",
       " ('трафик', 118),\n",
       " ('ux', 119),\n",
       " ('управление', 119),\n",
       " ('svn', 119),\n",
       " ('школа', 120),\n",
       " ('пароли', 121),\n",
       " ('системы управления версиями', 121)]"
      ]
     },
     "execution_count": 55,
     "metadata": {},
     "output_type": "execute_result"
    }
   ],
   "source": [
    "all_labels_counts.zipWithIndex().filter(lambda x: x[1] < 500).map(lambda x: x[0]).sortBy(lambda x: x[1]).take(10)"
   ]
  },
  {
   "cell_type": "code",
   "execution_count": null,
   "metadata": {
    "collapsed": false
   },
   "outputs": [],
   "source": [
    "new_labels.map(lambda x: delete_not_top_500_labels(x)). \\\n",
    "    filter(lambda x: len(x) > 8).collect()"
   ]
  },
  {
   "cell_type": "markdown",
   "metadata": {},
   "source": [
    "### ТОП 100"
   ]
  },
  {
   "cell_type": "code",
   "execution_count": 11,
   "metadata": {
    "collapsed": false
   },
   "outputs": [
    {
     "data": {
      "text/plain": [
       "['веб-разработка',\n",
       " 'информационная безопасность',\n",
       " 'программирование',\n",
       " 'google',\n",
       " 'android']"
      ]
     },
     "execution_count": 11,
     "metadata": {},
     "output_type": "execute_result"
    }
   ],
   "source": [
    "top_1000 = all_labels_counts.map(lambda x: x[0]).take(1000)\n",
    "top_1000[:5]"
   ]
  },
  {
   "cell_type": "code",
   "execution_count": 12,
   "metadata": {
    "collapsed": true
   },
   "outputs": [],
   "source": [
    "top_1000_set = set(top_1000)\n",
    "def delete_not_top_1000_labels(labels: set):\n",
    "    return [l for l in labels if l in top_1000_set]"
   ]
  },
  {
   "cell_type": "code",
   "execution_count": 59,
   "metadata": {
    "collapsed": true
   },
   "outputs": [],
   "source": [
    "lengths_after_del_2 = new_labels.map(lambda x: delete_not_top_1000_labels(x)). \\\n",
    "    map(lambda x: len(x)).collect()"
   ]
  },
  {
   "cell_type": "code",
   "execution_count": 60,
   "metadata": {
    "collapsed": true
   },
   "outputs": [],
   "source": [
    "plt.hist(lengths_after_del_2, bins=30)\n",
    "plt.show()"
   ]
  },
  {
   "cell_type": "code",
   "execution_count": 61,
   "metadata": {
    "collapsed": false
   },
   "outputs": [
    {
     "data": {
      "text/plain": [
       "defaultdict(<class 'int'>, {0: 10802, 1: 33549, 2: 35508, 3: 24348, 4: 12705, 5: 5641, 6: 2498, 7: 1085, 8: 592, 9: 258, 10: 157, 11: 88, 12: 29, 13: 15, 14: 42, 15: 41, 16: 34, 17: 21, 18: 15, 19: 3, 20: 1, 21: 1, 22: 1})"
      ]
     },
     "execution_count": 61,
     "metadata": {},
     "output_type": "execute_result"
    }
   ],
   "source": [
    "new_labels.map(lambda x: delete_not_top_1000_labels(x)). \\\n",
    "    map(lambda x: len(x)). \\\n",
    "    countByValue()"
   ]
  },
  {
   "cell_type": "code",
   "execution_count": 62,
   "metadata": {
    "collapsed": false
   },
   "outputs": [
    {
     "data": {
      "text/plain": [
       "[('extensions', 61),\n",
       " ('coworking', 61),\n",
       " ('ocr', 61),\n",
       " ('управление персоналом', 61),\n",
       " ('accessibility', 61),\n",
       " ('lumia', 61),\n",
       " ('ip', 61),\n",
       " ('календарь', 61),\n",
       " ('вопросы', 61),\n",
       " ('ностальгия', 61)]"
      ]
     },
     "execution_count": 62,
     "metadata": {},
     "output_type": "execute_result"
    }
   ],
   "source": [
    "all_labels_counts.zipWithIndex().filter(lambda x: x[1] < 1000).map(lambda x: x[0]).sortBy(lambda x: x[1]).take(10)"
   ]
  },
  {
   "cell_type": "code",
   "execution_count": 65,
   "metadata": {
    "collapsed": false
   },
   "outputs": [
    {
     "data": {
      "text/plain": [
       "47575"
      ]
     },
     "execution_count": 65,
     "metadata": {},
     "output_type": "execute_result"
    }
   ],
   "source": [
    "new_labels.map(lambda x: delete_not_top_1000_labels(x)). \\\n",
    "    map(lambda x: len(x)). \\\n",
    "    filter(lambda x: x>2).count()"
   ]
  },
  {
   "cell_type": "code",
   "execution_count": 70,
   "metadata": {
    "collapsed": false
   },
   "outputs": [
    {
     "data": {
      "text/plain": [
       "defaultdict(<class 'int'>, {})"
      ]
     },
     "execution_count": 70,
     "metadata": {},
     "output_type": "execute_result"
    }
   ],
   "source": [
    "new_labels.map(lambda x: delete_not_top_1000_labels(x)). \\\n",
    "    flatMap(lambda x: x). \\\n",
    "    map(lambda x: (x,1)). \\\n",
    "    reduceByKey(lambda a,b: a+b). \\\n",
    "    map(lambda x: x[1]). \\\n",
    "    filter(lambda x: x < 50). \\\n",
    "    countByValue()"
   ]
  },
  {
   "cell_type": "code",
   "execution_count": 13,
   "metadata": {
    "collapsed": true
   },
   "outputs": [],
   "source": [
    "top_1000 = all_labels_counts.map(lambda x: x[0]).take(1000)\n",
    "top_1000_set = set(top_1000)"
   ]
  },
  {
   "cell_type": "code",
   "execution_count": 14,
   "metadata": {
    "collapsed": true
   },
   "outputs": [],
   "source": [
    "def choose_labels(doc: dict):\n",
    "    all_labels = doc['Tags'] + doc['Hubs']\n",
    "    all_labels = set([l.lower() for l in all_labels])\n",
    "    return [l for l in all_labels if l in top_1000_set]"
   ]
  },
  {
   "cell_type": "code",
   "execution_count": 15,
   "metadata": {
    "collapsed": true
   },
   "outputs": [],
   "source": [
    "def transform_data(doc: dict):\n",
    "    return {\n",
    "        'Id': doc['Id'],\n",
    "        'Features': exclude_low_freq_words(doc['Text']),\n",
    "        'Labels': choose_labels(doc)\n",
    "    }"
   ]
  },
  {
   "cell_type": "code",
   "execution_count": 16,
   "metadata": {
    "collapsed": false,
    "scrolled": true
   },
   "outputs": [
    {
     "data": {
      "text/plain": [
       "47575"
      ]
     },
     "execution_count": 16,
     "metadata": {},
     "output_type": "execute_result"
    }
   ],
   "source": [
    "data.map(transform_data). \\\n",
    "    filter(lambda x: len(x['Labels']) > 2). \\\n",
    "    count()"
   ]
  },
  {
   "cell_type": "code",
   "execution_count": 89,
   "metadata": {
    "collapsed": false
   },
   "outputs": [
    {
     "data": {
      "text/plain": [
       "98621"
      ]
     },
     "execution_count": 89,
     "metadata": {},
     "output_type": "execute_result"
    }
   ],
   "source": [
    "data.map(transform_data). \\\n",
    "    filter(lambda x: len(x['Labels']) > 2). \\\n",
    "    flatMap(lambda x: x['Features']). \\\n",
    "    distinct(). \\\n",
    "    count()"
   ]
  },
  {
   "cell_type": "code",
   "execution_count": 17,
   "metadata": {
    "collapsed": true
   },
   "outputs": [],
   "source": [
    "data.map(transform_data). \\\n",
    "    filter(lambda x: len(x['Labels']) > 2). \\\n",
    "    map(lambda x: json.dumps(x)). \\\n",
    "    repartition(4). \\\n",
    "    saveAsTextFile('hdfs://master:54310/clean')"
   ]
  }
 ],
 "metadata": {
  "kernelspec": {
   "display_name": "Python 3",
   "language": "python",
   "name": "python3"
  },
  "language_info": {
   "codemirror_mode": {
    "name": "ipython",
    "version": 3
   },
   "file_extension": ".py",
   "mimetype": "text/x-python",
   "name": "python",
   "nbconvert_exporter": "python",
   "pygments_lexer": "ipython3",
   "version": "3.4.3"
  }
 },
 "nbformat": 4,
 "nbformat_minor": 0
}
