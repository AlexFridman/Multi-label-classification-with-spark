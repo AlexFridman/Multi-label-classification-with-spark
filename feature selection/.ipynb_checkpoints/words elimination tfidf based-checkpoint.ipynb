{
 "cells": [
  {
   "cell_type": "code",
   "execution_count": 6,
   "metadata": {
    "collapsed": true
   },
   "outputs": [],
   "source": [
    "import json\n",
    "data = sc.textFile('hdfs://master:54310/clean'). \\\n",
    "    map(lambda line: json.loads(line)). \\\n",
    "    map(lambda doc: {'Features': doc['Text'], 'Labels': doc['Hubs']})"
   ]
  },
  {
   "cell_type": "code",
   "execution_count": 7,
   "metadata": {
    "collapsed": true
   },
   "outputs": [],
   "source": [
    "from pyspark.mllib.feature import HashingTF\n",
    "from pyspark.mllib.feature import IDF"
   ]
  },
  {
   "cell_type": "code",
   "execution_count": 8,
   "metadata": {
    "collapsed": true
   },
   "outputs": [],
   "source": [
    "documents = data.map(lambda x: x['Features'])"
   ]
  },
  {
   "cell_type": "code",
   "execution_count": 9,
   "metadata": {
    "collapsed": true
   },
   "outputs": [],
   "source": [
    "hashingTF = HashingTF()\n",
    "tf = hashingTF.transform(documents)"
   ]
  },
  {
   "cell_type": "code",
   "execution_count": 10,
   "metadata": {
    "collapsed": false
   },
   "outputs": [],
   "source": [
    "#tf.cache()\n",
    "idf = IDF().fit(tf)\n",
    "tfidf = idf.transform(tf)"
   ]
  },
  {
   "cell_type": "code",
   "execution_count": 11,
   "metadata": {
    "collapsed": false
   },
   "outputs": [],
   "source": [
    "import numpy as np\n",
    "from pyspark.mllib.linalg import Vectors"
   ]
  },
  {
   "cell_type": "code",
   "execution_count": 12,
   "metadata": {
    "collapsed": false
   },
   "outputs": [],
   "source": [
    "def map_tfidf_vector(array: np.ndarray, percents = [10, 20, 30, 40, 50]):\n",
    "    return [filter_values_under_percent(array, p) for p in percents]\n",
    "\n",
    "def cast_sparse_vector_to_dict_and_scale(v):\n",
    "    max_v = v.toArray().max()\n",
    "    return dict([(int(i), v[int(i)] / max_v) for i in v.indices])\n",
    "\n",
    "import operator\n",
    "def order_dict_by_values(d: dict, asc = True):\n",
    "    return sorted(d.items(), key = operator.itemgetter(1), reverse=asc)"
   ]
  },
  {
   "cell_type": "code",
   "execution_count": 13,
   "metadata": {
    "collapsed": false
   },
   "outputs": [],
   "source": [
    "def filter_values_under_percent(vec, percent: int):\n",
    "    tfidfs = cast_sparse_vector_to_dict_and_scale(vec)\n",
    "    ordered_tfidfs = order_dict_by_values(tfidfs)\n",
    "    indexes = list(map(lambda k: k, ordered_tfidfs))\n",
    "    index = int(len(indexes) * percent / 100)\n",
    "    return indexes[:index]"
   ]
  },
  {
   "cell_type": "code",
   "execution_count": 14,
   "metadata": {
    "collapsed": false,
    "scrolled": false
   },
   "outputs": [],
   "source": [
    "wc = documents.flatMap(lambda d: set(d)).countByValue()"
   ]
  },
  {
   "cell_type": "code",
   "execution_count": 15,
   "metadata": {
    "collapsed": true
   },
   "outputs": [],
   "source": [
    "wc_rdd = sc.parallelize(wc.items()). \\\n",
    "    map(lambda wc: (hashingTF.indexOf(wc[0]), wc[1])). \\\n",
    "    persist()\n",
    "tfidf = tfidf.persist()"
   ]
  },
  {
   "cell_type": "code",
   "execution_count": null,
   "metadata": {
    "collapsed": false
   },
   "outputs": [],
   "source": [
    "experiments = {}\n",
    "for p in [10, 20, 30, 40, 50, 60]:\n",
    "    excluded = tfidf.flatMap(lambda vec: filter_values_under_percent(vec, p)). \\\n",
    "        countByValue()\n",
    "    excluded_rdd = sc.parallelize(excluded.items()).persist()\n",
    "    stat = wc_rdd.join(excluded_rdd).map(lambda s: (s[0], s[1][1]/s[1][0])).persist()\n",
    "    experiment = {}\n",
    "    for t in [.9, .8, .7, .6, .5, .4, .3, .2, .1]:\n",
    "        excluded_count = stat.filter(lambda s: s[1] > t).count()\n",
    "        experiment[t] = excluded_count\n",
    "    stat.unpersist()\n",
    "    experiments[p] = experiment    "
   ]
  },
  {
   "cell_type": "code",
   "execution_count": null,
   "metadata": {
    "collapsed": false
   },
   "outputs": [],
   "source": [
    "excluded = tfidf.flatMap(lambda vec: filter_values_under_percent(vec, 50)). \\\n",
    "        countByValue()\n",
    "excluded_rdd = sc.parallelize(excluded.items())"
   ]
  },
  {
   "cell_type": "code",
   "execution_count": null,
   "metadata": {
    "collapsed": true
   },
   "outputs": [],
   "source": [
    "stat = wc_rdd.join(excluded_rdd)\n",
    "stat = stat.map(lambda s: (s[0], s[1][1]/s[1][0]))"
   ]
  },
  {
   "cell_type": "code",
   "execution_count": null,
   "metadata": {
    "collapsed": true
   },
   "outputs": [],
   "source": [
    "stat.take(1)"
   ]
  },
  {
   "cell_type": "code",
   "execution_count": 124,
   "metadata": {
    "collapsed": false
   },
   "outputs": [],
   "source": [
    "def exclude_words_bellow_threshold(word_tfidfs: dict, t: float):\n",
    "    return [i_tfidf[0] for i_tfidf in word_tfidfs.items() if i_tfidf[1] < t]\n",
    "\n",
    "import operator\n",
    "\n",
    "def exclude_part_of_words(word_tfidfs: dict, percent: float):\n",
    "    sorted_by_tf_idf = sorted(word_tfidfs.items(), key=operator.itemgetter(1))\n",
    "    border = int(percent * len(word_tfidfs))\n",
    "    return sorted_by_tf_idf[0:border]"
   ]
  },
  {
   "cell_type": "code",
   "execution_count": 136,
   "metadata": {
    "collapsed": false,
    "scrolled": true
   },
   "outputs": [
    {
     "data": {
      "text/plain": [
       "[('c', 1e-05)]"
      ]
     },
     "execution_count": 136,
     "metadata": {},
     "output_type": "execute_result"
    }
   ],
   "source": [
    "exclude_part_of_words({'a':0.002, 'b':0.2, 'c':0.00001},.4)"
   ]
  },
  {
   "cell_type": "code",
   "execution_count": 143,
   "metadata": {
    "collapsed": false,
    "scrolled": true
   },
   "outputs": [],
   "source": [
    "t = sc.parallelize(documents.take(1)).zip(sc.parallelize(tfidf.take(1))).take(1)[0]"
   ]
  },
  {
   "cell_type": "code",
   "execution_count": 148,
   "metadata": {
    "collapsed": false
   },
   "outputs": [],
   "source": [
    "d = sparse_vector_to_dict(t[1])"
   ]
  },
  {
   "cell_type": "code",
   "execution_count": 152,
   "metadata": {
    "collapsed": true
   },
   "outputs": [
    {
     "data": {
      "text/plain": [
       "['добр',\n",
       " 'ден',\n",
       " 'хабр',\n",
       " 'продолжа',\n",
       " 'изучен',\n",
       " 'новинок',\n",
       " 'представлен',\n",
       " 'компан',\n",
       " 'samsung',\n",
       " 'ces',\n",
       " 'обрат',\n",
       " 'семейств',\n",
       " 'ativ',\n",
       " 'ряд',\n",
       " 'котор',\n",
       " 'стал',\n",
       " 'устройств',\n",
       " 'гост',\n",
       " 'выставк',\n",
       " 'показа',\n",
       " 'нов',\n",
       " 'компактн',\n",
       " 'ноутбук',\n",
       " 'ativ',\n",
       " 'book',\n",
       " 'edit',\n",
       " 'моноблок',\n",
       " 'ativ',\n",
       " 'one',\n",
       " 'edit',\n",
       " 'нов',\n",
       " 'ноутбук',\n",
       " 'window',\n",
       " 'сложн',\n",
       " 'догада',\n",
       " 'созда',\n",
       " 'основ',\n",
       " 'флагманск',\n",
       " 'модел',\n",
       " 'прошл',\n",
       " 'год',\n",
       " 'ativ',\n",
       " 'book',\n",
       " 'тонк',\n",
       " 'цельнометаллическ',\n",
       " 'корпус',\n",
       " 'устройств',\n",
       " 'порад',\n",
       " 'приятн',\n",
       " 'дизайн',\n",
       " 'изрядн',\n",
       " 'потолстевш',\n",
       " 'аккумулятор',\n",
       " 'час',\n",
       " 'беспрерывн',\n",
       " 'работ',\n",
       " 'дюймов',\n",
       " 'сенсорн',\n",
       " 'full',\n",
       " 'ярк',\n",
       " 'прот',\n",
       " 'предшественник',\n",
       " 'подавн',\n",
       " 'нов',\n",
       " 'эргономичн',\n",
       " 'клавиатур',\n",
       " 'имеет',\n",
       " 'сертификат',\n",
       " 'предустановлен',\n",
       " 'плеер',\n",
       " 'splayer',\n",
       " 'чип',\n",
       " 'wolfson',\n",
       " 'dac',\n",
       " 'обеща',\n",
       " 'достойн',\n",
       " 'качеств',\n",
       " 'звучан',\n",
       " 'техническ',\n",
       " 'характеристик',\n",
       " 'ativ',\n",
       " 'book',\n",
       " 'edit',\n",
       " 'экра',\n",
       " 'дюймов',\n",
       " 'full',\n",
       " 'операцион',\n",
       " 'систем',\n",
       " 'window',\n",
       " 'процессор',\n",
       " 'intel',\n",
       " 'haswel',\n",
       " 'core',\n",
       " 'ult',\n",
       " 'графическ',\n",
       " 'ускорител',\n",
       " 'intel',\n",
       " 'graphic',\n",
       " 'оперативн',\n",
       " 'памя',\n",
       " 'накопител',\n",
       " 'ssd',\n",
       " 'dual',\n",
       " 'ssd',\n",
       " 'камер',\n",
       " 'аккумулятор',\n",
       " 'лит',\n",
       " 'ион',\n",
       " 'заявлен',\n",
       " 'врем',\n",
       " 'работ',\n",
       " 'час',\n",
       " 'соединен',\n",
       " 'разъем',\n",
       " 'usb',\n",
       " 'usb',\n",
       " 'hdmi',\n",
       " 'mini',\n",
       " 'vga',\n",
       " 'адаптер',\n",
       " 'mic',\n",
       " 'slim',\n",
       " 'secur',\n",
       " 'lock',\n",
       " 'размер',\n",
       " 'вес',\n",
       " 'втор',\n",
       " 'новинк',\n",
       " 'ces',\n",
       " 'стал',\n",
       " 'знаком',\n",
       " 'всем',\n",
       " 'моноблок',\n",
       " 'систем',\n",
       " 'one',\n",
       " 'нов',\n",
       " 'дизайн',\n",
       " 'ativ',\n",
       " 'one',\n",
       " 'edit',\n",
       " 'обновлен',\n",
       " 'ativ',\n",
       " 'one',\n",
       " 'разж',\n",
       " 'расширен',\n",
       " 'интерфейс',\n",
       " 'подключен',\n",
       " 'улучшен',\n",
       " 'производительн',\n",
       " 'такж',\n",
       " 'динамик',\n",
       " 'посерьезн',\n",
       " 'жестк',\n",
       " 'диск',\n",
       " 'побольш',\n",
       " 'экран',\n",
       " 'full',\n",
       " 'моноблок',\n",
       " 'имеет',\n",
       " 'дюймов',\n",
       " 'экра',\n",
       " 'соотношен',\n",
       " 'сторон',\n",
       " 'разрешен',\n",
       " 'угл',\n",
       " 'обзор',\n",
       " 'одн',\n",
       " 'модификац',\n",
       " 'ativ',\n",
       " 'one',\n",
       " 'editon',\n",
       " 'оснаща',\n",
       " 'сенсорн',\n",
       " 'экран',\n",
       " 'точек',\n",
       " 'традиц',\n",
       " 'нов',\n",
       " 'моноблок',\n",
       " 'поддержива',\n",
       " 'возможн',\n",
       " 'беспроводн',\n",
       " 'подключен',\n",
       " 'смартфон',\n",
       " 'линейк',\n",
       " 'galaxi',\n",
       " 'капот',\n",
       " 'сто',\n",
       " 'чип',\n",
       " 'intel',\n",
       " 'haswel',\n",
       " 'core',\n",
       " 'поколен',\n",
       " 'процессор',\n",
       " 'core',\n",
       " 'интегрирова',\n",
       " 'график',\n",
       " 'объ',\n",
       " 'оперативн',\n",
       " 'памят',\n",
       " 'выбор',\n",
       " 'пользовател',\n",
       " 'возможн',\n",
       " 'установ',\n",
       " 'hdd',\n",
       " 'емкост',\n",
       " 'либ',\n",
       " 'комбинац',\n",
       " 'ssd',\n",
       " 'hdd',\n",
       " 'техническ',\n",
       " 'характеристик',\n",
       " 'ativ',\n",
       " 'one',\n",
       " 'edit',\n",
       " 'экра',\n",
       " 'дюймов',\n",
       " 'led',\n",
       " 'full',\n",
       " 'сенсорн',\n",
       " 'точек',\n",
       " 'операцион',\n",
       " 'систем',\n",
       " 'window',\n",
       " 'бит',\n",
       " 'процессор',\n",
       " 'поколен',\n",
       " 'intel',\n",
       " 'haswel',\n",
       " 'core',\n",
       " 'графическ',\n",
       " 'ускорител',\n",
       " 'интегрирова',\n",
       " 'видеокарт',\n",
       " 'оперативн',\n",
       " 'памя',\n",
       " 'накопител',\n",
       " 'hdd',\n",
       " 'ssd',\n",
       " 'hdd',\n",
       " 'камер',\n",
       " 'соединен',\n",
       " 'разъем',\n",
       " 'usb',\n",
       " 'usb',\n",
       " 'hdmi',\n",
       " 'mic',\n",
       " 'combo',\n",
       " 'hdtv',\n",
       " 'размер',\n",
       " 'подставк',\n",
       " 'вес']"
      ]
     },
     "execution_count": 152,
     "metadata": {},
     "output_type": "execute_result"
    }
   ],
   "source": [
    "ex = exclude_part_of_words(d, .3)\n",
    "restore_words_by_ids(t[0], ex)\n",
    "t[0]"
   ]
  },
  {
   "cell_type": "code",
   "execution_count": 9,
   "metadata": {
    "collapsed": true
   },
   "outputs": [],
   "source": [
    "def restore_words_by_ids(doc, ids):\n",
    "    words = []\n",
    "    for w in set(doc): #set\n",
    "        w_idx = hashingTF.indexOf(w)\n",
    "        if w_idx in ids:\n",
    "            words.append(w)\n",
    "    return words"
   ]
  },
  {
   "cell_type": "code",
   "execution_count": 38,
   "metadata": {
    "collapsed": false
   },
   "outputs": [],
   "source": [
    "doc = documents.take(1)[0]"
   ]
  },
  {
   "cell_type": "code",
   "execution_count": 39,
   "metadata": {
    "collapsed": true
   },
   "outputs": [],
   "source": [
    "doc_tf = hashingTF.transform(doc)\n",
    "doc_tfidf = idf.transform(doc_tf)"
   ]
  },
  {
   "cell_type": "code",
   "execution_count": 53,
   "metadata": {
    "collapsed": true
   },
   "outputs": [
    {
     "data": {
      "text/plain": [
       "['компан',\n",
       " 'котор',\n",
       " 'созда',\n",
       " 'год',\n",
       " 'splayer',\n",
       " 'качеств',\n",
       " 'врем',\n",
       " 'втор',\n",
       " 'всем',\n",
       " 'такж',\n",
       " 'одн',\n",
       " 'сто',\n",
       " 'пользовател']"
      ]
     },
     "execution_count": 53,
     "metadata": {},
     "output_type": "execute_result"
    }
   ],
   "source": [
    "restore_words_by_ids(doc, exclude_words_bellow_threshold(sparse_vector_to_dict(doc_tfidf), .02))"
   ]
  },
  {
   "cell_type": "code",
   "execution_count": 131,
   "metadata": {
    "collapsed": true
   },
   "outputs": [],
   "source": [
    "def do_magic(doc_tfidf):\n",
    "    _dict = sparse_vector_to_dict(doc_tfidf[1])\n",
    "    #excluded_words = exclude_words_bellow_threshold(_dict, .2)\n",
    "    excluded_words = exclude_part_of_words(_dict, .3)\n",
    "    return restore_words_by_ids(doc_tfidf[0], excluded_words)"
   ]
  },
  {
   "cell_type": "markdown",
   "metadata": {},
   "source": [
    "#---------------------------------------------------------------------"
   ]
  },
  {
   "cell_type": "code",
   "execution_count": null,
   "metadata": {
    "collapsed": false,
    "scrolled": true
   },
   "outputs": [],
   "source": [
    "documents.map(lambda d: do_magic(d)).take(1)"
   ]
  },
  {
   "cell_type": "code",
   "execution_count": null,
   "metadata": {
    "collapsed": false
   },
   "outputs": [],
   "source": [
    "exclude_count = documents.zip(tfidf).flatMap(lambda d_tfidf: do_magic(d_tfidf)).countByValue()"
   ]
  },
  {
   "cell_type": "code",
   "execution_count": 76,
   "metadata": {
    "collapsed": true
   },
   "outputs": [],
   "source": [
    "exclude_count = sc.parallelize(stat.items()).sortBy(lambda w_c: w_c[1], ascending=False)"
   ]
  },
  {
   "cell_type": "markdown",
   "metadata": {},
   "source": [
    "#----------------------------------------------------------------------"
   ]
  },
  {
   "cell_type": "code",
   "execution_count": 128,
   "metadata": {
    "collapsed": false,
    "scrolled": true
   },
   "outputs": [],
   "source": [
    "wc = documents.map(lambda d: set(d)).flatMap(lambda d: d).countByValue() # set(d)"
   ]
  },
  {
   "cell_type": "code",
   "execution_count": 132,
   "metadata": {
    "collapsed": true
   },
   "outputs": [],
   "source": [
    "exclude_count = documents.zip(tfidf).flatMap(lambda d_tfidf: do_magic(d_tfidf)).countByValue()"
   ]
  },
  {
   "cell_type": "code",
   "execution_count": 133,
   "metadata": {
    "collapsed": false
   },
   "outputs": [],
   "source": [
    "wc_rdd = sc.parallelize(wc.items()).filter(lambda wc: wc[1]>1)\n",
    "ec_rdd = sc.parallelize(exclude_count.items())"
   ]
  },
  {
   "cell_type": "code",
   "execution_count": 134,
   "metadata": {
    "collapsed": false
   },
   "outputs": [
    {
     "data": {
      "text/plain": [
       "(211724, 0)"
      ]
     },
     "execution_count": 134,
     "metadata": {},
     "output_type": "execute_result"
    }
   ],
   "source": [
    "wc_rdd.count(), ec_rdd.count()"
   ]
  },
  {
   "cell_type": "code",
   "execution_count": 99,
   "metadata": {
    "collapsed": false
   },
   "outputs": [],
   "source": [
    "stat = wc_rdd.join(ec_rdd).map(lambda item: (item[0], item[1][1]/item[1][0], (item[1][0],item[1][1])))"
   ]
  },
  {
   "cell_type": "code",
   "execution_count": 101,
   "metadata": {
    "collapsed": false,
    "scrolled": false
   },
   "outputs": [
    {
     "data": {
      "text/plain": [
       "[('борел', 1.0, (2, 2)),\n",
       " ('объянен', 1.0, (2, 2)),\n",
       " ('eyer', 1.0, (2, 2)),\n",
       " ('loadsvgfromstr', 1.0, (2, 2)),\n",
       " ('расссмотрен', 1.0, (2, 2)),\n",
       " ('stringscount', 1.0, (2, 2)),\n",
       " ('archipelago', 1.0, (3, 3)),\n",
       " ('cimgdisplay', 1.0, (2, 2)),\n",
       " ('zik', 1.0, (2, 2)),\n",
       " ('matn', 1.0, (2, 2))]"
      ]
     },
     "execution_count": 101,
     "metadata": {},
     "output_type": "execute_result"
    }
   ],
   "source": [
    "stat.sortBy(lambda x: x[1], ascending=False).take(10)"
   ]
  },
  {
   "cell_type": "code",
   "execution_count": 72,
   "metadata": {
    "collapsed": false,
    "scrolled": false
   },
   "outputs": [
    {
     "name": "stdout",
     "output_type": "stream",
     "text": [
      "211724 29340 26104\n"
     ]
    }
   ],
   "source": [
    "print(wc_rdd.count(), ec_rdd.count(), stat.count())"
   ]
  },
  {
   "cell_type": "code",
   "execution_count": 41,
   "metadata": {
    "collapsed": false
   },
   "outputs": [
    {
     "data": {
      "text/plain": [
       "3"
      ]
     },
     "execution_count": 41,
     "metadata": {},
     "output_type": "execute_result"
    }
   ],
   "source": [
    "ec_rdd.map(lambda ec: len(ec[0])).min()"
   ]
  },
  {
   "cell_type": "code",
   "execution_count": 73,
   "metadata": {
    "collapsed": false,
    "scrolled": false
   },
   "outputs": [
    {
     "data": {
      "text/plain": [
       "[('getsublist', 1.0, (2, 2)),\n",
       " ('kursi', 1.0, (2, 2)),\n",
       " ('unknownscor', 1.0, (2, 2)),\n",
       " ('confbridgelock', 1.0, (2, 2)),\n",
       " ('getlogicfunc', 1.0, (2, 2)),\n",
       " ('dahdidndon', 1.0, (2, 2)),\n",
       " ('mnode', 1.0, (2, 2)),\n",
       " ('mailboxstatus', 1.0, (2, 2)),\n",
       " ('logicstr', 1.0, (2, 2)),\n",
       " ('предпредпоследн', 1.0, (2, 2))]"
      ]
     },
     "execution_count": 73,
     "metadata": {},
     "output_type": "execute_result"
    }
   ],
   "source": [
    "stat.filter(lambda x: x[1]>=.85).sortBy(lambda x: x[1]).take(10)"
   ]
  },
  {
   "cell_type": "code",
   "execution_count": 74,
   "metadata": {
    "collapsed": false
   },
   "outputs": [
    {
     "data": {
      "text/plain": [
       "[('реструктуризац', 1),\n",
       " ('bal', 1),\n",
       " ('бнз', 1),\n",
       " ('songbird', 1),\n",
       " ('батон', 1),\n",
       " ('gre', 1),\n",
       " ('конф', 1),\n",
       " ('vashi', 1),\n",
       " ('минификатор', 1),\n",
       " ('chroot', 1)]"
      ]
     },
     "execution_count": 74,
     "metadata": {},
     "output_type": "execute_result"
    }
   ],
   "source": [
    "ec_rdd.sortBy(lambda ec: ec[1], ascending=True).take(10)"
   ]
  },
  {
   "cell_type": "code",
   "execution_count": 93,
   "metadata": {
    "collapsed": false,
    "scrolled": true
   },
   "outputs": [
    {
     "data": {
      "text/plain": [
       "[('уровен', 0.05004170141784821, (8393, 420)),\n",
       " ('use', 0.050052872752908, (5674, 284)),\n",
       " ('верхн', 0.050056242969628795, (5334, 267)),\n",
       " ('леж', 0.050060802594244024, (4934, 247)),\n",
       " ('поможет', 0.05006765899864682, (6651, 333)),\n",
       " ('разниц', 0.05011577902745617, (6046, 303)),\n",
       " ('локальн', 0.05011901613329807, (7562, 379)),\n",
       " ('конец', 0.050142894258248895, (3849, 193)),\n",
       " ('существен', 0.05016402405686167, (7316, 367)),\n",
       " ('недавн', 0.05019334293729623, (13189, 662))]"
      ]
     },
     "execution_count": 93,
     "metadata": {},
     "output_type": "execute_result"
    }
   ],
   "source": [
    "stat.filter(lambda s: s[1] > .05).sortBy(lambda x: x[1], ascending=True).take(10)"
   ]
  },
  {
   "cell_type": "code",
   "execution_count": 98,
   "metadata": {
    "collapsed": false
   },
   "outputs": [
    {
     "data": {
      "text/plain": [
       "227698"
      ]
     },
     "execution_count": 98,
     "metadata": {},
     "output_type": "execute_result"
    }
   ],
   "source": [
    "stat.count()"
   ]
  },
  {
   "cell_type": "code",
   "execution_count": 101,
   "metadata": {
    "collapsed": false,
    "scrolled": true
   },
   "outputs": [
    {
     "name": "stdout",
     "output_type": "stream",
     "text": [
      "552218\n",
      "227698\n"
     ]
    }
   ],
   "source": [
    "print(wc_rdd.count())\n",
    "print(ec_rdd.count())"
   ]
  },
  {
   "cell_type": "code",
   "execution_count": 112,
   "metadata": {
    "collapsed": true
   },
   "outputs": [],
   "source": [
    "import re"
   ]
  },
  {
   "cell_type": "code",
   "execution_count": 113,
   "metadata": {
    "collapsed": false
   },
   "outputs": [],
   "source": [
    "stat.filter(lambda x: x[1]>1 and not re.match('[a-z]',x[0])). \\\n",
    "sortBy(lambda x: x[1], ascending=False). \\\n",
    "map(lambda x: json.dumps(x,ensure_ascii=False)). \\\n",
    "saveAsTextFile('/home/hadoop/words')"
   ]
  },
  {
   "cell_type": "code",
   "execution_count": null,
   "metadata": {
    "collapsed": true
   },
   "outputs": [],
   "source": []
  }
 ],
 "metadata": {
  "kernelspec": {
   "display_name": "Python 3",
   "language": "python",
   "name": "python3"
  },
  "language_info": {
   "codemirror_mode": {
    "name": "ipython",
    "version": 3
   },
   "file_extension": ".py",
   "mimetype": "text/x-python",
   "name": "python",
   "nbconvert_exporter": "python",
   "pygments_lexer": "ipython3",
   "version": "3.4.3"
  }
 },
 "nbformat": 4,
 "nbformat_minor": 0
}
