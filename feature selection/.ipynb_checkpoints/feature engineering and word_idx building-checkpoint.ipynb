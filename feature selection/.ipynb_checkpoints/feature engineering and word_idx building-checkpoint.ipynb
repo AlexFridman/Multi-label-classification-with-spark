{
 "cells": [
  {
   "cell_type": "code",
   "execution_count": 1,
   "metadata": {
    "collapsed": false
   },
   "outputs": [],
   "source": [
    "import json\n",
    "\n",
    "data = sc.textFile('hdfs://master:54310/clean'). \\\n",
    "    map(lambda line: json.loads(line))"
   ]
  },
  {
   "cell_type": "code",
   "execution_count": 2,
   "metadata": {
    "collapsed": true
   },
   "outputs": [],
   "source": [
    "all_words = data.flatMap(lambda x: set(x['Text']))"
   ]
  },
  {
   "cell_type": "code",
   "execution_count": 3,
   "metadata": {
    "collapsed": false
   },
   "outputs": [
    {
     "data": {
      "text/plain": [
       "27882459"
      ]
     },
     "execution_count": 3,
     "metadata": {},
     "output_type": "execute_result"
    }
   ],
   "source": [
    "all_words.count()"
   ]
  },
  {
   "cell_type": "code",
   "execution_count": 4,
   "metadata": {
    "collapsed": true
   },
   "outputs": [],
   "source": [
    "word_count = all_words.countByValue()"
   ]
  },
  {
   "cell_type": "code",
   "execution_count": 5,
   "metadata": {
    "collapsed": false
   },
   "outputs": [
    {
     "data": {
      "text/plain": [
       "552218"
      ]
     },
     "execution_count": 5,
     "metadata": {},
     "output_type": "execute_result"
    }
   ],
   "source": [
    "len(word_count)"
   ]
  },
  {
   "cell_type": "code",
   "execution_count": 6,
   "metadata": {
    "collapsed": false
   },
   "outputs": [],
   "source": [
    "ordered_wc = sc.parallelize(word_count.items()). \\\n",
    "    distinct(). \\\n",
    "    sortBy(lambda wc: wc[1])"
   ]
  },
  {
   "cell_type": "code",
   "execution_count": 7,
   "metadata": {
    "collapsed": false
   },
   "outputs": [
    {
     "data": {
      "text/plain": [
       "340494"
      ]
     },
     "execution_count": 7,
     "metadata": {},
     "output_type": "execute_result"
    }
   ],
   "source": [
    "ordered_wc.filter(lambda wc: wc[1] == 1).count()"
   ]
  },
  {
   "cell_type": "code",
   "execution_count": 8,
   "metadata": {
    "collapsed": true
   },
   "outputs": [],
   "source": [
    "lengths = ordered_wc.map(lambda wc: len(wc[0]))"
   ]
  },
  {
   "cell_type": "code",
   "execution_count": 9,
   "metadata": {
    "collapsed": false
   },
   "outputs": [
    {
     "data": {
      "text/plain": [
       "8.127398962004015"
      ]
     },
     "execution_count": 9,
     "metadata": {},
     "output_type": "execute_result"
    }
   ],
   "source": [
    "lengths.mean()"
   ]
  },
  {
   "cell_type": "code",
   "execution_count": 10,
   "metadata": {
    "collapsed": true
   },
   "outputs": [
    {
     "data": {
      "text/plain": [
       "[('нпсов', 1),\n",
       " ('проедш', 1),\n",
       " ('сrystalbuntu', 1),\n",
       " ('злоумшленник', 1),\n",
       " ('шквалист', 1),\n",
       " ('цетлин', 1),\n",
       " ('поливалак', 1),\n",
       " ('платформуз', 1),\n",
       " ('масенков', 1),\n",
       " ('просторон', 1),\n",
       " ('установлнен', 1),\n",
       " ('насу', 1),\n",
       " ('хабравтомобилист', 1),\n",
       " ('лорбер', 1),\n",
       " ('выражениек', 1),\n",
       " ('неган', 1),\n",
       " ('виртуалка', 1),\n",
       " ('оптотранзистор', 1),\n",
       " ('разработкибольш', 1),\n",
       " ('полиграфичн', 1),\n",
       " ('радиосветим', 1),\n",
       " ('омсозда', 1),\n",
       " ('кленёт', 1),\n",
       " ('хакинтошер', 1),\n",
       " ('хорнблоуэр', 1),\n",
       " ('сyclon', 1),\n",
       " ('многоволнов', 1),\n",
       " ('зазывалок', 1),\n",
       " ('юнибадиев', 1),\n",
       " ('конфігураці', 1)]"
      ]
     },
     "execution_count": 10,
     "metadata": {},
     "output_type": "execute_result"
    }
   ],
   "source": [
    "import re\n",
    "\n",
    "ordered_wc.filter(lambda wc: not re.match('[a-z]', wc[0])). \\\n",
    "    sortBy(lambda wc: wc[1]). \\\n",
    "    take(30)"
   ]
  },
  {
   "cell_type": "code",
   "execution_count": 11,
   "metadata": {
    "collapsed": false,
    "scrolled": true
   },
   "outputs": [
    {
     "data": {
      "text/plain": [
       "211724"
      ]
     },
     "execution_count": 11,
     "metadata": {},
     "output_type": "execute_result"
    }
   ],
   "source": [
    "freq_words = ordered_wc.filter(lambda wc: wc[1] > 1)\n",
    "freq_words.count()"
   ]
  },
  {
   "cell_type": "code",
   "execution_count": 12,
   "metadata": {
    "collapsed": false,
    "scrolled": true
   },
   "outputs": [
    {
     "data": {
      "text/plain": [
       "0"
      ]
     },
     "execution_count": 12,
     "metadata": {},
     "output_type": "execute_result"
    }
   ],
   "source": [
    "unusual_words = freq_words.filter(lambda wc: re.match('(.)\\\\1{2}', wc[0]))\n",
    "unusual_words.count()"
   ]
  },
  {
   "cell_type": "code",
   "execution_count": 17,
   "metadata": {
    "collapsed": true
   },
   "outputs": [
    {
     "data": {
      "text/plain": [
       "[('информацияпрофессиональн', 2),\n",
       " ('электроэнцефалографическ', 2),\n",
       " ('госкомпредпринимательств', 2),\n",
       " ('ремонтопригодностьразбер', 2),\n",
       " ('генераторслучайныхчисел', 2),\n",
       " ('человеконенавистничеств', 2),\n",
       " ('уровеньжурналарегистрац', 2),\n",
       " ('электрокардиостимулятор', 2),\n",
       " ('электропреобразовательн', 2),\n",
       " ('высокопревосходительств', 3),\n",
       " ('характеристикипроцессор', 4),\n",
       " ('электростеклоподъемник', 2),\n",
       " ('записьжурналарегистрац', 2),\n",
       " ('росалкогольрегулирован', 2),\n",
       " ('электрораспределительн', 2),\n",
       " ('обработкавнешнегособыт', 2),\n",
       " ('хранилищеобщихнастроек', 2),\n",
       " ('типыконтактнойинформац', 2),\n",
       " ('микроэлектромеханическ', 9),\n",
       " ('рекламораспространител', 11)]"
      ]
     },
     "execution_count": 17,
     "metadata": {},
     "output_type": "execute_result"
    }
   ],
   "source": [
    "freq_words.filter(lambda wc: not re.match('[a-z]', wc[0])). \\\n",
    "    filter(lambda wc: len(wc[0]) < 25). \\\n",
    "    sortBy(lambda wc: len(wc[0]), ascending=False). \\\n",
    "    take(20)"
   ]
  },
  {
   "cell_type": "code",
   "execution_count": 18,
   "metadata": {
    "collapsed": true
   },
   "outputs": [],
   "source": [
    "words = freq_words.filter(lambda wc: not re.match('(.)\\\\1{2}', wc[0]))"
   ]
  },
  {
   "cell_type": "code",
   "execution_count": 19,
   "metadata": {
    "collapsed": false
   },
   "outputs": [
    {
     "data": {
      "text/plain": [
       "108988"
      ]
     },
     "execution_count": 19,
     "metadata": {},
     "output_type": "execute_result"
    }
   ],
   "source": [
    "russian_words = words.filter(lambda wc: not re.match('[a-z]', wc[0]) and len(wc[0]) < 25)\n",
    "russian_words.count()"
   ]
  },
  {
   "cell_type": "code",
   "execution_count": 20,
   "metadata": {
    "collapsed": false,
    "scrolled": true
   },
   "outputs": [
    {
     "data": {
      "text/plain": [
       "102736"
      ]
     },
     "execution_count": 20,
     "metadata": {},
     "output_type": "execute_result"
    }
   ],
   "source": [
    "english_wrods = words.filter(lambda wc: re.match('[a-z]', wc[0]) and len(wc[0]) < 15)\n",
    "english_wrods.count()"
   ]
  },
  {
   "cell_type": "code",
   "execution_count": 21,
   "metadata": {
    "collapsed": true
   },
   "outputs": [],
   "source": [
    "def is_norm_word(word: str):\n",
    "    length = len(word)\n",
    "    is_eng = re.match('[a-z]', word)\n",
    "    return length > 2 and ((not is_eng and length < 25) or (is_eng and length < 15))"
   ]
  },
  {
   "cell_type": "code",
   "execution_count": 22,
   "metadata": {
    "collapsed": false
   },
   "outputs": [
    {
     "data": {
      "text/plain": [
       "211724"
      ]
     },
     "execution_count": 22,
     "metadata": {},
     "output_type": "execute_result"
    }
   ],
   "source": [
    "good_words = words.map(lambda wc: wc). \\\n",
    "    filter(lambda w: is_norm_word(w[0]))\n",
    "good_words.count()"
   ]
  },
  {
   "cell_type": "code",
   "execution_count": 24,
   "metadata": {
    "collapsed": true
   },
   "outputs": [
    {
     "data": {
      "text/plain": [
       "[('информацияпрофессиональн', 2),\n",
       " ('электроэнцефалографическ', 2),\n",
       " ('госкомпредпринимательств', 2),\n",
       " ('ремонтопригодностьразбер', 2),\n",
       " ('генераторслучайныхчисел', 2),\n",
       " ('человеконенавистничеств', 2),\n",
       " ('уровеньжурналарегистрац', 2),\n",
       " ('электрокардиостимулятор', 2),\n",
       " ('электропреобразовательн', 2),\n",
       " ('высокопревосходительств', 3),\n",
       " ('характеристикипроцессор', 4),\n",
       " ('электростеклоподъемник', 2),\n",
       " ('записьжурналарегистрац', 2),\n",
       " ('росалкогольрегулирован', 2),\n",
       " ('электрораспределительн', 2),\n",
       " ('обработкавнешнегособыт', 2),\n",
       " ('хранилищеобщихнастроек', 2),\n",
       " ('типыконтактнойинформац', 2),\n",
       " ('микроэлектромеханическ', 9),\n",
       " ('рекламораспространител', 11)]"
      ]
     },
     "execution_count": 24,
     "metadata": {},
     "output_type": "execute_result"
    }
   ],
   "source": [
    "good_words.sortBy(lambda w: len(w[0]), ascending=False).take(20)"
   ]
  },
  {
   "cell_type": "code",
   "execution_count": 25,
   "metadata": {
    "collapsed": false
   },
   "outputs": [
    {
     "data": {
      "text/plain": [
       "[]"
      ]
     },
     "execution_count": 25,
     "metadata": {},
     "output_type": "execute_result"
    }
   ],
   "source": [
    "good_words.filter(lambda w: len(w[0]) == 2).sortBy(lambda w: w[1], ascending=False).take(20)"
   ]
  },
  {
   "cell_type": "code",
   "execution_count": 26,
   "metadata": {
    "collapsed": true
   },
   "outputs": [
    {
     "data": {
      "text/plain": [
       "[('котор', 91230),\n",
       " ('так', 67583),\n",
       " ('сво', 65307),\n",
       " ('сам', 64590),\n",
       " ('одн', 58794),\n",
       " ('возможн', 57467),\n",
       " ('прост', 57407),\n",
       " ('нов', 57323),\n",
       " ('дан', 57166),\n",
       " ('друг', 56656),\n",
       " ('перв', 55448),\n",
       " ('работ', 53544),\n",
       " ('работа', 52281),\n",
       " ('нужн', 48748),\n",
       " ('сдела', 48598),\n",
       " ('очен', 47936),\n",
       " ('врем', 47706),\n",
       " ('получ', 47430),\n",
       " ('кажд', 45413),\n",
       " ('нескольк', 45291)]"
      ]
     },
     "execution_count": 26,
     "metadata": {},
     "output_type": "execute_result"
    }
   ],
   "source": [
    "good_words.sortBy(lambda w: w[1], ascending=False).take(20)"
   ]
  },
  {
   "cell_type": "code",
   "execution_count": 41,
   "metadata": {
    "collapsed": false
   },
   "outputs": [
    {
     "data": {
      "text/plain": [
       "211724"
      ]
     },
     "execution_count": 41,
     "metadata": {},
     "output_type": "execute_result"
    }
   ],
   "source": [
    "word_idx = good_words.map(lambda w: w[0]). \\\n",
    "    repartition(4). \\\n",
    "    zipWithIndex()\n",
    "word_idx.count()"
   ]
  },
  {
   "cell_type": "code",
   "execution_count": 42,
   "metadata": {
    "collapsed": true
   },
   "outputs": [],
   "source": [
    "word_idx.repartition(1).map(lambda x: json.dumps(x)).saveAsTextFile('hdfs://master:54310/word_idx')"
   ]
  },
  {
   "cell_type": "code",
   "execution_count": 44,
   "metadata": {
    "collapsed": false
   },
   "outputs": [],
   "source": [
    "word_idx = sc.textFile('hdfs://master:54310/word_idx').map(lambda line: json.loads(line)).collectAsMap()"
   ]
  },
  {
   "cell_type": "code",
   "execution_count": 45,
   "metadata": {
    "collapsed": false
   },
   "outputs": [
    {
     "data": {
      "text/plain": [
       "dict"
      ]
     },
     "execution_count": 45,
     "metadata": {},
     "output_type": "execute_result"
    }
   ],
   "source": [
    "type(word_idx)"
   ]
  },
  {
   "cell_type": "code",
   "execution_count": 46,
   "metadata": {
    "collapsed": false
   },
   "outputs": [
    {
     "data": {
      "text/plain": [
       "211724"
      ]
     },
     "execution_count": 46,
     "metadata": {},
     "output_type": "execute_result"
    }
   ],
   "source": [
    "len(word_idx)"
   ]
  }
 ],
 "metadata": {
  "kernelspec": {
   "display_name": "Python 3",
   "language": "python",
   "name": "python3"
  },
  "language_info": {
   "codemirror_mode": {
    "name": "ipython",
    "version": 3
   },
   "file_extension": ".py",
   "mimetype": "text/x-python",
   "name": "python",
   "nbconvert_exporter": "python",
   "pygments_lexer": "ipython3",
   "version": "3.4.3"
  }
 },
 "nbformat": 4,
 "nbformat_minor": 0
}
