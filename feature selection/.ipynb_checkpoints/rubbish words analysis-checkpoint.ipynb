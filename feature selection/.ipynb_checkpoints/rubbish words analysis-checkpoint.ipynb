{
 "cells": [
  {
   "cell_type": "code",
   "execution_count": 1,
   "metadata": {
    "collapsed": true
   },
   "outputs": [],
   "source": [
    "from pyspark import RDD\n",
    "import json\n",
    "#from pyspark.mllib.feature import HashingTF\n",
    "from pyspark.mllib.feature import IDF\n",
    "import numpy as np\n",
    "from pyspark.mllib.linalg import Vectors"
   ]
  },
  {
   "cell_type": "code",
   "execution_count": 2,
   "metadata": {
    "collapsed": true
   },
   "outputs": [],
   "source": [
    "class StoringTF(object):\n",
    "    def fit(self, vacabulary):\n",
    "        self.word_idx = vacabulary.distinct().zipWithIndex().collectAsMap()\n",
    "        self.numFeatures = len(self.word_idx)\n",
    "        \n",
    "    def indexOf(self, term):\n",
    "        \"\"\" Returns the index of the input term. \"\"\"\n",
    "        return self.word_idx[term]\n",
    "\n",
    "    def transform(self, document):\n",
    "        \"\"\"\n",
    "        Transforms the input document (list of terms) to term frequency\n",
    "        vectors, or transform the RDD of document to RDD of term\n",
    "        frequency vectors.\n",
    "        \"\"\"\n",
    "        if isinstance(document, RDD):\n",
    "            return document.map(self.transform)\n",
    "\n",
    "        freq = {}\n",
    "        for term in document:\n",
    "            i = self.indexOf(term)\n",
    "            freq[i] = freq.get(i, 0) + 1.0\n",
    "        return Vectors.sparse(self.numFeatures, freq.items())"
   ]
  },
  {
   "cell_type": "code",
   "execution_count": null,
   "metadata": {
    "collapsed": true
   },
   "outputs": [],
   "source": [
    "data = sc.textFile('hdfs://master:54310/ml_data_temp'). \\\n",
    "    map(lambda line: json.loads(line))"
   ]
  },
  {
   "cell_type": "code",
   "execution_count": 59,
   "metadata": {
    "collapsed": false
   },
   "outputs": [
    {
     "data": {
      "text/plain": [
       "112807"
      ]
     },
     "execution_count": 59,
     "metadata": {},
     "output_type": "execute_result"
    }
   ],
   "source": [
    "documents_1st = data.map(lambda x: x['Features'])\n",
    "documents_1st.cache()\n",
    "vocabulary_1st = documents_1st.flatMap(lambda d: d).distinct()\n",
    "storingTF_1st = StoringTF()\n",
    "storingTF_1st.fit(vocabulary_1st)\n",
    "tf_1st = storingTF_1st.transform(documents_1st)\n",
    "idf_1st = IDF().fit(tf_1st)\n",
    "tfidf_1st = idf_1st.transform(tf_1st)\n",
    "tf_1st.cache()\n",
    "tf_1st.count()\n",
    "tfidf_1st.cache()\n",
    "tfidf_1st.count()"
   ]
  },
  {
   "cell_type": "code",
   "execution_count": 60,
   "metadata": {
    "collapsed": false,
    "scrolled": true
   },
   "outputs": [],
   "source": [
    "wc_1st = documents_1st.flatMap(lambda d: set(d)). \\\n",
    "    map(lambda w: (w,1)). \\\n",
    "    reduceByKey(lambda a,b: a+b). \\\n",
    "    map(lambda wc: (storingTF_1st.indexOf(wc[0]), wc[1])). \\\n",
    "    cache()"
   ]
  },
  {
   "cell_type": "code",
   "execution_count": 12,
   "metadata": {
    "collapsed": false,
    "scrolled": true
   },
   "outputs": [
    {
     "data": {
      "text/plain": [
       "292094"
      ]
     },
     "execution_count": 12,
     "metadata": {},
     "output_type": "execute_result"
    }
   ],
   "source": [
    "documents_1st.flatMap(lambda d: set(d)).map(lambda w: storingTF_1st.indexOf(w)).distinct().count()"
   ]
  },
  {
   "cell_type": "code",
   "execution_count": 10,
   "metadata": {
    "collapsed": true
   },
   "outputs": [],
   "source": [
    "def cast_sparse_vector_to_dict_and_scale(v):\n",
    "    max_v = v.values.max()\n",
    "    return dict([(int(i), v[int(i)] / max_v) for i in v.indices])\n",
    "\n",
    "import operator\n",
    "def order_dict_by_values(d: dict, asc = True):\n",
    "    return sorted(d.items(), key = operator.itemgetter(1), reverse= not asc)\n",
    "\n",
    "def filter_values_under_percent(vec, percent: int):\n",
    "    tfidfs = cast_sparse_vector_to_dict_and_scale(vec)\n",
    "    ordered_tfidfs = order_dict_by_values(tfidfs)\n",
    "    indexes = list(map(lambda k: k[0], ordered_tfidfs))\n",
    "    index = int(len(indexes) * percent / 100)\n",
    "    return indexes[:index]"
   ]
  },
  {
   "cell_type": "code",
   "execution_count": 11,
   "metadata": {
    "collapsed": true
   },
   "outputs": [],
   "source": [
    "import pandas as pd"
   ]
  },
  {
   "cell_type": "code",
   "execution_count": 13,
   "metadata": {
    "collapsed": true
   },
   "outputs": [],
   "source": [
    "def exclude_words_bellow_threshold(vec, t: float):\n",
    "    tfidfs = cast_sparse_vector_to_dict_and_scale(vec)\n",
    "    return [i_tfidf[0] for i_tfidf in tfidfs.items() if i_tfidf[1] < t]"
   ]
  },
  {
   "cell_type": "code",
   "execution_count": null,
   "metadata": {
    "collapsed": false,
    "scrolled": true
   },
   "outputs": [],
   "source": [
    "experiments_2 = {}\n",
    "for p in [.9, .8, .7, .6, .5, .4, .3, .2, .1, .05, .01, .005]:\n",
    "    excluded = tfidf_1st.flatMap(lambda vec: exclude_words_bellow_threshold(vec, p)). \\\n",
    "        map(lambda i: (i, 1)). \\\n",
    "        reduceByKey(lambda a,b: a+b)\n",
    "    excluded.cache()\n",
    "    stat = wc.join(excluded).map(lambda s: (s[0], s[1][1]/s[1][0]))\n",
    "    stat.cache()\n",
    "    experiment = {}\n",
    "    for t in [.99, .95, .9, .8, .7, .6, .5, .4, .3, .2, .1]:\n",
    "        excluded_count = stat.filter(lambda s: s[1] > t).count()\n",
    "        experiment[t] = excluded_count\n",
    "        print(\"p: {0}, t: {1}, count: {2}\".format(p, t, excluded_count))\n",
    "    stat.unpersist()\n",
    "    excluded.unpersist()\n",
    "    experiments_2[p] = experiment    \n",
    "pd.DataFrame(experiments_2)"
   ]
  },
  {
   "cell_type": "code",
   "execution_count": 27,
   "metadata": {
    "collapsed": false,
    "scrolled": false
   },
   "outputs": [
    {
     "name": "stdout",
     "output_type": "stream",
     "text": [
      "p: 0.9, count: 89379\n"
     ]
    }
   ],
   "source": [
    "experiments_3 = {}\n",
    "for p in [.9, .8, .7, .6, .5, .4, .3, .2, .1, .05, .01, .005]:\n",
    "    excluded = tfidf_1st.flatMap(lambda vec: exclude_words_bellow_threshold(vec, p)). \\\n",
    "        map(lambda i: (i, 1)). \\\n",
    "        reduceByKey(lambda a,b: a+b)\n",
    "    excluded.cache()\n",
    "    stat = wc.join(excluded).map(lambda s: (s[0], s[1][1] == [1][0]))\n",
    "    stat.cache()\n",
    "    excluded_count = stat.filter(lambda s: s[1]).count()\n",
    "    experiments_3[p] = excluded_count\n",
    "    print(\"p: {0}, count: {1}\".format(p,excluded_count))\n",
    "    stat.unpersist()\n",
    "    excluded.unpersist()   "
   ]
  },
  {
   "cell_type": "code",
   "execution_count": 64,
   "metadata": {
    "collapsed": false
   },
   "outputs": [
    {
     "data": {
      "text/plain": [
       "292094"
      ]
     },
     "execution_count": 64,
     "metadata": {},
     "output_type": "execute_result"
    }
   ],
   "source": [
    "idx_word_1st = dict([(idx,w) for w,idx in storingTF_1st.word_idx.items()])\n",
    "len(idx_word_1st)"
   ]
  },
  {
   "cell_type": "code",
   "execution_count": 65,
   "metadata": {
    "collapsed": false
   },
   "outputs": [],
   "source": [
    "excluded_1st = tfidf_1st.flatMap(lambda vec: exclude_words_bellow_threshold(vec, .9)). \\\n",
    "        map(lambda i: (i, 1)). \\\n",
    "        reduceByKey(lambda a,b: a+b)\n",
    "stat_1st = wc_1st.join(excluded_1st).map(lambda s: (s[0], s[1][1] == [1][0]))\n",
    "excluded_words_1st = stat_1st.filter(lambda s: s[1]).map(lambda x: idx_word_1st[x[0]]).collect()"
   ]
  },
  {
   "cell_type": "code",
   "execution_count": 66,
   "metadata": {
    "collapsed": false
   },
   "outputs": [
    {
     "data": {
      "text/plain": [
       "89379"
      ]
     },
     "execution_count": 66,
     "metadata": {},
     "output_type": "execute_result"
    }
   ],
   "source": [
    "len(excluded_words_1st)"
   ]
  },
  {
   "cell_type": "code",
   "execution_count": 67,
   "metadata": {
    "collapsed": true
   },
   "outputs": [],
   "source": [
    "set_of_excluded_words_1st = set(excluded_words_1st)"
   ]
  },
  {
   "cell_type": "code",
   "execution_count": 68,
   "metadata": {
    "collapsed": false
   },
   "outputs": [
    {
     "data": {
      "text/plain": [
       "89379"
      ]
     },
     "execution_count": 68,
     "metadata": {},
     "output_type": "execute_result"
    }
   ],
   "source": [
    "len(set_of_excluded_words_1st)"
   ]
  },
  {
   "cell_type": "code",
   "execution_count": 69,
   "metadata": {
    "collapsed": true
   },
   "outputs": [],
   "source": [
    "def exclude_words(doc: dict, excluded):\n",
    "    doc['Features'] = [w for w in doc['Features'] if w not in excluded]\n",
    "    return doc"
   ]
  },
  {
   "cell_type": "code",
   "execution_count": 36,
   "metadata": {
    "collapsed": false
   },
   "outputs": [
    {
     "data": {
      "text/plain": [
       "411.90720434015554"
      ]
     },
     "execution_count": 36,
     "metadata": {},
     "output_type": "execute_result"
    }
   ],
   "source": [
    "data.map(lambda x: exclude_words(x, set_of_excluded_words_1st)). \\\n",
    "    map(lambda x: len(x['Features'])).mean()"
   ]
  },
  {
   "cell_type": "code",
   "execution_count": 29,
   "metadata": {
    "collapsed": false
   },
   "outputs": [
    {
     "data": {
      "text/plain": [
       "415.06630794188277"
      ]
     },
     "execution_count": 29,
     "metadata": {},
     "output_type": "execute_result"
    }
   ],
   "source": [
    "data.map(lambda x: len(x['Features'])).mean()"
   ]
  },
  {
   "cell_type": "code",
   "execution_count": 70,
   "metadata": {
    "collapsed": false
   },
   "outputs": [],
   "source": [
    "stage_1st = data.map(lambda x: exclude_words(x, set_of_excluded_words_1st)).filter(lambda x: x['Features'])"
   ]
  },
  {
   "cell_type": "code",
   "execution_count": 95,
   "metadata": {
    "collapsed": true
   },
   "outputs": [],
   "source": [
    "stage_1st.map(json.dumps). \\\n",
    "    repartition(6). \\\n",
    "    saveAsTextFile('hdfs://master:54310/excluding_temp')"
   ]
  },
  {
   "cell_type": "code",
   "execution_count": 71,
   "metadata": {
    "collapsed": false,
    "scrolled": false
   },
   "outputs": [
    {
     "data": {
      "text/plain": [
       "112806"
      ]
     },
     "execution_count": 71,
     "metadata": {},
     "output_type": "execute_result"
    }
   ],
   "source": [
    "stage_1st.count()"
   ]
  },
  {
   "cell_type": "code",
   "execution_count": 72,
   "metadata": {
    "collapsed": false,
    "scrolled": false
   },
   "outputs": [
    {
     "data": {
      "text/plain": [
       "112807"
      ]
     },
     "execution_count": 72,
     "metadata": {},
     "output_type": "execute_result"
    }
   ],
   "source": [
    "data.count()"
   ]
  },
  {
   "cell_type": "code",
   "execution_count": 96,
   "metadata": {
    "collapsed": true
   },
   "outputs": [],
   "source": [
    "stage_1st = sc.textFile('hdfs://master:54310/excluding_temp'). \\\n",
    "    map(json.loads)"
   ]
  },
  {
   "cell_type": "code",
   "execution_count": 97,
   "metadata": {
    "collapsed": false
   },
   "outputs": [
    {
     "data": {
      "text/plain": [
       "112806"
      ]
     },
     "execution_count": 97,
     "metadata": {},
     "output_type": "execute_result"
    }
   ],
   "source": [
    "documents_2nd = stage_1st.map(lambda x: x['Features'])\n",
    "documents_2nd.cache()\n",
    "vocabulary_2nd = documents_2nd.flatMap(lambda d: d).distinct()\n",
    "storingTF_2nd = StoringTF()\n",
    "storingTF_2nd.fit(vocabulary_2nd)\n",
    "tf_2nd = storingTF_2nd.transform(documents_2nd)\n",
    "idf_2nd = IDF().fit(tf_2nd)\n",
    "tfidf_2nd = idf_2nd.transform(tf_2nd)\n",
    "tf_2nd.cache()\n",
    "tf_2nd.count()\n",
    "tfidf_2nd.cache()\n",
    "tfidf_2nd.count()"
   ]
  },
  {
   "cell_type": "code",
   "execution_count": 51,
   "metadata": {
    "collapsed": true
   },
   "outputs": [
    {
     "name": "stdout",
     "output_type": "stream",
     "text": [
      "p: 0.9, t: 0.9999, count: 136478\n",
      "p: 0.9, t: 0.99, count: 136479\n",
      "p: 0.9, t: 0.95, count: 136533\n",
      "p: 0.9, t: 0.9, count: 136742\n",
      "p: 0.9, t: 0.8, count: 137759\n",
      "p: 0.9, t: 0.7, count: 140693\n",
      "p: 0.9, t: 0.6, count: 147713\n",
      "p: 0.9, t: 0.5, count: 149952\n",
      "p: 0.9, t: 0.4, count: 156328\n",
      "p: 0.9, t: 0.3, count: 162972\n",
      "p: 0.9, t: 0.2, count: 169179\n",
      "p: 0.9, t: 0.1, count: 177442\n",
      "p: 0.8, t: 0.9999, count: 135982\n",
      "p: 0.8, t: 0.99, count: 135987\n",
      "p: 0.8, t: 0.95, count: 136049\n",
      "p: 0.8, t: 0.9, count: 136249\n",
      "p: 0.8, t: 0.8, count: 137245\n",
      "p: 0.8, t: 0.7, count: 140167\n",
      "p: 0.8, t: 0.6, count: 147170\n",
      "p: 0.8, t: 0.5, count: 149388\n",
      "p: 0.8, t: 0.4, count: 155947\n",
      "p: 0.8, t: 0.3, count: 162652\n",
      "p: 0.8, t: 0.2, count: 168908\n",
      "p: 0.8, t: 0.1, count: 177283\n",
      "p: 0.7, t: 0.9999, count: 135249\n",
      "p: 0.7, t: 0.99, count: 135251\n",
      "p: 0.7, t: 0.95, count: 135320\n",
      "p: 0.7, t: 0.9, count: 135510\n",
      "p: 0.7, t: 0.8, count: 136523\n",
      "p: 0.7, t: 0.7, count: 139396\n",
      "p: 0.7, t: 0.6, count: 146317\n",
      "p: 0.7, t: 0.5, count: 148523\n",
      "p: 0.7, t: 0.4, count: 155397\n",
      "p: 0.7, t: 0.3, count: 162189\n",
      "p: 0.7, t: 0.2, count: 168501\n",
      "p: 0.7, t: 0.1, count: 177031\n",
      "p: 0.6, t: 0.9999, count: 134200\n",
      "p: 0.6, t: 0.99, count: 134201\n",
      "p: 0.6, t: 0.95, count: 134271\n",
      "p: 0.6, t: 0.9, count: 134465\n",
      "p: 0.6, t: 0.8, count: 135471\n",
      "p: 0.6, t: 0.7, count: 138302\n",
      "p: 0.6, t: 0.6, count: 145091\n",
      "p: 0.6, t: 0.5, count: 147259\n",
      "p: 0.6, t: 0.4, count: 154598\n",
      "p: 0.6, t: 0.3, count: 161570\n",
      "p: 0.6, t: 0.2, count: 167863\n",
      "p: 0.6, t: 0.1, count: 176514\n",
      "p: 0.5, t: 0.9999, count: 132445\n",
      "p: 0.5, t: 0.99, count: 132452\n",
      "p: 0.5, t: 0.95, count: 132516\n",
      "p: 0.5, t: 0.9, count: 132706\n",
      "p: 0.5, t: 0.8, count: 133685\n",
      "p: 0.5, t: 0.7, count: 136469\n",
      "p: 0.5, t: 0.6, count: 143099\n",
      "p: 0.5, t: 0.5, count: 145231\n",
      "p: 0.5, t: 0.4, count: 153210\n",
      "p: 0.5, t: 0.3, count: 160322\n",
      "p: 0.5, t: 0.2, count: 166691\n",
      "p: 0.5, t: 0.1, count: 175505\n",
      "p: 0.4, t: 0.9999, count: 129556\n",
      "p: 0.4, t: 0.99, count: 129558\n",
      "p: 0.4, t: 0.95, count: 129614\n",
      "p: 0.4, t: 0.9, count: 129799\n",
      "p: 0.4, t: 0.8, count: 130749\n",
      "p: 0.4, t: 0.7, count: 133450\n",
      "p: 0.4, t: 0.6, count: 139772\n",
      "p: 0.4, t: 0.5, count: 141809\n",
      "p: 0.4, t: 0.4, count: 150681\n",
      "p: 0.4, t: 0.3, count: 158130\n",
      "p: 0.4, t: 0.2, count: 164599\n",
      "p: 0.4, t: 0.1, count: 173697\n",
      "p: 0.3, t: 0.9999, count: 124550\n",
      "p: 0.3, t: 0.99, count: 124552\n",
      "p: 0.3, t: 0.95, count: 124604\n",
      "p: 0.3, t: 0.9, count: 124779\n",
      "p: 0.3, t: 0.8, count: 125689\n",
      "p: 0.3, t: 0.7, count: 128201\n",
      "p: 0.3, t: 0.6, count: 134085\n",
      "p: 0.3, t: 0.5, count: 136032\n",
      "p: 0.3, t: 0.4, count: 146190\n",
      "p: 0.3, t: 0.3, count: 154014\n",
      "p: 0.3, t: 0.2, count: 160507\n",
      "p: 0.3, t: 0.1, count: 170089\n",
      "p: 0.2, t: 0.9999, count: 114807\n",
      "p: 0.2, t: 0.99, count: 114808\n",
      "p: 0.2, t: 0.95, count: 114863\n",
      "p: 0.2, t: 0.9, count: 115021\n",
      "p: 0.2, t: 0.8, count: 115804\n",
      "p: 0.2, t: 0.7, count: 118038\n",
      "p: 0.2, t: 0.6, count: 123102\n",
      "p: 0.2, t: 0.5, count: 124799\n",
      "p: 0.2, t: 0.4, count: 136707\n",
      "p: 0.2, t: 0.3, count: 144939\n",
      "p: 0.2, t: 0.2, count: 151479\n",
      "p: 0.2, t: 0.1, count: 161489\n",
      "p: 0.1, t: 0.9999, count: 89323\n",
      "p: 0.1, t: 0.99, count: 89324\n",
      "p: 0.1, t: 0.95, count: 89362\n",
      "p: 0.1, t: 0.9, count: 89499\n",
      "p: 0.1, t: 0.8, count: 90027\n",
      "p: 0.1, t: 0.7, count: 91564\n",
      "p: 0.1, t: 0.6, count: 95031\n",
      "p: 0.1, t: 0.5, count: 96185\n",
      "p: 0.1, t: 0.4, count: 109543\n",
      "p: 0.1, t: 0.3, count: 117305\n",
      "p: 0.1, t: 0.2, count: 123069\n",
      "p: 0.1, t: 0.1, count: 132781\n",
      "p: 0.05, t: 0.9999, count: 57950\n",
      "p: 0.05, t: 0.99, count: 57952\n",
      "p: 0.05, t: 0.95, count: 57970\n",
      "p: 0.05, t: 0.9, count: 58050\n",
      "p: 0.05, t: 0.8, count: 58400\n",
      "p: 0.05, t: 0.7, count: 59339\n",
      "p: 0.05, t: 0.6, count: 61287\n",
      "p: 0.05, t: 0.5, count: 61961\n",
      "p: 0.05, t: 0.4, count: 72412\n",
      "p: 0.05, t: 0.3, count: 78108\n",
      "p: 0.05, t: 0.2, count: 82205\n",
      "p: 0.05, t: 0.1, count: 89285\n",
      "p: 0.01, t: 0.9999, count: 13156\n",
      "p: 0.01, t: 0.99, count: 13156\n",
      "p: 0.01, t: 0.95, count: 13165\n",
      "p: 0.01, t: 0.9, count: 13177\n",
      "p: 0.01, t: 0.8, count: 13245\n",
      "p: 0.01, t: 0.7, count: 13432\n",
      "p: 0.01, t: 0.6, count: 13804\n",
      "p: 0.01, t: 0.5, count: 13955\n",
      "p: 0.01, t: 0.4, count: 16786\n",
      "p: 0.01, t: 0.3, count: 18349\n",
      "p: 0.01, t: 0.2, count: 19330\n",
      "p: 0.01, t: 0.1, count: 21140\n",
      "p: 0.005, t: 0.9999, count: 6534\n",
      "p: 0.005, t: 0.99, count: 6534\n",
      "p: 0.005, t: 0.95, count: 6537\n",
      "p: 0.005, t: 0.9, count: 6543\n",
      "p: 0.005, t: 0.8, count: 6582\n",
      "p: 0.005, t: 0.7, count: 6682\n",
      "p: 0.005, t: 0.6, count: 6894\n",
      "p: 0.005, t: 0.5, count: 6976\n",
      "p: 0.005, t: 0.4, count: 8427\n",
      "p: 0.005, t: 0.3, count: 9174\n",
      "p: 0.005, t: 0.2, count: 9672\n",
      "p: 0.005, t: 0.1, count: 10608\n"
     ]
    },
    {
     "data": {
      "text/html": [
       "<div>\n",
       "<table border=\"1\" class=\"dataframe\">\n",
       "  <thead>\n",
       "    <tr style=\"text-align: right;\">\n",
       "      <th></th>\n",
       "      <th>0.005</th>\n",
       "      <th>0.01</th>\n",
       "      <th>0.05</th>\n",
       "      <th>0.1</th>\n",
       "      <th>0.2</th>\n",
       "      <th>0.3</th>\n",
       "      <th>0.4</th>\n",
       "      <th>0.5</th>\n",
       "      <th>0.6</th>\n",
       "      <th>0.7</th>\n",
       "      <th>0.8</th>\n",
       "      <th>0.9</th>\n",
       "    </tr>\n",
       "  </thead>\n",
       "  <tbody>\n",
       "    <tr>\n",
       "      <th>0.1000</th>\n",
       "      <td>10608</td>\n",
       "      <td>21140</td>\n",
       "      <td>89285</td>\n",
       "      <td>132781</td>\n",
       "      <td>161489</td>\n",
       "      <td>170089</td>\n",
       "      <td>173697</td>\n",
       "      <td>175505</td>\n",
       "      <td>176514</td>\n",
       "      <td>177031</td>\n",
       "      <td>177283</td>\n",
       "      <td>177442</td>\n",
       "    </tr>\n",
       "    <tr>\n",
       "      <th>0.2000</th>\n",
       "      <td>9672</td>\n",
       "      <td>19330</td>\n",
       "      <td>82205</td>\n",
       "      <td>123069</td>\n",
       "      <td>151479</td>\n",
       "      <td>160507</td>\n",
       "      <td>164599</td>\n",
       "      <td>166691</td>\n",
       "      <td>167863</td>\n",
       "      <td>168501</td>\n",
       "      <td>168908</td>\n",
       "      <td>169179</td>\n",
       "    </tr>\n",
       "    <tr>\n",
       "      <th>0.3000</th>\n",
       "      <td>9174</td>\n",
       "      <td>18349</td>\n",
       "      <td>78108</td>\n",
       "      <td>117305</td>\n",
       "      <td>144939</td>\n",
       "      <td>154014</td>\n",
       "      <td>158130</td>\n",
       "      <td>160322</td>\n",
       "      <td>161570</td>\n",
       "      <td>162189</td>\n",
       "      <td>162652</td>\n",
       "      <td>162972</td>\n",
       "    </tr>\n",
       "    <tr>\n",
       "      <th>0.4000</th>\n",
       "      <td>8427</td>\n",
       "      <td>16786</td>\n",
       "      <td>72412</td>\n",
       "      <td>109543</td>\n",
       "      <td>136707</td>\n",
       "      <td>146190</td>\n",
       "      <td>150681</td>\n",
       "      <td>153210</td>\n",
       "      <td>154598</td>\n",
       "      <td>155397</td>\n",
       "      <td>155947</td>\n",
       "      <td>156328</td>\n",
       "    </tr>\n",
       "    <tr>\n",
       "      <th>0.5000</th>\n",
       "      <td>6976</td>\n",
       "      <td>13955</td>\n",
       "      <td>61961</td>\n",
       "      <td>96185</td>\n",
       "      <td>124799</td>\n",
       "      <td>136032</td>\n",
       "      <td>141809</td>\n",
       "      <td>145231</td>\n",
       "      <td>147259</td>\n",
       "      <td>148523</td>\n",
       "      <td>149388</td>\n",
       "      <td>149952</td>\n",
       "    </tr>\n",
       "    <tr>\n",
       "      <th>0.6000</th>\n",
       "      <td>6894</td>\n",
       "      <td>13804</td>\n",
       "      <td>61287</td>\n",
       "      <td>95031</td>\n",
       "      <td>123102</td>\n",
       "      <td>134085</td>\n",
       "      <td>139772</td>\n",
       "      <td>143099</td>\n",
       "      <td>145091</td>\n",
       "      <td>146317</td>\n",
       "      <td>147170</td>\n",
       "      <td>147713</td>\n",
       "    </tr>\n",
       "    <tr>\n",
       "      <th>0.7000</th>\n",
       "      <td>6682</td>\n",
       "      <td>13432</td>\n",
       "      <td>59339</td>\n",
       "      <td>91564</td>\n",
       "      <td>118038</td>\n",
       "      <td>128201</td>\n",
       "      <td>133450</td>\n",
       "      <td>136469</td>\n",
       "      <td>138302</td>\n",
       "      <td>139396</td>\n",
       "      <td>140167</td>\n",
       "      <td>140693</td>\n",
       "    </tr>\n",
       "    <tr>\n",
       "      <th>0.8000</th>\n",
       "      <td>6582</td>\n",
       "      <td>13245</td>\n",
       "      <td>58400</td>\n",
       "      <td>90027</td>\n",
       "      <td>115804</td>\n",
       "      <td>125689</td>\n",
       "      <td>130749</td>\n",
       "      <td>133685</td>\n",
       "      <td>135471</td>\n",
       "      <td>136523</td>\n",
       "      <td>137245</td>\n",
       "      <td>137759</td>\n",
       "    </tr>\n",
       "    <tr>\n",
       "      <th>0.9000</th>\n",
       "      <td>6543</td>\n",
       "      <td>13177</td>\n",
       "      <td>58050</td>\n",
       "      <td>89499</td>\n",
       "      <td>115021</td>\n",
       "      <td>124779</td>\n",
       "      <td>129799</td>\n",
       "      <td>132706</td>\n",
       "      <td>134465</td>\n",
       "      <td>135510</td>\n",
       "      <td>136249</td>\n",
       "      <td>136742</td>\n",
       "    </tr>\n",
       "    <tr>\n",
       "      <th>0.9500</th>\n",
       "      <td>6537</td>\n",
       "      <td>13165</td>\n",
       "      <td>57970</td>\n",
       "      <td>89362</td>\n",
       "      <td>114863</td>\n",
       "      <td>124604</td>\n",
       "      <td>129614</td>\n",
       "      <td>132516</td>\n",
       "      <td>134271</td>\n",
       "      <td>135320</td>\n",
       "      <td>136049</td>\n",
       "      <td>136533</td>\n",
       "    </tr>\n",
       "    <tr>\n",
       "      <th>0.9900</th>\n",
       "      <td>6534</td>\n",
       "      <td>13156</td>\n",
       "      <td>57952</td>\n",
       "      <td>89324</td>\n",
       "      <td>114808</td>\n",
       "      <td>124552</td>\n",
       "      <td>129558</td>\n",
       "      <td>132452</td>\n",
       "      <td>134201</td>\n",
       "      <td>135251</td>\n",
       "      <td>135987</td>\n",
       "      <td>136479</td>\n",
       "    </tr>\n",
       "    <tr>\n",
       "      <th>0.9999</th>\n",
       "      <td>6534</td>\n",
       "      <td>13156</td>\n",
       "      <td>57950</td>\n",
       "      <td>89323</td>\n",
       "      <td>114807</td>\n",
       "      <td>124550</td>\n",
       "      <td>129556</td>\n",
       "      <td>132445</td>\n",
       "      <td>134200</td>\n",
       "      <td>135249</td>\n",
       "      <td>135982</td>\n",
       "      <td>136478</td>\n",
       "    </tr>\n",
       "  </tbody>\n",
       "</table>\n",
       "</div>"
      ],
      "text/plain": [
       "        0.005  0.010  0.050   0.100   0.200   0.300   0.400   0.500   0.600  \\\n",
       "0.1000  10608  21140  89285  132781  161489  170089  173697  175505  176514   \n",
       "0.2000   9672  19330  82205  123069  151479  160507  164599  166691  167863   \n",
       "0.3000   9174  18349  78108  117305  144939  154014  158130  160322  161570   \n",
       "0.4000   8427  16786  72412  109543  136707  146190  150681  153210  154598   \n",
       "0.5000   6976  13955  61961   96185  124799  136032  141809  145231  147259   \n",
       "0.6000   6894  13804  61287   95031  123102  134085  139772  143099  145091   \n",
       "0.7000   6682  13432  59339   91564  118038  128201  133450  136469  138302   \n",
       "0.8000   6582  13245  58400   90027  115804  125689  130749  133685  135471   \n",
       "0.9000   6543  13177  58050   89499  115021  124779  129799  132706  134465   \n",
       "0.9500   6537  13165  57970   89362  114863  124604  129614  132516  134271   \n",
       "0.9900   6534  13156  57952   89324  114808  124552  129558  132452  134201   \n",
       "0.9999   6534  13156  57950   89323  114807  124550  129556  132445  134200   \n",
       "\n",
       "         0.700   0.800   0.900  \n",
       "0.1000  177031  177283  177442  \n",
       "0.2000  168501  168908  169179  \n",
       "0.3000  162189  162652  162972  \n",
       "0.4000  155397  155947  156328  \n",
       "0.5000  148523  149388  149952  \n",
       "0.6000  146317  147170  147713  \n",
       "0.7000  139396  140167  140693  \n",
       "0.8000  136523  137245  137759  \n",
       "0.9000  135510  136249  136742  \n",
       "0.9500  135320  136049  136533  \n",
       "0.9900  135251  135987  136479  \n",
       "0.9999  135249  135982  136478  "
      ]
     },
     "execution_count": 51,
     "metadata": {},
     "output_type": "execute_result"
    }
   ],
   "source": [
    "experiments_4 = {}\n",
    "for p in [.9, .8, .7, .6, .5, .4, .3, .2, .1, .05, .01, .005]:\n",
    "    excluded = tfidf_2nd.flatMap(lambda vec: exclude_words_bellow_threshold(vec, p)). \\\n",
    "        map(lambda i: (i, 1)). \\\n",
    "        reduceByKey(lambda a,b: a+b)\n",
    "    excluded.cache()\n",
    "    stat = wc.join(excluded).map(lambda s: (s[0], s[1][1]/s[1][0]))\n",
    "    stat.cache()\n",
    "    experiment = {}\n",
    "    for t in [.9999, .99, .95, .9, .8, .7, .6, .5, .4, .3, .2, .1]:\n",
    "        excluded_count = stat.filter(lambda s: s[1] > t).count()\n",
    "        experiment[t] = excluded_count\n",
    "        print(\"p: {0}, t: {1}, count: {2}\".format(p, t, excluded_count))\n",
    "    stat.unpersist()\n",
    "    excluded.unpersist()\n",
    "    experiments_4[p] = experiment    \n",
    "pd.DataFrame(experiments_4)"
   ]
  },
  {
   "cell_type": "code",
   "execution_count": 98,
   "metadata": {
    "collapsed": false
   },
   "outputs": [
    {
     "data": {
      "text/plain": [
       "202715"
      ]
     },
     "execution_count": 98,
     "metadata": {},
     "output_type": "execute_result"
    }
   ],
   "source": [
    "vocabulary_2nd.count()"
   ]
  },
  {
   "cell_type": "code",
   "execution_count": 52,
   "metadata": {
    "collapsed": false,
    "scrolled": true
   },
   "outputs": [
    {
     "data": {
      "text/html": [
       "<div>\n",
       "<table border=\"1\" class=\"dataframe\">\n",
       "  <thead>\n",
       "    <tr style=\"text-align: right;\">\n",
       "      <th></th>\n",
       "      <th>0.005</th>\n",
       "      <th>0.01</th>\n",
       "      <th>0.05</th>\n",
       "      <th>0.1</th>\n",
       "      <th>0.2</th>\n",
       "      <th>0.3</th>\n",
       "      <th>0.4</th>\n",
       "      <th>0.5</th>\n",
       "      <th>0.6</th>\n",
       "      <th>0.7</th>\n",
       "      <th>0.8</th>\n",
       "      <th>0.9</th>\n",
       "    </tr>\n",
       "  </thead>\n",
       "  <tbody>\n",
       "    <tr>\n",
       "      <th>0.1000</th>\n",
       "      <td>10608</td>\n",
       "      <td>21140</td>\n",
       "      <td>89285</td>\n",
       "      <td>132781</td>\n",
       "      <td>161489</td>\n",
       "      <td>170089</td>\n",
       "      <td>173697</td>\n",
       "      <td>175505</td>\n",
       "      <td>176514</td>\n",
       "      <td>177031</td>\n",
       "      <td>177283</td>\n",
       "      <td>177442</td>\n",
       "    </tr>\n",
       "    <tr>\n",
       "      <th>0.2000</th>\n",
       "      <td>9672</td>\n",
       "      <td>19330</td>\n",
       "      <td>82205</td>\n",
       "      <td>123069</td>\n",
       "      <td>151479</td>\n",
       "      <td>160507</td>\n",
       "      <td>164599</td>\n",
       "      <td>166691</td>\n",
       "      <td>167863</td>\n",
       "      <td>168501</td>\n",
       "      <td>168908</td>\n",
       "      <td>169179</td>\n",
       "    </tr>\n",
       "    <tr>\n",
       "      <th>0.3000</th>\n",
       "      <td>9174</td>\n",
       "      <td>18349</td>\n",
       "      <td>78108</td>\n",
       "      <td>117305</td>\n",
       "      <td>144939</td>\n",
       "      <td>154014</td>\n",
       "      <td>158130</td>\n",
       "      <td>160322</td>\n",
       "      <td>161570</td>\n",
       "      <td>162189</td>\n",
       "      <td>162652</td>\n",
       "      <td>162972</td>\n",
       "    </tr>\n",
       "    <tr>\n",
       "      <th>0.4000</th>\n",
       "      <td>8427</td>\n",
       "      <td>16786</td>\n",
       "      <td>72412</td>\n",
       "      <td>109543</td>\n",
       "      <td>136707</td>\n",
       "      <td>146190</td>\n",
       "      <td>150681</td>\n",
       "      <td>153210</td>\n",
       "      <td>154598</td>\n",
       "      <td>155397</td>\n",
       "      <td>155947</td>\n",
       "      <td>156328</td>\n",
       "    </tr>\n",
       "    <tr>\n",
       "      <th>0.5000</th>\n",
       "      <td>6976</td>\n",
       "      <td>13955</td>\n",
       "      <td>61961</td>\n",
       "      <td>96185</td>\n",
       "      <td>124799</td>\n",
       "      <td>136032</td>\n",
       "      <td>141809</td>\n",
       "      <td>145231</td>\n",
       "      <td>147259</td>\n",
       "      <td>148523</td>\n",
       "      <td>149388</td>\n",
       "      <td>149952</td>\n",
       "    </tr>\n",
       "    <tr>\n",
       "      <th>0.6000</th>\n",
       "      <td>6894</td>\n",
       "      <td>13804</td>\n",
       "      <td>61287</td>\n",
       "      <td>95031</td>\n",
       "      <td>123102</td>\n",
       "      <td>134085</td>\n",
       "      <td>139772</td>\n",
       "      <td>143099</td>\n",
       "      <td>145091</td>\n",
       "      <td>146317</td>\n",
       "      <td>147170</td>\n",
       "      <td>147713</td>\n",
       "    </tr>\n",
       "    <tr>\n",
       "      <th>0.7000</th>\n",
       "      <td>6682</td>\n",
       "      <td>13432</td>\n",
       "      <td>59339</td>\n",
       "      <td>91564</td>\n",
       "      <td>118038</td>\n",
       "      <td>128201</td>\n",
       "      <td>133450</td>\n",
       "      <td>136469</td>\n",
       "      <td>138302</td>\n",
       "      <td>139396</td>\n",
       "      <td>140167</td>\n",
       "      <td>140693</td>\n",
       "    </tr>\n",
       "    <tr>\n",
       "      <th>0.8000</th>\n",
       "      <td>6582</td>\n",
       "      <td>13245</td>\n",
       "      <td>58400</td>\n",
       "      <td>90027</td>\n",
       "      <td>115804</td>\n",
       "      <td>125689</td>\n",
       "      <td>130749</td>\n",
       "      <td>133685</td>\n",
       "      <td>135471</td>\n",
       "      <td>136523</td>\n",
       "      <td>137245</td>\n",
       "      <td>137759</td>\n",
       "    </tr>\n",
       "    <tr>\n",
       "      <th>0.9000</th>\n",
       "      <td>6543</td>\n",
       "      <td>13177</td>\n",
       "      <td>58050</td>\n",
       "      <td>89499</td>\n",
       "      <td>115021</td>\n",
       "      <td>124779</td>\n",
       "      <td>129799</td>\n",
       "      <td>132706</td>\n",
       "      <td>134465</td>\n",
       "      <td>135510</td>\n",
       "      <td>136249</td>\n",
       "      <td>136742</td>\n",
       "    </tr>\n",
       "    <tr>\n",
       "      <th>0.9500</th>\n",
       "      <td>6537</td>\n",
       "      <td>13165</td>\n",
       "      <td>57970</td>\n",
       "      <td>89362</td>\n",
       "      <td>114863</td>\n",
       "      <td>124604</td>\n",
       "      <td>129614</td>\n",
       "      <td>132516</td>\n",
       "      <td>134271</td>\n",
       "      <td>135320</td>\n",
       "      <td>136049</td>\n",
       "      <td>136533</td>\n",
       "    </tr>\n",
       "    <tr>\n",
       "      <th>0.9900</th>\n",
       "      <td>6534</td>\n",
       "      <td>13156</td>\n",
       "      <td>57952</td>\n",
       "      <td>89324</td>\n",
       "      <td>114808</td>\n",
       "      <td>124552</td>\n",
       "      <td>129558</td>\n",
       "      <td>132452</td>\n",
       "      <td>134201</td>\n",
       "      <td>135251</td>\n",
       "      <td>135987</td>\n",
       "      <td>136479</td>\n",
       "    </tr>\n",
       "    <tr>\n",
       "      <th>0.9999</th>\n",
       "      <td>6534</td>\n",
       "      <td>13156</td>\n",
       "      <td>57950</td>\n",
       "      <td>89323</td>\n",
       "      <td>114807</td>\n",
       "      <td>124550</td>\n",
       "      <td>129556</td>\n",
       "      <td>132445</td>\n",
       "      <td>134200</td>\n",
       "      <td>135249</td>\n",
       "      <td>135982</td>\n",
       "      <td>136478</td>\n",
       "    </tr>\n",
       "  </tbody>\n",
       "</table>\n",
       "</div>"
      ],
      "text/plain": [
       "        0.005  0.010  0.050   0.100   0.200   0.300   0.400   0.500   0.600  \\\n",
       "0.1000  10608  21140  89285  132781  161489  170089  173697  175505  176514   \n",
       "0.2000   9672  19330  82205  123069  151479  160507  164599  166691  167863   \n",
       "0.3000   9174  18349  78108  117305  144939  154014  158130  160322  161570   \n",
       "0.4000   8427  16786  72412  109543  136707  146190  150681  153210  154598   \n",
       "0.5000   6976  13955  61961   96185  124799  136032  141809  145231  147259   \n",
       "0.6000   6894  13804  61287   95031  123102  134085  139772  143099  145091   \n",
       "0.7000   6682  13432  59339   91564  118038  128201  133450  136469  138302   \n",
       "0.8000   6582  13245  58400   90027  115804  125689  130749  133685  135471   \n",
       "0.9000   6543  13177  58050   89499  115021  124779  129799  132706  134465   \n",
       "0.9500   6537  13165  57970   89362  114863  124604  129614  132516  134271   \n",
       "0.9900   6534  13156  57952   89324  114808  124552  129558  132452  134201   \n",
       "0.9999   6534  13156  57950   89323  114807  124550  129556  132445  134200   \n",
       "\n",
       "         0.700   0.800   0.900  \n",
       "0.1000  177031  177283  177442  \n",
       "0.2000  168501  168908  169179  \n",
       "0.3000  162189  162652  162972  \n",
       "0.4000  155397  155947  156328  \n",
       "0.5000  148523  149388  149952  \n",
       "0.6000  146317  147170  147713  \n",
       "0.7000  139396  140167  140693  \n",
       "0.8000  136523  137245  137759  \n",
       "0.9000  135510  136249  136742  \n",
       "0.9500  135320  136049  136533  \n",
       "0.9900  135251  135987  136479  \n",
       "0.9999  135249  135982  136478  "
      ]
     },
     "execution_count": 52,
     "metadata": {},
     "output_type": "execute_result"
    }
   ],
   "source": [
    "pd.DataFrame(experiments_4)"
   ]
  },
  {
   "cell_type": "code",
   "execution_count": 99,
   "metadata": {
    "collapsed": false
   },
   "outputs": [
    {
     "data": {
      "text/plain": [
       "202715"
      ]
     },
     "execution_count": 99,
     "metadata": {},
     "output_type": "execute_result"
    }
   ],
   "source": [
    "idx_word_2nd = dict([(idx,w) for w,idx in storingTF_2nd.word_idx.items()])\n",
    "len(idx_word_2nd)"
   ]
  },
  {
   "cell_type": "code",
   "execution_count": 100,
   "metadata": {
    "collapsed": true
   },
   "outputs": [],
   "source": [
    "wc_2nd = documents_2nd.flatMap(lambda d: set(d)). \\\n",
    "    map(lambda w: (w,1)). \\\n",
    "    reduceByKey(lambda a,b: a+b). \\\n",
    "    map(lambda wc: (storingTF_2nd.indexOf(wc[0]), wc[1])). \\\n",
    "    cache()"
   ]
  },
  {
   "cell_type": "code",
   "execution_count": 101,
   "metadata": {
    "collapsed": false
   },
   "outputs": [],
   "source": [
    "excluded_2nd = tfidf_2nd.flatMap(lambda vec: exclude_words_bellow_threshold(vec, .5)). \\\n",
    "        map(lambda i: (i, 1)). \\\n",
    "        reduceByKey(lambda a,b: a+b)\n",
    "stat_2nd = wc_2nd.join(excluded_2nd).map(lambda s: (s[0], s[1][1] / [1][0]))\n",
    "excluded_words_2nd = stat_2nd.filter(lambda s: s[1] > 0.9999).map(lambda x: idx_word[x[0]]).collect()"
   ]
  },
  {
   "cell_type": "code",
   "execution_count": 104,
   "metadata": {
    "collapsed": true
   },
   "outputs": [],
   "source": [
    "excluded_words_2nd_set = set(excluded_words_2nd)"
   ]
  },
  {
   "cell_type": "code",
   "execution_count": 105,
   "metadata": {
    "collapsed": false
   },
   "outputs": [
    {
     "data": {
      "text/plain": [
       "PythonRDD[840] at RDD at PythonRDD.scala:43"
      ]
     },
     "execution_count": 105,
     "metadata": {},
     "output_type": "execute_result"
    }
   ],
   "source": [
    "stage_2nd = stage_1st.map(lambda x: exclude_words(x, excluded_words_2nd_set))\n",
    "stage_2nd.cache()"
   ]
  },
  {
   "cell_type": "code",
   "execution_count": 106,
   "metadata": {
    "collapsed": false
   },
   "outputs": [
    {
     "data": {
      "text/plain": [
       "144.53563640231928"
      ]
     },
     "execution_count": 106,
     "metadata": {},
     "output_type": "execute_result"
    }
   ],
   "source": [
    "stage_2nd.map(lambda x: len(x['Features'])).mean()"
   ]
  },
  {
   "cell_type": "code",
   "execution_count": 112,
   "metadata": {
    "collapsed": false
   },
   "outputs": [
    {
     "data": {
      "text/plain": [
       "5563"
      ]
     },
     "execution_count": 112,
     "metadata": {},
     "output_type": "execute_result"
    }
   ],
   "source": [
    "doc_lengths = stage_2nd.map(lambda x: len(x['Features'])).filter(lambda l: l<10).collect()\n",
    "from matplotlib import pyplot as plt\n",
    "len(doc_lengths)"
   ]
  },
  {
   "cell_type": "code",
   "execution_count": 111,
   "metadata": {
    "collapsed": true
   },
   "outputs": [],
   "source": [
    "plt.hist(doc_lengths, bins=100)\n",
    "plt.show()"
   ]
  },
  {
   "cell_type": "code",
   "execution_count": 116,
   "metadata": {
    "collapsed": false
   },
   "outputs": [
    {
     "data": {
      "text/plain": [
       "112806"
      ]
     },
     "execution_count": 116,
     "metadata": {},
     "output_type": "execute_result"
    }
   ],
   "source": [
    "stage_2nd.count()"
   ]
  },
  {
   "cell_type": "code",
   "execution_count": 115,
   "metadata": {
    "collapsed": false
   },
   "outputs": [],
   "source": [
    "stage_2nd.map(json.dumps). \\\n",
    "    repartition(6). \\\n",
    "    saveAsTextFile('hdfs://master:54310/excluded_fin')"
   ]
  }
 ],
 "metadata": {
  "kernelspec": {
   "display_name": "Python 3",
   "language": "python",
   "name": "python3"
  },
  "language_info": {
   "codemirror_mode": {
    "name": "ipython",
    "version": 3
   },
   "file_extension": ".py",
   "mimetype": "text/x-python",
   "name": "python",
   "nbconvert_exporter": "python",
   "pygments_lexer": "ipython3",
   "version": "3.4.3"
  }
 },
 "nbformat": 4,
 "nbformat_minor": 0
}
