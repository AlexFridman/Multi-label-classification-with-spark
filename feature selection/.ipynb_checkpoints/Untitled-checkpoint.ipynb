{
 "cells": [
  {
   "cell_type": "code",
   "execution_count": 1,
   "metadata": {
    "collapsed": true
   },
   "outputs": [],
   "source": [
    "import json\n",
    "data = sc.textFile('hdfs://master:54310/clean'). \\\n",
    "    map(lambda line: json.loads(line)). \\\n",
    "    map(lambda doc: {'Features': doc['Text'], 'Labels': doc['Hubs']})"
   ]
  },
  {
   "cell_type": "code",
   "execution_count": 2,
   "metadata": {
    "collapsed": true
   },
   "outputs": [],
   "source": [
    "from pyspark.mllib.feature import HashingTF\n",
    "from pyspark.mllib.feature import IDF"
   ]
  },
  {
   "cell_type": "code",
   "execution_count": 3,
   "metadata": {
    "collapsed": true
   },
   "outputs": [],
   "source": [
    "documents = data.map(lambda x: x['Features'])"
   ]
  },
  {
   "cell_type": "code",
   "execution_count": 4,
   "metadata": {
    "collapsed": false
   },
   "outputs": [],
   "source": [
    "all_features = documents.flatMap(lambda doc: doc)\n",
    "features_count = all_features.count()"
   ]
  },
  {
   "cell_type": "code",
   "execution_count": 5,
   "metadata": {
    "collapsed": true
   },
   "outputs": [],
   "source": [
    "hashingTF = HashingTF()\n",
    "tf = hashingTF.transform(documents)"
   ]
  },
  {
   "cell_type": "code",
   "execution_count": 6,
   "metadata": {
    "collapsed": true
   },
   "outputs": [],
   "source": [
    "#tf.cache()\n",
    "idf = IDF(minDocFreq=2).fit(tf)\n",
    "tfidf = idf.transform(tf)"
   ]
  },
  {
   "cell_type": "code",
   "execution_count": 7,
   "metadata": {
    "collapsed": false
   },
   "outputs": [],
   "source": [
    "sv = tfidf.take(1)[0]"
   ]
  },
  {
   "cell_type": "code",
   "execution_count": 12,
   "metadata": {
    "collapsed": true
   },
   "outputs": [
    {
     "data": {
      "text/plain": [
       "[(3784, 4.1461641659503474),\n",
       " (7704, 7.0368233232067841),\n",
       " (22044, 7.1109708105234741),\n",
       " (26663, 5.3584320544487012),\n",
       " (28143, 5.4938700253438046),\n",
       " (28894, 4.7724989581959045),\n",
       " (38594, 17.473085896032362),\n",
       " (39384, 5.8099411010582722),\n",
       " (42454, 17.177184781242257),\n",
       " (56229, 2.3577122393836705),\n",
       " (61323, 4.2564919756879167),\n",
       " (66863, 1.9692510252822915),\n",
       " (84104, 3.0921652241287667),\n",
       " (91718, 1.9807876572220575),\n",
       " (96301, 4.1464910804735879),\n",
       " (102694, 2.6665112352763742),\n",
       " (104593, 8.8577921916490503),\n",
       " (111399, 14.436928798557767),\n",
       " (113264, 4.460567186426915),\n",
       " (115194, 3.7936428936834825),\n",
       " (129195, 3.8459885792636892),\n",
       " (132758, 2.9770357810303651),\n",
       " (140951, 4.0208028653100909),\n",
       " (151536, 5.090952689314439),\n",
       " (153869, 4.6974637722529904),\n",
       " (155266, 2.0599443839454512),\n",
       " (157237, 4.9463224036218678),\n",
       " (159406, 2.1482606702106462),\n",
       " (173879, 11.301136954499723),\n",
       " (175004, 3.6628164457735481),\n",
       " (177594, 3.4276355432034356),\n",
       " (187241, 6.3283496766805669),\n",
       " (191622, 1.9944751257277413),\n",
       " (201669, 2.7691653893364578),\n",
       " (208291, 1.6327386272120481),\n",
       " (210666, 11.458991471679065),\n",
       " (214872, 19.91725726614542),\n",
       " (230595, 3.3026003784079987),\n",
       " (230819, 3.8469745503748043),\n",
       " (248076, 3.967150151817771),\n",
       " (259754, 8.1942683670069911),\n",
       " (259785, 8.864989951768683),\n",
       " (262987, 1.2065526060513783),\n",
       " (266152, 3.8099813669920817),\n",
       " (270634, 5.6884726519083388),\n",
       " (282604, 2.0534396972894347),\n",
       " (306388, 3.3524576646507374),\n",
       " (308638, 2.5650199841953545),\n",
       " (310225, 1.253614745601092),\n",
       " (322550, 4.2515209629658957),\n",
       " (332447, 23.417535745844024),\n",
       " (346110, 6.6554952818406488),\n",
       " (346124, 0.0),\n",
       " (346481, 3.8165594615103666),\n",
       " (347150, 5.1900967396294861),\n",
       " (358738, 4.5867818124008117),\n",
       " (369656, 4.9914768011024115),\n",
       " (374322, 12.635950881496674),\n",
       " (382536, 6.2453985368849914),\n",
       " (396107, 5.2753171477381944),\n",
       " (399272, 1.5680871606458231),\n",
       " (400734, 2.6179146632089889),\n",
       " (415954, 3.9048685287937066),\n",
       " (420775, 2.5270831925576513),\n",
       " (424101, 3.8222819377844326),\n",
       " (433148, 1.4970008351366151),\n",
       " (443906, 3.8532441633883994),\n",
       " (455076, 7.1495215241407974),\n",
       " (459347, 4.2805895272669767),\n",
       " (460310, 1.4762155486032196),\n",
       " (461242, 3.2506460397597223),\n",
       " (468281, 2.2920860015667182),\n",
       " (473130, 3.7818617456402173),\n",
       " (474452, 6.3511387529841796),\n",
       " (485920, 3.7957364045667319),\n",
       " (495854, 3.0411225660562731),\n",
       " (499574, 5.9970437896707711),\n",
       " (503010, 7.1206327214352116),\n",
       " (508558, 3.9634257527267889),\n",
       " (517424, 14.76698993063594),\n",
       " (517636, 1.0605345906773944),\n",
       " (522673, 1.0662389571336224),\n",
       " (525840, 4.944099450465683),\n",
       " (527509, 5.7319141167038143),\n",
       " (533039, 7.6111595041184623),\n",
       " (535948, 8.1706502887317676),\n",
       " (542603, 3.2403347503080431),\n",
       " (553795, 6.2202543367354517),\n",
       " (555892, 12.358724544807789),\n",
       " (559398, 2.7454254020333848),\n",
       " (560841, 3.9052581644892652),\n",
       " (561197, 5.8388841982446333),\n",
       " (566039, 1.8321695738543837),\n",
       " (566085, 1.9021153735654659),\n",
       " (567604, 18.219747266879562),\n",
       " (581768, 25.392759752818915),\n",
       " (589669, 2.5978948272957325),\n",
       " (591919, 20.85402199479477),\n",
       " (612426, 2.1155793201990516),\n",
       " (618446, 5.2722543582076487),\n",
       " (624946, 4.2211333833907574),\n",
       " (627222, 7.382079497508089),\n",
       " (645622, 0.98252829303111033),\n",
       " (666190, 1.3723534591911437),\n",
       " (666448, 7.3733350749909654),\n",
       " (675072, 6.0571122024375033),\n",
       " (676421, 3.6695670083832783),\n",
       " (676995, 5.2144318825635638),\n",
       " (682335, 1.7341680176597434),\n",
       " (687419, 5.5857509771733911),\n",
       " (692756, 3.8433048214858418),\n",
       " (694711, 5.6550427576447833),\n",
       " (706025, 75.49259291710537),\n",
       " (710411, 2.071399262920218),\n",
       " (715634, 0.33421167907881405),\n",
       " (730759, 6.0297299594660698),\n",
       " (732288, 6.3617341633124855),\n",
       " (741569, 7.7480285244323763),\n",
       " (756601, 6.0820384424933547),\n",
       " (758518, 5.7406721032280004),\n",
       " (779628, 2.4063034183768415),\n",
       " (786222, 1.7287719599947355),\n",
       " (799402, 7.1109708105234741),\n",
       " (802782, 7.2014848180643067),\n",
       " (808103, 1.5927563190684748),\n",
       " (812385, 4.5960698048672821),\n",
       " (826992, 5.4564124628089044),\n",
       " (833570, 3.636558712684812),\n",
       " (835101, 8.8109227304984064),\n",
       " (844463, 0.77354961340733097),\n",
       " (847295, 2.3737607282541346),\n",
       " (847763, 3.1842486762591791),\n",
       " (848678, 13.309747944027167),\n",
       " (852559, 14.055947781905013),\n",
       " (858380, 1.3922049950070425),\n",
       " (859279, 3.8625361834137295),\n",
       " (863662, 9.5843434475892195),\n",
       " (868401, 9.6759201679850104),\n",
       " (871063, 4.2010268859390996),\n",
       " (880346, 8.3880658796783738),\n",
       " (897983, 2.813293016620622),\n",
       " (912553, 5.4044759929501076),\n",
       " (913909, 2.5028242889888759),\n",
       " (956959, 2.6594225979986397),\n",
       " (963678, 5.5650463038117),\n",
       " (969810, 7.6452813643657977),\n",
       " (981856, 1.3110335245196305),\n",
       " (988245, 3.9942607884745289),\n",
       " (1001897, 4.3541304452518323),\n",
       " (1008913, 3.302387090575261),\n",
       " (1009408, 3.6045495932748697),\n",
       " (1010714, 4.8238899040653944),\n",
       " (1017707, 3.1993324944634116),\n",
       " (1019720, 6.2062856247696274),\n",
       " (1022456, 8.9840641843760221),\n",
       " (1025140, 3.0788769966714948),\n",
       " (1038948, 18.598302320734302),\n",
       " (1040527, 3.2700720672616179),\n",
       " (1042425, 9.2868834943994987),\n",
       " (1042888, 2.6915511303845614)]"
      ]
     },
     "execution_count": 12,
     "metadata": {},
     "output_type": "execute_result"
    }
   ],
   "source": [
    "[(int(i),sv[int(i)]) for i in sv.indices]"
   ]
  },
  {
   "cell_type": "code",
   "execution_count": 26,
   "metadata": {
    "collapsed": true
   },
   "outputs": [],
   "source": [
    "key_tfidf = tfidf.flatMap(lambda sv: [(int(i),sv[int(i)]) for i in sv.indices]). \\\n",
    "        groupByKey()"
   ]
  },
  {
   "cell_type": "code",
   "execution_count": 19,
   "metadata": {
    "collapsed": true
   },
   "outputs": [],
   "source": [
    "import numpy as np"
   ]
  },
  {
   "cell_type": "code",
   "execution_count": 31,
   "metadata": {
    "collapsed": true
   },
   "outputs": [],
   "source": [
    "def process_group(group):\n",
    "    tfidfs = np.array(list(group[1]));\n",
    "    gmin = tfidfs.min()\n",
    "    gmax = tfidfs.max()\n",
    "    gave = tfidfs.mean()\n",
    "    gnum = tfidfs.size\n",
    "    return (group[0], (gmin, gave, gmax, gnum))"
   ]
  },
  {
   "cell_type": "code",
   "execution_count": 32,
   "metadata": {
    "collapsed": false
   },
   "outputs": [],
   "source": [
    "t = process_group(key_tfidf.take(1)[0])"
   ]
  },
  {
   "cell_type": "code",
   "execution_count": 33,
   "metadata": {
    "collapsed": false
   },
   "outputs": [
    {
     "data": {
      "text/plain": [
       "(655360, (7.6610171474427462, 8.8296468817984177, 38.30508573721373, 59))"
      ]
     },
     "execution_count": 33,
     "metadata": {},
     "output_type": "execute_result"
    }
   ],
   "source": [
    "t"
   ]
  },
  {
   "cell_type": "code",
   "execution_count": 34,
   "metadata": {
    "collapsed": true
   },
   "outputs": [],
   "source": [
    "processed = key_tfidf.map(lambda group: process_group(group))"
   ]
  },
  {
   "cell_type": "code",
   "execution_count": 35,
   "metadata": {
    "collapsed": false
   },
   "outputs": [
    {
     "data": {
      "text/plain": [
       "[(655360, (7.6610171474427462, 8.8296468817984177, 38.30508573721373, 59))]"
      ]
     },
     "execution_count": 35,
     "metadata": {},
     "output_type": "execute_result"
    }
   ],
   "source": [
    "processed.take(1)"
   ]
  },
  {
   "cell_type": "code",
   "execution_count": 64,
   "metadata": {
    "collapsed": false
   },
   "outputs": [],
   "source": [
    "small = processed.filter(lambda item: item[1][3]< 6)"
   ]
  },
  {
   "cell_type": "code",
   "execution_count": 65,
   "metadata": {
    "collapsed": false
   },
   "outputs": [],
   "source": [
    "processed = processed.cache()"
   ]
  },
  {
   "cell_type": "code",
   "execution_count": 68,
   "metadata": {
    "collapsed": false
   },
   "outputs": [],
   "source": [
    "lth5 = small.map(lambda item: item[1][2]*item[1][3]).sum() / small.map(lambda item: item[1][3]).sum()\n",
    "lth10 = processed.filter(lambda item: 5<item[1][3]< 11). \\\n",
    "    map(lambda item: item[1][2]*item[1][3]).sum() / processed.filter(lambda item: 5<item[1][3]< 11).map(lambda item: item[1][3]).sum()\n",
    "lth15 = processed.filter(lambda item: 10<item[1][3]< 16). \\\n",
    "    map(lambda item: item[1][2]*item[1][3]).sum() / processed.filter(lambda item: 10<item[1][3]< 16).map(lambda item: item[1][3]).sum()\n",
    "lth100 = processed.filter(lambda item: 15<item[1][3]< 101). \\\n",
    "    map(lambda item: item[1][2]*item[1][3]).sum() / processed.filter(lambda item: 15<item[1][3]< 101).map(lambda item: item[1][3]).sum()"
   ]
  },
  {
   "cell_type": "code",
   "execution_count": 69,
   "metadata": {
    "collapsed": false
   },
   "outputs": [
    {
     "name": "stdout",
     "output_type": "stream",
     "text": [
      "20.8431298716 44.6547407928 52.5566486976 73.09539358\n"
     ]
    }
   ],
   "source": [
    "print(lth5, lth10, lth15, lth100)"
   ]
  },
  {
   "cell_type": "code",
   "execution_count": 40,
   "metadata": {
    "collapsed": false
   },
   "outputs": [],
   "source": [
    "import seaborn; seaborn.set()\n",
    "from matplotlib import pyplot as plt\n",
    "%matplotlib inline"
   ]
  },
  {
   "cell_type": "code",
   "execution_count": 41,
   "metadata": {
    "collapsed": true
   },
   "outputs": [],
   "source": [
    "counts = processed.map(lambda item: item[1][3]).collect()"
   ]
  },
  {
   "cell_type": "code",
   "execution_count": 53,
   "metadata": {
    "collapsed": false
   },
   "outputs": [
    {
     "data": {
      "image/png": "[encoded data removed]",
      "text/plain": [
       "<matplotlib.figure.Figure at 0x7fcde611ad68>"
      ]
     },
     "metadata": {},
     "output_type": "display_data"
    }
   ],
   "source": [
    "plt.hist(counts, bins=10)\n",
    "plt.show()"
   ]
  },
  {
   "cell_type": "code",
   "execution_count": 58,
   "metadata": {
    "collapsed": false
   },
   "outputs": [
    {
     "data": {
      "text/plain": [
       "323901"
      ]
     },
     "execution_count": 58,
     "metadata": {},
     "output_type": "execute_result"
    }
   ],
   "source": [
    "sc.parallelize(counts).filter(lambda c: c<5).count()"
   ]
  },
  {
   "cell_type": "code",
   "execution_count": null,
   "metadata": {
    "collapsed": true
   },
   "outputs": [],
   "source": []
  }
 ],
 "metadata": {
  "kernelspec": {
   "display_name": "Python 3",
   "language": "python",
   "name": "python3"
  },
  "language_info": {
   "codemirror_mode": {
    "name": "ipython",
    "version": 3
   },
   "file_extension": ".py",
   "mimetype": "text/x-python",
   "name": "python",
   "nbconvert_exporter": "python",
   "pygments_lexer": "ipython3",
   "version": "3.4.3"
  }
 },
 "nbformat": 4,
 "nbformat_minor": 0
}
