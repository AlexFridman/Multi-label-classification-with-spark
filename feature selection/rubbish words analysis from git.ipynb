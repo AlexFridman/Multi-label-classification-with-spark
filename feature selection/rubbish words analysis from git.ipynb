{
 "cells": [
  {
   "cell_type": "code",
   "execution_count": 1,
   "metadata": {
    "collapsed": true
   },
   "outputs": [],
   "source": [
    "from pyspark import RDD"
   ]
  },
  {
   "cell_type": "code",
   "execution_count": 2,
   "metadata": {
    "collapsed": true
   },
   "outputs": [],
   "source": [
    "class StoringTF(object):\n",
    "    def fit(self, vacabulary):\n",
    "        self.word_idx = vacabulary.distinct().zipWithIndex().collectAsMap()\n",
    "        self.numFeatures = len(self.word_idx)\n",
    "        \n",
    "    def indexOf(self, term):\n",
    "        \"\"\" Returns the index of the input term. \"\"\"\n",
    "        return self.word_idx[term]\n",
    "\n",
    "    def transform(self, document):\n",
    "        \"\"\"\n",
    "        Transforms the input document (list of terms) to term frequency\n",
    "        vectors, or transform the RDD of document to RDD of term\n",
    "        frequency vectors.\n",
    "        \"\"\"\n",
    "        if isinstance(document, RDD):\n",
    "            return document.map(self.transform)\n",
    "\n",
    "        freq = {}\n",
    "        for term in document:\n",
    "            i = self.indexOf(term)\n",
    "            freq[i] = freq.get(i, 0) + 1.0\n",
    "        return Vectors.sparse(self.numFeatures, freq.items())"
   ]
  },
  {
   "cell_type": "code",
   "execution_count": 3,
   "metadata": {
    "collapsed": false
   },
   "outputs": [],
   "source": [
    "import json\n",
    "#from pyspark.mllib.feature import HashingTF\n",
    "from pyspark.mllib.feature import IDF\n",
    "import numpy as np\n",
    "from pyspark.mllib.linalg import Vectors"
   ]
  },
  {
   "cell_type": "code",
   "execution_count": 4,
   "metadata": {
    "collapsed": false
   },
   "outputs": [
    {
     "data": {
      "text/plain": [
       "PythonRDD[2] at RDD at PythonRDD.scala:43"
      ]
     },
     "execution_count": 4,
     "metadata": {},
     "output_type": "execute_result"
    }
   ],
   "source": [
    "data = sc.textFile('hdfs://master:54310/exp_2/ml_data_without_urls'). \\\n",
    "    map(lambda line: json.loads(line))\n",
    "\n",
    "documents = data.map(lambda x: x['Features'])\n",
    "documents.cache()"
   ]
  },
  {
   "cell_type": "code",
   "execution_count": 5,
   "metadata": {
    "collapsed": false
   },
   "outputs": [],
   "source": [
    "vocabulary = documents.flatMap(lambda d: d).distinct()"
   ]
  },
  {
   "cell_type": "code",
   "execution_count": 6,
   "metadata": {
    "collapsed": false
   },
   "outputs": [],
   "source": [
    "storingTF = StoringTF()\n",
    "storingTF.fit(vocabulary)"
   ]
  },
  {
   "cell_type": "code",
   "execution_count": 7,
   "metadata": {
    "collapsed": false
   },
   "outputs": [],
   "source": [
    "tf = storingTF.transform(documents)\n",
    "idf = IDF().fit(tf)\n",
    "tfidf = idf.transform(tf)"
   ]
  },
  {
   "cell_type": "code",
   "execution_count": 8,
   "metadata": {
    "collapsed": false,
    "scrolled": true
   },
   "outputs": [],
   "source": [
    "wc = documents.flatMap(lambda d: set(d)). \\\n",
    "    map(lambda w: (w,1)). \\\n",
    "    reduceByKey(lambda a,b: a+b). \\\n",
    "    map(lambda wc: (storingTF.indexOf(wc[0]), wc[1])). \\\n",
    "    persist()"
   ]
  },
  {
   "cell_type": "code",
   "execution_count": 9,
   "metadata": {
    "collapsed": false
   },
   "outputs": [
    {
     "data": {
      "text/plain": [
       "98621"
      ]
     },
     "execution_count": 9,
     "metadata": {},
     "output_type": "execute_result"
    }
   ],
   "source": [
    "documents.flatMap(lambda d: set(d)).map(lambda w: storingTF.indexOf(w)).distinct().count()"
   ]
  },
  {
   "cell_type": "code",
   "execution_count": 9,
   "metadata": {
    "collapsed": true
   },
   "outputs": [],
   "source": [
    "import pandas as pd"
   ]
  },
  {
   "cell_type": "code",
   "execution_count": 12,
   "metadata": {
    "collapsed": true
   },
   "outputs": [],
   "source": [
    "def exclude_words_bellow_threshold(vec, t: float):\n",
    "    tfidfs = cast_sparse_vector_to_dict_and_scale(vec)\n",
    "    return [i_tfidf[0] for i_tfidf in tfidfs.items() if i_tfidf[1] < t]\n",
    "\n",
    "\n",
    "\n",
    "def cast_sparse_vector_to_dict_and_scale(v):\n",
    "    max_v = v.toArray().max()\n",
    "    return dict([(int(i), v[int(i)] / max_v) for i in v.indices])"
   ]
  },
  {
   "cell_type": "code",
   "execution_count": 15,
   "metadata": {
    "collapsed": false,
    "scrolled": true
   },
   "outputs": [
    {
     "name": "stdout",
     "output_type": "stream",
     "text": [
      "p: 0.6, t: 0.99, count: 50161\n",
      "p: 0.6, t: 0.9, count: 71668\n",
      "p: 0.6, t: 0.8, count: 82575\n",
      "p: 0.6, t: 0.7, count: 89464\n",
      "p: 0.6, t: 0.6, count: 93845\n",
      "p: 0.6, t: 0.5, count: 94690\n",
      "p: 0.6, t: 0.4, count: 100599\n",
      "p: 0.6, t: 0.3, count: 101474\n",
      "p: 0.6, t: 0.2, count: 101624\n",
      "p: 0.6, t: 0.1, count: 101678\n",
      "p: 0.5, t: 0.99, count: 39460\n",
      "p: 0.5, t: 0.9, count: 59554\n",
      "p: 0.5, t: 0.8, count: 73845\n",
      "p: 0.5, t: 0.7, count: 83284\n",
      "p: 0.5, t: 0.6, count: 89437\n",
      "p: 0.5, t: 0.5, count: 90936\n",
      "p: 0.5, t: 0.4, count: 99095\n",
      "p: 0.5, t: 0.3, count: 100599\n",
      "p: 0.5, t: 0.2, count: 100899\n",
      "p: 0.5, t: 0.1, count: 101012\n",
      "p: 0.4, t: 0.99, count: 29133\n",
      "p: 0.4, t: 0.9, count: 43330\n",
      "p: 0.4, t: 0.8, count: 60551\n",
      "p: 0.4, t: 0.7, count: 73789\n",
      "p: 0.4, t: 0.6, count: 82553\n",
      "p: 0.4, t: 0.5, count: 85349\n",
      "p: 0.4, t: 0.4, count: 96286\n",
      "p: 0.4, t: 0.3, count: 98936\n",
      "p: 0.4, t: 0.2, count: 99566\n",
      "p: 0.4, t: 0.1, count: 99833\n",
      "p: 0.3, t: 0.99, count: 18858\n",
      "p: 0.3, t: 0.9, count: 24452\n",
      "p: 0.3, t: 0.8, count: 39697\n",
      "p: 0.3, t: 0.7, count: 56683\n",
      "p: 0.3, t: 0.6, count: 69695\n",
      "p: 0.3, t: 0.5, count: 75165\n",
      "p: 0.3, t: 0.4, count: 90425\n",
      "p: 0.3, t: 0.3, count: 95214\n",
      "p: 0.3, t: 0.2, count: 96654\n",
      "p: 0.3, t: 0.1, count: 97380\n",
      "p: 0.2, t: 0.99, count: 8929\n",
      "p: 0.2, t: 0.9, count: 9862\n",
      "p: 0.2, t: 0.8, count: 14369\n",
      "p: 0.2, t: 0.7, count: 26373\n",
      "p: 0.2, t: 0.6, count: 42233\n",
      "p: 0.2, t: 0.5, count: 53002\n",
      "p: 0.2, t: 0.4, count: 74585\n",
      "p: 0.2, t: 0.3, count: 84693\n",
      "p: 0.2, t: 0.2, count: 88819\n",
      "p: 0.2, t: 0.1, count: 91132\n",
      "p: 0.1, t: 0.99, count: 1594\n",
      "p: 0.1, t: 0.9, count: 1602\n",
      "p: 0.1, t: 0.8, count: 1798\n",
      "p: 0.1, t: 0.7, count: 2760\n",
      "p: 0.1, t: 0.6, count: 5482\n",
      "p: 0.1, t: 0.5, count: 8875\n",
      "p: 0.1, t: 0.4, count: 25534\n",
      "p: 0.1, t: 0.3, count: 43377\n",
      "p: 0.1, t: 0.2, count: 58223\n",
      "p: 0.1, t: 0.1, count: 70053\n",
      "p: 0.05, t: 0.99, count: 232\n",
      "p: 0.05, t: 0.9, count: 232\n",
      "p: 0.05, t: 0.8, count: 233\n",
      "p: 0.05, t: 0.7, count: 257\n",
      "p: 0.05, t: 0.6, count: 489\n",
      "p: 0.05, t: 0.5, count: 660\n",
      "p: 0.05, t: 0.4, count: 3871\n",
      "p: 0.05, t: 0.3, count: 7401\n",
      "p: 0.05, t: 0.2, count: 13767\n",
      "p: 0.05, t: 0.1, count: 33481\n",
      "p: 0.01, t: 0.99, count: 0\n",
      "p: 0.01, t: 0.9, count: 0\n",
      "p: 0.01, t: 0.8, count: 0\n",
      "p: 0.01, t: 0.7, count: 0\n",
      "p: 0.01, t: 0.6, count: 1\n",
      "p: 0.01, t: 0.5, count: 1\n",
      "p: 0.01, t: 0.4, count: 109\n",
      "p: 0.01, t: 0.3, count: 190\n",
      "p: 0.01, t: 0.2, count: 259\n",
      "p: 0.01, t: 0.1, count: 487\n",
      "p: 0.005, t: 0.99, count: 0\n",
      "p: 0.005, t: 0.9, count: 0\n",
      "p: 0.005, t: 0.8, count: 0\n",
      "p: 0.005, t: 0.7, count: 0\n",
      "p: 0.005, t: 0.6, count: 0\n",
      "p: 0.005, t: 0.5, count: 0\n",
      "p: 0.005, t: 0.4, count: 24\n",
      "p: 0.005, t: 0.3, count: 43\n",
      "p: 0.005, t: 0.2, count: 59\n",
      "p: 0.005, t: 0.1, count: 106\n"
     ]
    }
   ],
   "source": [
    "experiments_2 = {}\n",
    "for p in [.6, .5, .4, .3, .2, .1, .05, .01, .005]:\n",
    "    excluded = tfidf.flatMap(lambda vec: exclude_words_bellow_threshold(vec, p)). \\\n",
    "        map(lambda i: (i, 1)). \\\n",
    "        reduceByKey(lambda a,b: a+b).persist()\n",
    "    stat = wc.join(excluded).map(lambda s: (s[0], s[1][1]/s[1][0])).persist()\n",
    "    experiment = {}\n",
    "    for t in [.99, .9, .8, .7, .6, .5, .4, .3, .2, .1]:\n",
    "        excluded_count = stat.filter(lambda s: s[1] > t).count()\n",
    "        experiment[t] = excluded_count\n",
    "        print(\"p: {0}, t: {1}, count: {2}\".format(p, t, excluded_count))\n",
    "    stat.unpersist()\n",
    "    excluded.unpersist()\n",
    "    experiments_2[p] = experiment    "
   ]
  },
  {
   "cell_type": "code",
   "execution_count": 16,
   "metadata": {
    "collapsed": false,
    "scrolled": true
   },
   "outputs": [
    {
     "data": {
      "text/html": [
       "<div>\n",
       "<table border=\"1\" class=\"dataframe\">\n",
       "  <thead>\n",
       "    <tr style=\"text-align: right;\">\n",
       "      <th></th>\n",
       "      <th>0.005</th>\n",
       "      <th>0.01</th>\n",
       "      <th>0.05</th>\n",
       "      <th>0.1</th>\n",
       "      <th>0.2</th>\n",
       "      <th>0.3</th>\n",
       "      <th>0.4</th>\n",
       "      <th>0.5</th>\n",
       "      <th>0.6</th>\n",
       "    </tr>\n",
       "  </thead>\n",
       "  <tbody>\n",
       "    <tr>\n",
       "      <th>0.10</th>\n",
       "      <td>106</td>\n",
       "      <td>487</td>\n",
       "      <td>33481</td>\n",
       "      <td>70053</td>\n",
       "      <td>91132</td>\n",
       "      <td>97380</td>\n",
       "      <td>99833</td>\n",
       "      <td>101012</td>\n",
       "      <td>101678</td>\n",
       "    </tr>\n",
       "    <tr>\n",
       "      <th>0.20</th>\n",
       "      <td>59</td>\n",
       "      <td>259</td>\n",
       "      <td>13767</td>\n",
       "      <td>58223</td>\n",
       "      <td>88819</td>\n",
       "      <td>96654</td>\n",
       "      <td>99566</td>\n",
       "      <td>100899</td>\n",
       "      <td>101624</td>\n",
       "    </tr>\n",
       "    <tr>\n",
       "      <th>0.30</th>\n",
       "      <td>43</td>\n",
       "      <td>190</td>\n",
       "      <td>7401</td>\n",
       "      <td>43377</td>\n",
       "      <td>84693</td>\n",
       "      <td>95214</td>\n",
       "      <td>98936</td>\n",
       "      <td>100599</td>\n",
       "      <td>101474</td>\n",
       "    </tr>\n",
       "    <tr>\n",
       "      <th>0.40</th>\n",
       "      <td>24</td>\n",
       "      <td>109</td>\n",
       "      <td>3871</td>\n",
       "      <td>25534</td>\n",
       "      <td>74585</td>\n",
       "      <td>90425</td>\n",
       "      <td>96286</td>\n",
       "      <td>99095</td>\n",
       "      <td>100599</td>\n",
       "    </tr>\n",
       "    <tr>\n",
       "      <th>0.50</th>\n",
       "      <td>0</td>\n",
       "      <td>1</td>\n",
       "      <td>660</td>\n",
       "      <td>8875</td>\n",
       "      <td>53002</td>\n",
       "      <td>75165</td>\n",
       "      <td>85349</td>\n",
       "      <td>90936</td>\n",
       "      <td>94690</td>\n",
       "    </tr>\n",
       "    <tr>\n",
       "      <th>0.60</th>\n",
       "      <td>0</td>\n",
       "      <td>1</td>\n",
       "      <td>489</td>\n",
       "      <td>5482</td>\n",
       "      <td>42233</td>\n",
       "      <td>69695</td>\n",
       "      <td>82553</td>\n",
       "      <td>89437</td>\n",
       "      <td>93845</td>\n",
       "    </tr>\n",
       "    <tr>\n",
       "      <th>0.70</th>\n",
       "      <td>0</td>\n",
       "      <td>0</td>\n",
       "      <td>257</td>\n",
       "      <td>2760</td>\n",
       "      <td>26373</td>\n",
       "      <td>56683</td>\n",
       "      <td>73789</td>\n",
       "      <td>83284</td>\n",
       "      <td>89464</td>\n",
       "    </tr>\n",
       "    <tr>\n",
       "      <th>0.80</th>\n",
       "      <td>0</td>\n",
       "      <td>0</td>\n",
       "      <td>233</td>\n",
       "      <td>1798</td>\n",
       "      <td>14369</td>\n",
       "      <td>39697</td>\n",
       "      <td>60551</td>\n",
       "      <td>73845</td>\n",
       "      <td>82575</td>\n",
       "    </tr>\n",
       "    <tr>\n",
       "      <th>0.90</th>\n",
       "      <td>0</td>\n",
       "      <td>0</td>\n",
       "      <td>232</td>\n",
       "      <td>1602</td>\n",
       "      <td>9862</td>\n",
       "      <td>24452</td>\n",
       "      <td>43330</td>\n",
       "      <td>59554</td>\n",
       "      <td>71668</td>\n",
       "    </tr>\n",
       "    <tr>\n",
       "      <th>0.99</th>\n",
       "      <td>0</td>\n",
       "      <td>0</td>\n",
       "      <td>232</td>\n",
       "      <td>1594</td>\n",
       "      <td>8929</td>\n",
       "      <td>18858</td>\n",
       "      <td>29133</td>\n",
       "      <td>39460</td>\n",
       "      <td>50161</td>\n",
       "    </tr>\n",
       "  </tbody>\n",
       "</table>\n",
       "</div>"
      ],
      "text/plain": [
       "      0.005  0.010  0.050  0.100  0.200  0.300  0.400   0.500   0.600\n",
       "0.10    106    487  33481  70053  91132  97380  99833  101012  101678\n",
       "0.20     59    259  13767  58223  88819  96654  99566  100899  101624\n",
       "0.30     43    190   7401  43377  84693  95214  98936  100599  101474\n",
       "0.40     24    109   3871  25534  74585  90425  96286   99095  100599\n",
       "0.50      0      1    660   8875  53002  75165  85349   90936   94690\n",
       "0.60      0      1    489   5482  42233  69695  82553   89437   93845\n",
       "0.70      0      0    257   2760  26373  56683  73789   83284   89464\n",
       "0.80      0      0    233   1798  14369  39697  60551   73845   82575\n",
       "0.90      0      0    232   1602   9862  24452  43330   59554   71668\n",
       "0.99      0      0    232   1594   8929  18858  29133   39460   50161"
      ]
     },
     "execution_count": 16,
     "metadata": {},
     "output_type": "execute_result"
    }
   ],
   "source": [
    "pd.DataFrame(experiments_2)"
   ]
  },
  {
   "cell_type": "code",
   "execution_count": 17,
   "metadata": {
    "collapsed": false
   },
   "outputs": [
    {
     "data": {
      "text/plain": [
       "102514"
      ]
     },
     "execution_count": 17,
     "metadata": {},
     "output_type": "execute_result"
    }
   ],
   "source": [
    "idx_word = dict([(idx,w) for w,idx in storingTF.word_idx.items()])\n",
    "len(idx_word)"
   ]
  },
  {
   "cell_type": "code",
   "execution_count": 13,
   "metadata": {
    "collapsed": false
   },
   "outputs": [],
   "source": [
    "excluded = tfidf.flatMap(lambda vec: exclude_words_bellow_threshold(vec, 0.3)). \\\n",
    "        map(lambda i: (i, 1)). \\\n",
    "        reduceByKey(lambda a,b: a+b).persist()\n",
    "stat = wc.join(excluded).map(lambda s: (s[0], s[1][1]/s[1][0])).persist()\n",
    "excluded_words = stat.filter(lambda s: s[1] > 0.9).map(lambda x: idx_word[x[0]]).collect()"
   ]
  },
  {
   "cell_type": "code",
   "execution_count": 14,
   "metadata": {
    "collapsed": false
   },
   "outputs": [
    {
     "data": {
      "text/plain": [
       "42576"
      ]
     },
     "execution_count": 14,
     "metadata": {},
     "output_type": "execute_result"
    }
   ],
   "source": [
    "len(excluded_words)"
   ]
  },
  {
   "cell_type": "code",
   "execution_count": 15,
   "metadata": {
    "collapsed": false
   },
   "outputs": [
    {
     "data": {
      "text/plain": [
       "['безделушк', 'тэгирован', 'байтаерт', 'efnet', 'sslversion']"
      ]
     },
     "execution_count": 15,
     "metadata": {},
     "output_type": "execute_result"
    }
   ],
   "source": [
    "excluded_words[:5]"
   ]
  },
  {
   "cell_type": "code",
   "execution_count": 16,
   "metadata": {
    "collapsed": true
   },
   "outputs": [],
   "source": [
    "set_of_excluded_words = set(excluded_words)"
   ]
  },
  {
   "cell_type": "code",
   "execution_count": 17,
   "metadata": {
    "collapsed": false
   },
   "outputs": [
    {
     "data": {
      "text/plain": [
       "42576"
      ]
     },
     "execution_count": 17,
     "metadata": {},
     "output_type": "execute_result"
    }
   ],
   "source": [
    "len(set_of_excluded_words)"
   ]
  },
  {
   "cell_type": "code",
   "execution_count": 18,
   "metadata": {
    "collapsed": true
   },
   "outputs": [],
   "source": [
    "def exclude_words(doc: dict):\n",
    "    doc['Features'] = [w for w in doc['Features'] if w not in set_of_excluded_words]\n",
    "    return doc"
   ]
  },
  {
   "cell_type": "code",
   "execution_count": 19,
   "metadata": {
    "collapsed": false
   },
   "outputs": [
    {
     "data": {
      "text/plain": [
       "97.41282186022069"
      ]
     },
     "execution_count": 19,
     "metadata": {},
     "output_type": "execute_result"
    }
   ],
   "source": [
    "data.map(exclude_words).map(lambda x: len(x['Features'])).mean()"
   ]
  },
  {
   "cell_type": "code",
   "execution_count": 20,
   "metadata": {
    "collapsed": false
   },
   "outputs": [
    {
     "data": {
      "text/plain": [
       "482.166663163426"
      ]
     },
     "execution_count": 20,
     "metadata": {},
     "output_type": "execute_result"
    }
   ],
   "source": [
    "data.map(lambda x: len(x['Features'])).mean()"
   ]
  },
  {
   "cell_type": "code",
   "execution_count": 21,
   "metadata": {
    "collapsed": true
   },
   "outputs": [],
   "source": [
    "doc_lengths = data.map(exclude_words).map(lambda x: len(x['Features'])).filter(lambda x: x<10).collect()"
   ]
  },
  {
   "cell_type": "code",
   "execution_count": 22,
   "metadata": {
    "collapsed": true
   },
   "outputs": [],
   "source": [
    "from matplotlib import pyplot as plt"
   ]
  },
  {
   "cell_type": "code",
   "execution_count": 23,
   "metadata": {
    "collapsed": false
   },
   "outputs": [],
   "source": [
    "plt.hist(doc_lengths, bins=40)\n",
    "plt.show()"
   ]
  },
  {
   "cell_type": "code",
   "execution_count": 53,
   "metadata": {
    "collapsed": false
   },
   "outputs": [
    {
     "data": {
      "text/plain": [
       "3229"
      ]
     },
     "execution_count": 53,
     "metadata": {},
     "output_type": "execute_result"
    }
   ],
   "source": [
    "len(doc_lengths)"
   ]
  },
  {
   "cell_type": "code",
   "execution_count": 22,
   "metadata": {
    "collapsed": false
   },
   "outputs": [],
   "source": [
    "data.map(exclude_words). \\\n",
    "    filter(lambda x: len(x['Features']) > 20). \\\n",
    "    map(lambda x: json.dumps(x)). \\\n",
    "    repartition(4). \\\n",
    "    saveAsTextFile('hdfs://master:54310/test3')"
   ]
  },
  {
   "cell_type": "code",
   "execution_count": null,
   "metadata": {
    "collapsed": true
   },
   "outputs": [],
   "source": []
  }
 ],
 "metadata": {
  "kernelspec": {
   "display_name": "Python 3",
   "language": "python",
   "name": "python3"
  },
  "language_info": {
   "codemirror_mode": {
    "name": "ipython",
    "version": 3
   },
   "file_extension": ".py",
   "mimetype": "text/x-python",
   "name": "python",
   "nbconvert_exporter": "python",
   "pygments_lexer": "ipython3",
   "version": "3.4.3"
  }
 },
 "nbformat": 4,
 "nbformat_minor": 0
}
