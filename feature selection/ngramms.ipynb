{
 "cells": [
  {
   "cell_type": "code",
   "execution_count": 7,
   "metadata": {
    "collapsed": true
   },
   "outputs": [],
   "source": [
    "import json\n",
    "raw_data = sc.textFile('hdfs://master:54310/ml_data_temp'). \\\n",
    "    map(json.loads)"
   ]
  },
  {
   "cell_type": "code",
   "execution_count": 10,
   "metadata": {
    "collapsed": true
   },
   "outputs": [],
   "source": [
    "features = raw_data.map(lambda x: x['Features'])"
   ]
  },
  {
   "cell_type": "code",
   "execution_count": 9,
   "metadata": {
    "collapsed": false
   },
   "outputs": [],
   "source": [
    "def extract_bigramms(words: list):\n",
    "    return zip(words, words[1:])"
   ]
  },
  {
   "cell_type": "code",
   "execution_count": 14,
   "metadata": {
    "collapsed": false,
    "scrolled": true
   },
   "outputs": [
    {
     "data": {
      "text/plain": [
       "PythonRDD[39] at RDD at PythonRDD.scala:43"
      ]
     },
     "execution_count": 14,
     "metadata": {},
     "output_type": "execute_result"
    }
   ],
   "source": [
    "bigramms = features.flatMap(extract_bigramms). \\\n",
    "    map(lambda b: (b,1)). \\\n",
    "    reduceByKey(int.__add__). \\\n",
    "    filter(lambda x: x[1] > 1). \\\n",
    "    sortBy(lambda b: b[1], ascending=False)\n",
    "bigramms.cache()"
   ]
  },
  {
   "cell_type": "code",
   "execution_count": 15,
   "metadata": {
    "collapsed": false
   },
   "outputs": [
    {
     "data": {
      "text/plain": [
       "[(('так', 'образ'), 23475),\n",
       " (('баз', 'дан'), 16125),\n",
       " (('сам', 'дел'), 13232),\n",
       " (('дан', 'момент'), 11754),\n",
       " (('sourc', 'code'), 10624),\n",
       " (('code', 'highlight'), 10289),\n",
       " (('точк', 'зрен'), 9609),\n",
       " (('социальн', 'сет'), 9527),\n",
       " (('как', 'либ'), 9520),\n",
       " (('font', 'color'), 9500)]"
      ]
     },
     "execution_count": 15,
     "metadata": {},
     "output_type": "execute_result"
    }
   ],
   "source": [
    "bigramms.take(10)"
   ]
  },
  {
   "cell_type": "code",
   "execution_count": 16,
   "metadata": {
    "collapsed": true
   },
   "outputs": [],
   "source": [
    "def extract_trigramms(words: list):\n",
    "    return zip(words, words[1:], words[2:])"
   ]
  },
  {
   "cell_type": "code",
   "execution_count": 19,
   "metadata": {
    "collapsed": false,
    "scrolled": true
   },
   "outputs": [
    {
     "data": {
      "text/plain": [
       "PythonRDD[63] at RDD at PythonRDD.scala:43"
      ]
     },
     "execution_count": 19,
     "metadata": {},
     "output_type": "execute_result"
    }
   ],
   "source": [
    "trigramms = features.flatMap(extract_trigramms). \\\n",
    "    map(lambda b: (b,1)). \\\n",
    "    reduceByKey(int.__add__). \\\n",
    "    filter(lambda x: x[1] > 1). \\\n",
    "    sortBy(lambda b: b[1], ascending=False)\n",
    "trigramms.cache()"
   ]
  },
  {
   "cell_type": "code",
   "execution_count": 23,
   "metadata": {
    "collapsed": false
   },
   "outputs": [
    {
     "data": {
      "text/plain": [
       "[(('sourc', 'code', 'highlight'), 10283),\n",
       " (('font', 'font', 'color'), 5908),\n",
       " (('highlight', 'sourc', 'code'), 4835),\n",
       " (('code', 'highlight', 'sourc'), 4833),\n",
       " (('проголосова', 'человек', 'воздержа'), 3713),\n",
       " (('font', 'color', 'font'), 3679),\n",
       " (('человек', 'воздержа', 'человек'), 3327),\n",
       " (('зарегистрирова', 'пользовател', 'могут'), 3167),\n",
       " (('пользовател', 'могут', 'участвова'), 3150),\n",
       " (('опрос', 'войд', 'пожалуйст'), 3149),\n",
       " (('могут', 'участвова', 'опрос'), 3149),\n",
       " (('участвова', 'опрос', 'войд'), 3149),\n",
       " (('true', 'true', 'true'), 2979),\n",
       " (('color', 'font', 'font'), 2896),\n",
       " (('тех', 'пор', 'пок'), 2405),\n",
       " (('воздержа', 'человек', 'form'), 2068),\n",
       " (('overrid', 'public', 'void'), 1840),\n",
       " (('div', 'div', 'class'), 1754),\n",
       " (('form', 'зарегистрирова', 'пользовател'), 1569),\n",
       " (('человек', 'form', 'зарегистрирова'), 1567)]"
      ]
     },
     "execution_count": 23,
     "metadata": {},
     "output_type": "execute_result"
    }
   ],
   "source": [
    "trigramms.take(20)"
   ]
  },
  {
   "cell_type": "code",
   "execution_count": null,
   "metadata": {
    "collapsed": true
   },
   "outputs": [],
   "source": []
  }
 ],
 "metadata": {
  "kernelspec": {
   "display_name": "Python 3",
   "language": "python",
   "name": "python3"
  },
  "language_info": {
   "codemirror_mode": {
    "name": "ipython",
    "version": 3
   },
   "file_extension": ".py",
   "mimetype": "text/x-python",
   "name": "python",
   "nbconvert_exporter": "python",
   "pygments_lexer": "ipython3",
   "version": "3.4.3"
  }
 },
 "nbformat": 4,
 "nbformat_minor": 0
}
