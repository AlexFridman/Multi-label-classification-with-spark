{
 "cells": [
  {
   "cell_type": "code",
   "execution_count": 1,
   "metadata": {
    "collapsed": true
   },
   "outputs": [],
   "source": [
    "import json\n",
    "data = sc.textFile('hdfs://master:54310/clean'). \\\n",
    "    map(lambda line: json.loads(line))"
   ]
  },
  {
   "cell_type": "code",
   "execution_count": 4,
   "metadata": {
    "collapsed": false
   },
   "outputs": [],
   "source": [
    "all_words = data.flatMap(lambda x: set(x['Text']))"
   ]
  },
  {
   "cell_type": "code",
   "execution_count": 5,
   "metadata": {
    "collapsed": true
   },
   "outputs": [],
   "source": [
    "word_count = all_words.countByValue()"
   ]
  },
  {
   "cell_type": "code",
   "execution_count": 14,
   "metadata": {
    "collapsed": false
   },
   "outputs": [
    {
     "data": {
      "text/plain": [
       "('clearless', 1)"
      ]
     },
     "execution_count": 14,
     "metadata": {},
     "output_type": "execute_result"
    }
   ],
   "source": [
    "list(word_count.items())[2]"
   ]
  },
  {
   "cell_type": "code",
   "execution_count": 16,
   "metadata": {
    "collapsed": true
   },
   "outputs": [],
   "source": [
    "import re"
   ]
  },
  {
   "cell_type": "code",
   "execution_count": 17,
   "metadata": {
    "collapsed": true
   },
   "outputs": [],
   "source": [
    "ordered_wc = sc.parallelize(word_count.items()). \\\n",
    "    distinct(). \\\n",
    "    sortBy(lambda wc: wc[1])"
   ]
  },
  {
   "cell_type": "code",
   "execution_count": 18,
   "metadata": {
    "collapsed": false
   },
   "outputs": [
    {
     "data": {
      "text/plain": [
       "340494"
      ]
     },
     "execution_count": 18,
     "metadata": {},
     "output_type": "execute_result"
    }
   ],
   "source": [
    "ordered_wc.filter(lambda wc: wc[1] == 1).count()"
   ]
  },
  {
   "cell_type": "code",
   "execution_count": 48,
   "metadata": {
    "collapsed": true
   },
   "outputs": [],
   "source": [
    "ordered_wc = ordered_wc.filter(lambda wc: wc[1] > 1)"
   ]
  },
  {
   "cell_type": "code",
   "execution_count": null,
   "metadata": {
    "collapsed": true
   },
   "outputs": [],
   "source": []
  },
  {
   "cell_type": "code",
   "execution_count": 49,
   "metadata": {
    "collapsed": false
   },
   "outputs": [],
   "source": [
    "rus = ordered_wc.filter(lambda wc: not re.match('[a-z]', wc[0])). \\\n",
    "    sortBy(lambda wc: wc[1])"
   ]
  },
  {
   "cell_type": "code",
   "execution_count": 50,
   "metadata": {
    "collapsed": true
   },
   "outputs": [],
   "source": [
    "eng = ordered_wc.filter(lambda wc: re.match('[a-z]', wc[0])). \\\n",
    "    sortBy(lambda wc: wc[1], ascending=True)"
   ]
  },
  {
   "cell_type": "code",
   "execution_count": 51,
   "metadata": {
    "collapsed": false
   },
   "outputs": [
    {
     "data": {
      "text/plain": [
       "108988"
      ]
     },
     "execution_count": 51,
     "metadata": {},
     "output_type": "execute_result"
    }
   ],
   "source": [
    "rus.count()"
   ]
  },
  {
   "cell_type": "code",
   "execution_count": 52,
   "metadata": {
    "collapsed": false
   },
   "outputs": [
    {
     "data": {
      "text/plain": [
       "102736"
      ]
     },
     "execution_count": 52,
     "metadata": {},
     "output_type": "execute_result"
    }
   ],
   "source": [
    "eng.count()"
   ]
  },
  {
   "cell_type": "code",
   "execution_count": 60,
   "metadata": {
    "collapsed": true
   },
   "outputs": [
    {
     "data": {
      "text/plain": [
       "[('googl', 17665),\n",
       " ('linux', 8860),\n",
       " ('class', 7937),\n",
       " ('sourc', 6727),\n",
       " ('updat', 5368),\n",
       " ('iphon', 4945),\n",
       " ('intel', 4572),\n",
       " ('manag', 4345),\n",
       " ('start', 4163),\n",
       " ('index', 4117),\n",
       " ('creat', 3976),\n",
       " ('error', 3627),\n",
       " ('mobil', 3440),\n",
       " ('flash', 3410),\n",
       " ('group', 3387),\n",
       " ('array', 3133),\n",
       " ('store', 3107),\n",
       " ('https', 3105),\n",
       " ('world', 3084),\n",
       " ('mysql', 3071),\n",
       " ('local', 2913),\n",
       " ('opera', 2778),\n",
       " ('email', 2749),\n",
       " ('secur', 2702),\n",
       " ('event', 2683),\n",
       " ('activ', 2653),\n",
       " ('phone', 2645),\n",
       " ('input', 2629),\n",
       " ('build', 2583),\n",
       " ('width', 2564),\n",
       " ('style', 2510),\n",
       " ('engin', 2455),\n",
       " ('count', 2403),\n",
       " ('apach', 2398),\n",
       " ('media', 2393),\n",
       " ('gmail', 2377),\n",
       " ('write', 2368),\n",
       " ('model', 2320),\n",
       " ('color', 2306),\n",
       " ('share', 2225),\n",
       " ('hello', 2173),\n",
       " ('print', 2164),\n",
       " ('break', 2112),\n",
       " ('nokia', 2110),\n",
       " ('defin', 2062),\n",
       " ('first', 2047),\n",
       " ('devic', 2028),\n",
       " ('modul', 1996),\n",
       " ('delet', 1994),\n",
       " ('const', 1965)]"
      ]
     },
     "execution_count": 60,
     "metadata": {},
     "output_type": "execute_result"
    }
   ],
   "source": [
    "eng.filter(lambda wc: len(wc[0]) == 5).sortBy(lambda wc: wc[1], ascending=False).take(50)"
   ]
  },
  {
   "cell_type": "code",
   "execution_count": 43,
   "metadata": {
    "collapsed": true
   },
   "outputs": [
    {
     "data": {
      "text/plain": [
       "[('server', 6274),\n",
       " ('code', 6250),\n",
       " ('public', 6228),\n",
       " ('file', 6219),\n",
       " ('set', 6161),\n",
       " ('var', 6094),\n",
       " ('java', 6006),\n",
       " ('els', 5924),\n",
       " ('fals', 5907),\n",
       " ('open', 5811),\n",
       " ('string', 5737),\n",
       " ('text', 5724),\n",
       " ('use', 5674),\n",
       " ('valu', 5558),\n",
       " ('usb', 5410),\n",
       " ('app', 5393),\n",
       " ('void', 5388),\n",
       " ('updat', 5368),\n",
       " ('url', 5297),\n",
       " ('null', 5295)]"
      ]
     },
     "execution_count": 43,
     "metadata": {},
     "output_type": "execute_result"
    }
   ],
   "source": [
    "eng.sortBy(lambda wc: wc[1], ascending=False).take(50)[30:]"
   ]
  },
  {
   "cell_type": "code",
   "execution_count": 47,
   "metadata": {
    "collapsed": true
   },
   "outputs": [
    {
     "data": {
      "text/plain": [
       "[('stdelement', 1),\n",
       " ('longstatus', 1),\n",
       " ('xygxyhanla', 1),\n",
       " ('markerfilt', 1),\n",
       " ('webometrix', 1),\n",
       " ('keyfilenam', 1),\n",
       " ('teckcrunch', 1),\n",
       " ('reactpivot', 1),\n",
       " ('ignoreopen', 1),\n",
       " ('dontgotouk', 1),\n",
       " ('titlefield', 1),\n",
       " ('windowdata', 1),\n",
       " ('gimballock', 1),\n",
       " ('readsymbol', 1),\n",
       " ('gdatabundl', 1),\n",
       " ('dlloverrid', 1),\n",
       " ('marginstep', 1),\n",
       " ('soapservic', 1),\n",
       " ('davesexton', 1),\n",
       " ('outcontrol', 1)]"
      ]
     },
     "execution_count": 47,
     "metadata": {},
     "output_type": "execute_result"
    }
   ],
   "source": [
    "eng.filter(lambda wc: len(wc[0])==10).take(20)"
   ]
  },
  {
   "cell_type": "code",
   "execution_count": 61,
   "metadata": {
    "collapsed": true
   },
   "outputs": [],
   "source": [
    "texts = data.map(lambda row: row['Text'])"
   ]
  },
  {
   "cell_type": "code",
   "execution_count": 62,
   "metadata": {
    "collapsed": true
   },
   "outputs": [],
   "source": [
    "from pyspark import SparkContext\n",
    "from pyspark.mllib.feature import HashingTF"
   ]
  },
  {
   "cell_type": "code",
   "execution_count": 63,
   "metadata": {
    "collapsed": true
   },
   "outputs": [],
   "source": [
    "hashingTF = HashingTF()\n",
    "tf = hashingTF.transform(texts)"
   ]
  },
  {
   "cell_type": "code",
   "execution_count": 65,
   "metadata": {
    "collapsed": false
   },
   "outputs": [],
   "source": [
    "from pyspark.mllib.feature import IDF\n",
    "tf.cache()\n",
    "idf = IDF().fit(tf)\n",
    "tfidf = idf.transform(tf)"
   ]
  },
  {
   "cell_type": "code",
   "execution_count": 67,
   "metadata": {
    "collapsed": false
   },
   "outputs": [],
   "source": [
    "tf.cache()\n",
    "idf = IDF(minDocFreq=2).fit(tf)\n",
    "tfidf = idf.transform(tf)"
   ]
  },
  {
   "cell_type": "code",
   "execution_count": 82,
   "metadata": {
    "collapsed": false
   },
   "outputs": [
    {
     "data": {
      "text/plain": [
       "680122"
      ]
     },
     "execution_count": 82,
     "metadata": {},
     "output_type": "execute_result"
    }
   ],
   "source": [
    "hashingTF.indexOf('google')"
   ]
  },
  {
   "cell_type": "code",
   "execution_count": 88,
   "metadata": {
    "collapsed": false
   },
   "outputs": [
    {
     "data": {
      "text/plain": [
       "'добр'"
      ]
     },
     "execution_count": 88,
     "metadata": {},
     "output_type": "execute_result"
    }
   ],
   "source": [
    "data.take(1)[0]['Text'][0]"
   ]
  },
  {
   "cell_type": "code",
   "execution_count": 89,
   "metadata": {
    "collapsed": false
   },
   "outputs": [
    {
     "data": {
      "text/plain": [
       "956959"
      ]
     },
     "execution_count": 89,
     "metadata": {},
     "output_type": "execute_result"
    }
   ],
   "source": [
    "hashingTF.indexOf('добр')"
   ]
  },
  {
   "cell_type": "code",
   "execution_count": 108,
   "metadata": {
    "collapsed": false,
    "scrolled": true
   },
   "outputs": [],
   "source": [
    "temp = tfidf.filter(lambda d: 956959 in d.indices).map(lambda d: d[956959])"
   ]
  },
  {
   "cell_type": "code",
   "execution_count": 171,
   "metadata": {
    "collapsed": true
   },
   "outputs": [],
   "source": [
    "hashes = all_words.distinct().map(lambda w: (hashingTF.indexOf(w), w))"
   ]
  },
  {
   "cell_type": "code",
   "execution_count": null,
   "metadata": {
    "collapsed": true
   },
   "outputs": [],
   "source": []
  },
  {
   "cell_type": "code",
   "execution_count": 121,
   "metadata": {
    "collapsed": false
   },
   "outputs": [],
   "source": [
    "def sparse_vector_to_dict(vector):\n",
    "    return [(int(i), vector[int(i)]) for i in vector.indices]"
   ]
  },
  {
   "cell_type": "code",
   "execution_count": null,
   "metadata": {
    "collapsed": true
   },
   "outputs": [],
   "source": [
    "import numpy as np\n",
    "\n",
    "def calc_stat(group):\n",
    "    values = np.array(list(group))    \n",
    "    min_v = values.min()\n",
    "    max_v = values.max()\n",
    "    mean_v = values.mean()\n",
    "    return (min_v, max_v, mean_v)"
   ]
  },
  {
   "cell_type": "code",
   "execution_count": 159,
   "metadata": {
    "collapsed": false
   },
   "outputs": [],
   "source": [
    "stat = tfidf.flatMap(lambda doc: sparse_vector_to_dict(doc)). \\\n",
    "    groupBy(lambda x: x[0]). \\\n",
    "    map(lambda g: (g[0], calc_stat(g[1]))). \\\n",
    "    collect()"
   ]
  },
  {
   "cell_type": "code",
   "execution_count": 163,
   "metadata": {
    "collapsed": false
   },
   "outputs": [
    {
     "data": {
      "text/plain": [
       "428674"
      ]
     },
     "execution_count": 163,
     "metadata": {},
     "output_type": "execute_result"
    }
   ],
   "source": [
    "sc.parallelize(stat).map(lambda x: x[0]).distinct().count()"
   ]
  },
  {
   "cell_type": "code",
   "execution_count": 164,
   "metadata": {
    "collapsed": false,
    "scrolled": true
   },
   "outputs": [
    {
     "data": {
      "text/plain": [
       "552218"
      ]
     },
     "execution_count": 164,
     "metadata": {},
     "output_type": "execute_result"
    }
   ],
   "source": [
    "hashes.count()"
   ]
  },
  {
   "cell_type": "code",
   "execution_count": 172,
   "metadata": {
    "collapsed": false
   },
   "outputs": [],
   "source": [
    "joined = hashes.join(sc.parallelize(stat))"
   ]
  },
  {
   "cell_type": "code",
   "execution_count": 173,
   "metadata": {
    "collapsed": false
   },
   "outputs": [
    {
     "data": {
      "text/plain": [
       "[(376832, ('линз', (5.5548525356221568, 376832.0, 188423.30485689137)))]"
      ]
     },
     "execution_count": 173,
     "metadata": {},
     "output_type": "execute_result"
    }
   ],
   "source": [
    "joined.take(1)"
   ]
  },
  {
   "cell_type": "code",
   "execution_count": 186,
   "metadata": {
    "collapsed": false
   },
   "outputs": [],
   "source": [
    "hist = joined.map(lambda x: x[1][1][1]).histogram(20)"
   ]
  },
  {
   "cell_type": "code",
   "execution_count": 187,
   "metadata": {
    "collapsed": true
   },
   "outputs": [
    {
     "data": {
      "text/plain": [
       "([0.0,\n",
       "  52428.699999999997,\n",
       "  104857.39999999999,\n",
       "  157286.09999999998,\n",
       "  209714.79999999999,\n",
       "  262143.5,\n",
       "  314572.19999999995,\n",
       "  367000.89999999997,\n",
       "  419429.59999999998,\n",
       "  471858.29999999999,\n",
       "  524287.0,\n",
       "  576715.69999999995,\n",
       "  629144.39999999991,\n",
       "  681573.09999999998,\n",
       "  734001.79999999993,\n",
       "  786430.5,\n",
       "  838859.19999999995,\n",
       "  891287.89999999991,\n",
       "  943716.59999999998,\n",
       "  996145.29999999993,\n",
       "  1048574.0],\n",
       " [27626,\n",
       "  27639,\n",
       "  27801,\n",
       "  27571,\n",
       "  27403,\n",
       "  27576,\n",
       "  27606,\n",
       "  27652,\n",
       "  27855,\n",
       "  27543,\n",
       "  27646,\n",
       "  27534,\n",
       "  27531,\n",
       "  27717,\n",
       "  27664,\n",
       "  27707,\n",
       "  27360,\n",
       "  27563,\n",
       "  27552,\n",
       "  27672])"
      ]
     },
     "execution_count": 187,
     "metadata": {},
     "output_type": "execute_result"
    }
   ],
   "source": [
    "hist"
   ]
  },
  {
   "cell_type": "code",
   "execution_count": null,
   "metadata": {
    "collapsed": true
   },
   "outputs": [],
   "source": []
  }
 ],
 "metadata": {
  "kernelspec": {
   "display_name": "Python 3",
   "language": "python",
   "name": "python3"
  },
  "language_info": {
   "codemirror_mode": {
    "name": "ipython",
    "version": 3
   },
   "file_extension": ".py",
   "mimetype": "text/x-python",
   "name": "python",
   "nbconvert_exporter": "python",
   "pygments_lexer": "ipython3",
   "version": "3.4.3"
  }
 },
 "nbformat": 4,
 "nbformat_minor": 0
}
