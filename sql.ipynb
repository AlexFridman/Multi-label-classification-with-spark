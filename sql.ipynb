{
 "cells": [
  {
   "cell_type": "code",
   "execution_count": 13,
   "metadata": {
    "collapsed": false
   },
   "outputs": [],
   "source": [
    "df = sqlContext.read.json('hdfs://master:54310/data')"
   ]
  },
  {
   "cell_type": "code",
   "execution_count": 16,
   "metadata": {
    "collapsed": false
   },
   "outputs": [
    {
     "name": "stdout",
     "output_type": "stream",
     "text": [
      "+-------+------------------+------------------+--------------------+------------------+------------------+\n",
      "|summary|        Favourites|            Number|              Rating|             Views|               _id|\n",
      "+-------+------------------+------------------+--------------------+------------------+------------------+\n",
      "|  count|            128169|            128169|              128169|            128169|            128169|\n",
      "|   mean| 56.17466782139207|116692.22792562944|-1.997358003951205E9|10485.198378703119|116692.22792562944|\n",
      "| stddev|126.48221918830556| 75264.34735973773| 5.475898646394082E8|24194.972999921505| 75264.34735973773|\n",
      "|    min|                 0|                 1|         -2147483648|                14|                 1|\n",
      "|    max|              3928|            266865|                 434|           1576006|            266865|\n",
      "+-------+------------------+------------------+--------------------+------------------+------------------+\n",
      "\n"
     ]
    }
   ],
   "source": [
    "df.describe().show()"
   ]
  },
  {
   "cell_type": "code",
   "execution_count": 5,
   "metadata": {
    "collapsed": false
   },
   "outputs": [
    {
     "name": "stdout",
     "output_type": "stream",
     "text": [
      "Scan JSONRelation[hdfs://master:54310/data][Author#0,CodeComments#1,Comments#2,Company#3,Date#4,Favourites#5L,Habs#6,Hubs#7,Name#8,Number#9L,Rating#10L,Tags#11,Text#12,Uri#13,Views#14L,_id#15L]\n",
      "\n"
     ]
    }
   ],
   "source": [
    "df.explain()"
   ]
  },
  {
   "cell_type": "code",
   "execution_count": 6,
   "metadata": {
    "collapsed": false
   },
   "outputs": [
    {
     "data": {
      "text/plain": [
       "139209"
      ]
     },
     "execution_count": 6,
     "metadata": {},
     "output_type": "execute_result"
    }
   ],
   "source": [
    "df.count()"
   ]
  },
  {
   "cell_type": "code",
   "execution_count": 14,
   "metadata": {
    "collapsed": false
   },
   "outputs": [],
   "source": [
    "df = df.dropDuplicates([u'Uri'])"
   ]
  },
  {
   "cell_type": "code",
   "execution_count": 15,
   "metadata": {
    "collapsed": false
   },
   "outputs": [
    {
     "data": {
      "text/plain": [
       "128169"
      ]
     },
     "execution_count": 15,
     "metadata": {},
     "output_type": "execute_result"
    }
   ],
   "source": [
    "df.count()"
   ]
  },
  {
   "cell_type": "code",
   "execution_count": 17,
   "metadata": {
    "collapsed": true
   },
   "outputs": [],
   "source": [
    "df.write.json('hdfs://master:54310/data_no_duplicates')"
   ]
  },
  {
   "cell_type": "code",
   "execution_count": 20,
   "metadata": {
    "collapsed": true
   },
   "outputs": [],
   "source": [
    "del df"
   ]
  },
  {
   "cell_type": "code",
   "execution_count": 22,
   "metadata": {
    "collapsed": true
   },
   "outputs": [],
   "source": [
    "df = sqlContext.read.json('hdfs://master:54310/data_no_duplicates')"
   ]
  },
  {
   "cell_type": "code",
   "execution_count": 23,
   "metadata": {
    "collapsed": false
   },
   "outputs": [
    {
     "data": {
      "text/plain": [
       "128169"
      ]
     },
     "execution_count": 23,
     "metadata": {},
     "output_type": "execute_result"
    }
   ],
   "source": [
    "df.count()"
   ]
  },
  {
   "cell_type": "code",
   "execution_count": 24,
   "metadata": {
    "collapsed": false,
    "scrolled": true
   },
   "outputs": [
    {
     "data": {
      "text/plain": [
       "[('Author', 'string'),\n",
       " ('CodeComments', 'array<string>'),\n",
       " ('Comments', 'array<string>'),\n",
       " ('Date', 'string'),\n",
       " ('Favourites', 'bigint'),\n",
       " ('Hubs', 'array<string>'),\n",
       " ('Name', 'string'),\n",
       " ('Number', 'bigint'),\n",
       " ('Rating', 'bigint'),\n",
       " ('Tags', 'array<string>'),\n",
       " ('Text', 'string'),\n",
       " ('Uri', 'string'),\n",
       " ('Views', 'bigint'),\n",
       " ('_id', 'bigint')]"
      ]
     },
     "execution_count": 24,
     "metadata": {},
     "output_type": "execute_result"
    }
   ],
   "source": [
    "df.dtypes"
   ]
  },
  {
   "cell_type": "code",
   "execution_count": 25,
   "metadata": {
    "collapsed": true
   },
   "outputs": [],
   "source": [
    "import time"
   ]
  },
  {
   "cell_type": "code",
   "execution_count": 26,
   "metadata": {
    "collapsed": false
   },
   "outputs": [
    {
     "data": {
      "text/plain": [
       "Row(Author='Анатолий Ализар', CodeComments=[], Comments=['Купить что-ли пару акций Facebook-а?', 'может лучше гугла акции найти, они то больше прибыли приносят, наверное.', 'Ну, Google перекуплен, имхо.', 'Это публичная компания, акции на бирже, может купить любой желающий —', 'www.google.com/finance?q=NASDAQ', ':GOOG', 'Не получилась', 'ссылка', 'с первого раза.', 'Возможно. Я так думаю, что если кто-то всерьез решит покупать акции на бирже, он сможет обойти это. Например, у меня есть двое знакомых, которые покупают акции, они местные, так что счет у них есть, но работают они через брокеров, так что им счет для этого не нужен.', 'Я ничего в этом не понимаю, поэтому акции покупать не собираюсь.', 'Google нужно было раньше брать', 'Купите. Попробуйте как и нам скажете.', 'SecondMarket это по аналогии как SecondHand, акции б/у?', 'ru.wikipedia.org/wiki/%D0%92%D1%82%D0%BE%D1%80%D0%B8%D1%87%D0%BD%D1%8B%D0%B9_%D1%80%D1%8B%D0%BD%D0%BE%D0%BA_%D1%86%D0%B5%D0%BD%D0%BD%D1%8B%D1%85_%D0%B1%D1%83%D0%BC%D0%B0%D0%B3', 'это получается примерно 500 тыщ акций фейсбука продаются на этой бирже… правильно посчитал?', 'Чего мелочиться, бывший разработчик ныне пытается отсудить 84% акций.', 'а фейсбук чтобы не морочится распродажу устраивает!', 'Насколько я понимаю не каждый смертный может купить акции на SecondMarket, поправте меня если я не прав.', 'П. Дуров скупит столько, сколько будет максимально возможно', 'Как раз давно ищу, куда бы вложиться', 'А подскажите такую вещь: вот все твердят, что можно купить акции и тд. А как мне, имеющему деньги на карточке, купить акции того же фейсбука/эппла/гугла? можно быть для этого обычным человеком?', '(и, что самое интересное, их потом продать-то можно? :)', '«Это информация о покупке и продаже акций, которые не обращаются на открытой бирже. » — т.е. Facebook все-таки нельзя купить по $65 за акцию? :)'], Date='2010-07-27 11:17:00', Favourites=11, Hubs=['Социальные сети и сообщества'], Name='Facebook можно купить по $65 за акцию', Number=100293, Rating=-2147483648, Tags=['SecondMarket', 'акции Facebook', 'акции Zynga', 'LinkedIn', 'Bloom Energy', 'Silver Spring Networks', 'Twitter', 'MobiTV'], Text='\\n      Трейдинговая платформа SecondMarket опубликовала статистику торговли акциями частных компаний во II кв. 2010 года. Это информация о покупке и продаже акций, которые не обращаются на открытой бирже. \\r\\n\\r\\n\\r\\n\\r\\nПродавцами выступают, в основном, бывшие сотрудники компаний.\\r\\n\\r\\n\\r\\n\\r\\nВо II кв. 2010 года оборот на бирже снизился до $51 млн (хотя только в марте было продано на $70 млн), но средняя стоимость акций продолжает расти. Например, акции Facebook предлагаются уже по $65, хотя ещё в апреле их можно было купить по $50.\\r\\n\\r\\nАкции Facebook составляют 64% всего оборота на закрытом рынке. Второе место у Zynga (12%), далее следуют LinkedIn, Bloom Energy и Silver Spring Networks (по 6%), Twitter и MobiTV (по 3%).\\r\\n\\r\\nВо втором квартале в списке на покупку появились заявки на акции eGarmony, Groupon, Skype и Mozilla Corporation, хотя предложение акций этих компаний отсутствует.\\n\\n      \\n      \\n    ', Uri='http://www.habrahabr.ru/post/100293', Views=2748, _id=100293)"
      ]
     },
     "execution_count": 26,
     "metadata": {},
     "output_type": "execute_result"
    }
   ],
   "source": [
    "df.first()"
   ]
  },
  {
   "cell_type": "code",
   "execution_count": 29,
   "metadata": {
    "collapsed": true
   },
   "outputs": [],
   "source": [
    "date = df[\"Date\"]"
   ]
  },
  {
   "cell_type": "code",
   "execution_count": 30,
   "metadata": {
    "collapsed": false
   },
   "outputs": [
    {
     "data": {
      "text/plain": [
       "pyspark.sql.column.Column"
      ]
     },
     "execution_count": 30,
     "metadata": {},
     "output_type": "execute_result"
    }
   ],
   "source": [
    "type(date)"
   ]
  },
  {
   "cell_type": "code",
   "execution_count": 31,
   "metadata": {
    "collapsed": false
   },
   "outputs": [
    {
     "data": {
      "text/plain": [
       "Column<b'cast(Date as date)'>"
      ]
     },
     "execution_count": 31,
     "metadata": {},
     "output_type": "execute_result"
    }
   ],
   "source": [
    "date.cast(\"date\")"
   ]
  },
  {
   "cell_type": "code",
   "execution_count": 34,
   "metadata": {
    "collapsed": false
   },
   "outputs": [],
   "source": [
    "i = date.getItem(1)"
   ]
  },
  {
   "cell_type": "code",
   "execution_count": 36,
   "metadata": {
    "collapsed": false
   },
   "outputs": [
    {
     "data": {
      "text/plain": [
       "Column<b'Date[1][value]'>"
      ]
     },
     "execution_count": 36,
     "metadata": {},
     "output_type": "execute_result"
    }
   ],
   "source": []
  },
  {
   "cell_type": "code",
   "execution_count": null,
   "metadata": {
    "collapsed": true
   },
   "outputs": [],
   "source": []
  }
 ],
 "metadata": {
  "kernelspec": {
   "display_name": "Python 3",
   "language": "python",
   "name": "python3"
  },
  "language_info": {
   "codemirror_mode": {
    "name": "ipython",
    "version": 3
   },
   "file_extension": ".py",
   "mimetype": "text/x-python",
   "name": "python",
   "nbconvert_exporter": "python",
   "pygments_lexer": "ipython3",
   "version": "3.4.3"
  }
 },
 "nbformat": 4,
 "nbformat_minor": 0
}
