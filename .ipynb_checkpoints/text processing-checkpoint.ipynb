{
 "cells": [
  {
   "cell_type": "code",
   "execution_count": 1,
   "metadata": {
    "collapsed": false,
    "scrolled": true
   },
   "outputs": [],
   "source": [
    "raw_data = sc.textFile('hdfs://master:54310/raw_data')"
   ]
  },
  {
   "cell_type": "code",
   "execution_count": 2,
   "metadata": {
    "collapsed": false
   },
   "outputs": [],
   "source": [
    "import json\n",
    "data = raw_data.map(json.loads)"
   ]
  },
  {
   "cell_type": "code",
   "execution_count": 3,
   "metadata": {
    "collapsed": true
   },
   "outputs": [],
   "source": [
    "unique = data.groupBy(lambda x: x['Uri']). \\\n",
    "    map(lambda g: list(g[1])[0])"
   ]
  },
  {
   "cell_type": "code",
   "execution_count": 41,
   "metadata": {
    "collapsed": false
   },
   "outputs": [
    {
     "data": {
      "text/plain": [
       "(139209, 128169)"
      ]
     },
     "execution_count": 41,
     "metadata": {},
     "output_type": "execute_result"
    }
   ],
   "source": [
    "data.count(), unique.count()"
   ]
  },
  {
   "cell_type": "code",
   "execution_count": 4,
   "metadata": {
    "collapsed": false
   },
   "outputs": [],
   "source": [
    "from snowballstemmer import RussianStemmer, EnglishStemmer\n",
    "russian_stemmer = RussianStemmer()\n",
    "english_stemmer = EnglishStemmer()\n",
    "\n",
    "def stem_words(words: list):\n",
    "    stemmed = russian_stemmer.stemWords(words)\n",
    "    stemmed = english_stemmer.stemWords(stemmed)\n",
    "    return stemmed"
   ]
  },
  {
   "cell_type": "code",
   "execution_count": 5,
   "metadata": {
    "collapsed": true
   },
   "outputs": [],
   "source": [
    "from nltk.tokenize import regexp_tokenize\n",
    "\n",
    "def split_text(text: str):\n",
    "    return regexp_tokenize(text, '''[\\w']+''')"
   ]
  },
  {
   "cell_type": "code",
   "execution_count": 6,
   "metadata": {
    "collapsed": false
   },
   "outputs": [],
   "source": [
    "import re\n",
    "\n",
    "def create_compiled_url_regexp():\n",
    "    url_regexp = r'''(?:http(?:s)?:\\\\/\\\\/)?(?:(?:[a-zа-я]|[a-zа-я0-9_-]{2,})\\\\.)+(?:[a-z][a-z0-9-]{1,20}|рф)(?:\\\\/[!a-z0-9а-яё_z%~:\\\\.,-]*)*(?:[\\\\?&#+][a-z0-9\\\\[\\\\]_]*(?:=?[a-z0-9~\\\\._=,%\\\\|+!-]*))*(?<![\\\\.,:!?-])'''\n",
    "    return re.compile(url_regexp)\n",
    "\n",
    "def create_compiled_url_regexp_2():\n",
    "    url_regexp = r'''(\\b(https?|ftp|file)://)?[-A-Za-z0-9+&@#/%?=~_|!:,.;]+[-A-Za-z0-9+&@#/%=~_|]'''\n",
    "    return re.compile(url_regexp)\n",
    "\n",
    "url_regexp = create_compiled_url_regexp()\n",
    "url_regexp2 = create_compiled_url_regexp_2()\n",
    "\n",
    "def replace_urls(text: str):\n",
    "    text = url_regexp.sub(' ', text)\n",
    "    text = url_regexp2.sub(' ', text)\n",
    "    return text\n",
    "\n",
    "def filter_variable_names(words: list):\n",
    "    return [word for word in words if '_' not in word]\n",
    "\n",
    "def delete_non_word_chars(text: str):\n",
    "    temp = replace_urls(text)\n",
    "    temp = temp.replace('ё', 'е')\n",
    "    temp = re.sub(r'(&[a-z0-9]*;)', ' ', temp) # & encoded symbols\n",
    "    temp = re.sub(r'(\\W|\\d)+', ' ', temp) # non word or digit\n",
    "    temp = re.sub(r'\\s+', ' ', temp) # 2+ spaces\n",
    "    return temp.strip()"
   ]
  },
  {
   "cell_type": "code",
   "execution_count": 7,
   "metadata": {
    "collapsed": false,
    "scrolled": false
   },
   "outputs": [],
   "source": [
    "from nltk.corpus import stopwords\n",
    "\n",
    "russian_stops = stopwords.words('russian')\n",
    "english_stops = stopwords.words('english')\n",
    "\n",
    "def filter_stopwords(words: list):\n",
    "    return [word for word in words \\\n",
    "           if word not in russian_stops \\\n",
    "           and word not in english_stops]"
   ]
  },
  {
   "cell_type": "code",
   "execution_count": 8,
   "metadata": {
    "collapsed": true
   },
   "outputs": [],
   "source": [
    "def filter_words_with_repeatable_letters(words: list):\n",
    "    return [word for word in words if not re.match('(.)\\\\1{2}', word)]\n",
    "    \n",
    "def is_language_usual(word: str):\n",
    "    length = len(word)\n",
    "    is_eng = re.match('[a-z]', word)\n",
    "    return length > 2 and ((not is_eng and length < 25) or (is_eng and length < 15))\n",
    "\n",
    "def filter_words_with_unusual_by_language_length(words: list):\n",
    "    return [word for word in words if is_language_usual(word)]"
   ]
  },
  {
   "cell_type": "code",
   "execution_count": 9,
   "metadata": {
    "collapsed": false
   },
   "outputs": [],
   "source": [
    "def tokenize_text(text: str):\n",
    "    text = text.lower()\n",
    "    text = delete_non_word_chars(text)\n",
    "    tokens = split_text(text)\n",
    "    tokens = filter_variable_names(tokens)\n",
    "    tokens = filter_stopwords(tokens)\n",
    "    tokens = stem_words(tokens)\n",
    "    tokens = filter_words_with_repeatable_letters(tokens)\n",
    "    tokens = filter_words_with_unusual_by_language_length(tokens)\n",
    "    return tokens"
   ]
  },
  {
   "cell_type": "code",
   "execution_count": 66,
   "metadata": {
    "collapsed": false
   },
   "outputs": [],
   "source": [
    "from itertools import chain\n",
    "with open('/home/hadoop/l_repl.json', 'r') as fp:\n",
    "    l_repl_1 = json.load(fp)\n",
    "with open('/home/hadoop/res.json', 'r', encoding='utf-8') as fp:\n",
    "    l_repl_2 = json.load(fp)    \n",
    "def repl_labels(labels):\n",
    "    temp = [l_repl_1.get(l, l) for l in labels]\n",
    "    return list(set(chain(*tuple(l_repl_2[l] for l in temp if l in l_repl_2))))\n",
    "\n",
    "def repl_labels_2(labels):\n",
    "    temp = [l_repl_1.get(l, l) for l in labels]\n",
    "    temp = list(set(chain(*tuple(l_repl_2[l] for l in temp if l in l_repl_2))))\n",
    "    return list(set(temp + list(chain(*tuple(l_repl_2[l] for l in temp if l in l_repl_2)))))"
   ]
  },
  {
   "cell_type": "code",
   "execution_count": 67,
   "metadata": {
    "collapsed": true
   },
   "outputs": [],
   "source": [
    "def normalize_label(label: str):\n",
    "    temp = label.lower()\n",
    "    temp = temp.replace('ё', 'е')\n",
    "    temp = split_text(temp)\n",
    "    temp = russian_stemmer.stemWords(temp)\n",
    "    temp = english_stemmer.stemWords(temp)\n",
    "    return ' '.join(temp)\n",
    "\n",
    "label_bl = {'лог компании', 'рная дыра', 'пиарюсь'}\n",
    "\n",
    "def filter_bl_labels(labels: list):\n",
    "    return [l for l in labels if\n",
    "            all([l_bl not in l for l_bl in label_bl])]\n",
    "\n",
    "def normalize_labels(labels: list):    \n",
    "    return [normalize_label(l_i) for l_i in filter_bl_labels(labels)]    \n",
    "\n",
    "def normalize_tags(tags):\n",
    "    norm_tags = normalize_labels(tags)\n",
    "    return repl_labels_2(norm_tags)"
   ]
  },
  {
   "cell_type": "code",
   "execution_count": 68,
   "metadata": {
    "collapsed": false
   },
   "outputs": [],
   "source": [
    "def transform_data(data: dict):\n",
    "    res = {}\n",
    "    #res['Labels'] = normalize_labels(data['Hubs'] + data['Tags'])\n",
    "    hubs = normalize_labels(data['Hubs'])\n",
    "    tags = normalize_tags(data['Tags'])\n",
    "    res['Labels'] = list(set(hubs + tags))\n",
    "    res['Id'] = data['Number']\n",
    "    res['Features'] = tokenize_text(data['Text'])\n",
    "    return res"
   ]
  },
  {
   "cell_type": "code",
   "execution_count": 69,
   "metadata": {
    "collapsed": true
   },
   "outputs": [],
   "source": [
    "transformed_data = unique.map(lambda x: transform_data(x)). \\\n",
    "    filter(lambda x: len(x['Features']) > 0 and len(x['Labels']) > 0)"
   ]
  },
  {
   "cell_type": "code",
   "execution_count": 70,
   "metadata": {
    "collapsed": false,
    "scrolled": true
   },
   "outputs": [
    {
     "data": {
      "text/plain": [
       "PythonRDD[44] at RDD at PythonRDD.scala:43"
      ]
     },
     "execution_count": 70,
     "metadata": {},
     "output_type": "execute_result"
    }
   ],
   "source": [
    "transformed_data.cache()"
   ]
  },
  {
   "cell_type": "code",
   "execution_count": 44,
   "metadata": {
    "collapsed": true
   },
   "outputs": [],
   "source": [
    "labels = transformed_data.flatMap(lambda x: x['Labels']).distinct()"
   ]
  },
  {
   "cell_type": "code",
   "execution_count": 45,
   "metadata": {
    "collapsed": false,
    "scrolled": false
   },
   "outputs": [
    {
     "data": {
      "text/plain": [
       "583"
      ]
     },
     "execution_count": 45,
     "metadata": {},
     "output_type": "execute_result"
    }
   ],
   "source": [
    "labels.count()"
   ]
  },
  {
   "cell_type": "code",
   "execution_count": 71,
   "metadata": {
    "collapsed": false
   },
   "outputs": [],
   "source": [
    "label_nums = transformed_data.map(lambda x: len(x['Labels'])).collect()"
   ]
  },
  {
   "cell_type": "code",
   "execution_count": 72,
   "metadata": {
    "collapsed": true
   },
   "outputs": [],
   "source": [
    "from matplotlib import pyplot as plt"
   ]
  },
  {
   "cell_type": "code",
   "execution_count": 73,
   "metadata": {
    "collapsed": true
   },
   "outputs": [],
   "source": [
    "plt.hist(label_nums, bins=40)\n",
    "plt.show()"
   ]
  },
  {
   "cell_type": "code",
   "execution_count": 52,
   "metadata": {
    "collapsed": false
   },
   "outputs": [
    {
     "data": {
      "text/plain": [
       "114250"
      ]
     },
     "execution_count": 52,
     "metadata": {},
     "output_type": "execute_result"
    }
   ],
   "source": [
    "transformed_data.count()"
   ]
  },
  {
   "cell_type": "code",
   "execution_count": 74,
   "metadata": {
    "collapsed": false
   },
   "outputs": [],
   "source": [
    "excl_features = transformed_data.flatMap(lambda x: set(x['Features'])). \\\n",
    "    map(lambda f: (f,1)). \\\n",
    "    reduceByKey(int.__add__). \\\n",
    "    filter(lambda fc: fc[1] == 1). \\\n",
    "    map(lambda fc: fc[0]).collect()\n",
    "    \n",
    "excl_features_set = set(excl_features)\n",
    "excl_features_br = sc.broadcast(excl_features_set)"
   ]
  },
  {
   "cell_type": "code",
   "execution_count": 75,
   "metadata": {
    "collapsed": true
   },
   "outputs": [],
   "source": [
    "def exclude_features(doc: dict):\n",
    "    doc['Features'] = [f for f in doc['Features'] if f not in excl_features_br.value]\n",
    "    return doc"
   ]
  },
  {
   "cell_type": "code",
   "execution_count": 76,
   "metadata": {
    "collapsed": false
   },
   "outputs": [],
   "source": [
    "transformed_data.map(exclude_features). \\\n",
    "    filter(lambda x: len(x['Features']) > 0). \\\n",
    "    map(lambda x: json.dumps(x)). \\\n",
    "    repartition(6). \\\n",
    "    saveAsTextFile('hdfs://master:54310/exp_f/clean')"
   ]
  },
  {
   "cell_type": "code",
   "execution_count": null,
   "metadata": {
    "collapsed": true
   },
   "outputs": [],
   "source": []
  }
 ],
 "metadata": {
  "kernelspec": {
   "display_name": "Python 3",
   "language": "python",
   "name": "python3"
  },
  "language_info": {
   "codemirror_mode": {
    "name": "ipython",
    "version": 3
   },
   "file_extension": ".py",
   "mimetype": "text/x-python",
   "name": "python",
   "nbconvert_exporter": "python",
   "pygments_lexer": "ipython3",
   "version": "3.4.3"
  }
 },
 "nbformat": 4,
 "nbformat_minor": 0
}
