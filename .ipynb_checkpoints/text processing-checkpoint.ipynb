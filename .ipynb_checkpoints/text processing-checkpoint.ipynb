{
 "cells": [
  {
   "cell_type": "code",
   "execution_count": 1,
   "metadata": {
    "collapsed": false
   },
   "outputs": [],
   "source": [
    "raw_data = sc.textFile('hdfs://master:54310/raw_data')"
   ]
  },
  {
   "cell_type": "code",
   "execution_count": 3,
   "metadata": {
    "collapsed": false
   },
   "outputs": [],
   "source": [
    "import json\n",
    "data = raw_data.map(json.loads)"
   ]
  },
  {
   "cell_type": "code",
   "execution_count": 4,
   "metadata": {
    "collapsed": true
   },
   "outputs": [],
   "source": [
    "unique = data.groupBy(lambda x: x['Uri']). \\\n",
    "    map(lambda g: list(g[1])[0])"
   ]
  },
  {
   "cell_type": "code",
   "execution_count": 5,
   "metadata": {
    "collapsed": false
   },
   "outputs": [
    {
     "data": {
      "text/plain": [
       "(139209, 128169)"
      ]
     },
     "execution_count": 5,
     "metadata": {},
     "output_type": "execute_result"
    }
   ],
   "source": [
    "data.count(), unique.count()"
   ]
  },
  {
   "cell_type": "code",
   "execution_count": 6,
   "metadata": {
    "collapsed": false
   },
   "outputs": [],
   "source": [
    "from snowballstemmer import RussianStemmer, EnglishStemmer\n",
    "russian_stemmer = RussianStemmer()\n",
    "english_stemmer = EnglishStemmer()\n",
    "\n",
    "def stem_words(words: list):\n",
    "    stemmed = russian_stemmer.stemWords(words)\n",
    "    stemmed = english_stemmer.stemWords(stemmed)\n",
    "    return stemmed"
   ]
  },
  {
   "cell_type": "code",
   "execution_count": 19,
   "metadata": {
    "collapsed": true
   },
   "outputs": [],
   "source": [
    "from nltk.tokenize import regexp_tokenize\n",
    "\n",
    "def split_text(text: str):\n",
    "    return regexp_tokenize(text, '''[\\w']+''')"
   ]
  },
  {
   "cell_type": "code",
   "execution_count": 9,
   "metadata": {
    "collapsed": true
   },
   "outputs": [],
   "source": [
    "import re\n",
    "\n",
    "def create_compiled_url_regexp():\n",
    "    url_regexp = r'''(?i)\\b((?:[a-z][\\w-]+:(?:/{1,3}|[a-z0-9%])|www\\d{0,3}[.]|\n",
    "    [a-z0-9.\\-]+[.][a-z]{2,4}/)(?:[^\\s()<>]+|\\(([^\\s()<>]+|(\\([^\\s()<>]+\\)))*\\))+(?:\\(([^\\s()<>]+|\n",
    "    (\\([^\\s()<>]+\\)))*\\)|[^\\s`!()\\[\\]{};:'\".,<>?«»“”‘’]))'''\n",
    "    return re.compile(url_regexp)\n",
    "\n",
    "url_regexp = create_compiled_url_regexp()\n",
    "\n",
    "def replace_urls(text: str):\n",
    "    return url_regexp.sub(' ', text)\n",
    "\n",
    "def filter_variable_names(words: list):\n",
    "    return [word for word in words if '_' not in word]\n",
    "\n",
    "def delete_non_word_chars(text: str):\n",
    "    temp = text#replace_urls(text)\n",
    "    temp = temp.replace('ё', 'е')\n",
    "    temp = re.sub(r'(&[a-z0-9]*;)', ' ', temp) # & encoded symbols\n",
    "    temp = re.sub(r'(\\W|\\d)+', ' ', temp) # non word or digit\n",
    "    temp = re.sub(r'\\s+', ' ', temp) # 2+ spaces\n",
    "    return temp.strip()"
   ]
  },
  {
   "cell_type": "code",
   "execution_count": 4,
   "metadata": {
    "collapsed": true
   },
   "outputs": [],
   "source": [
    "A = \"AAAAAA\""
   ]
  },
  {
   "cell_type": "code",
   "execution_count": 5,
   "metadata": {
    "collapsed": false
   },
   "outputs": [
    {
     "data": {
      "text/plain": [
       "'BBBBBBBBBBBB'"
      ]
     },
     "execution_count": 5,
     "metadata": {},
     "output_type": "execute_result"
    }
   ],
   "source": [
    "A.replace('A','BB')"
   ]
  },
  {
   "cell_type": "code",
   "execution_count": 6,
   "metadata": {
    "collapsed": false,
    "scrolled": false
   },
   "outputs": [],
   "source": [
    "from nltk.corpus import stopwords\n",
    "\n",
    "russian_stops = stopwords.words('russian')\n",
    "english_stops = stopwords.words('english')\n",
    "\n",
    "def filter_stopwords(words: list):\n",
    "    return [word for word in words \\\n",
    "           if word not in russian_stops \\\n",
    "           and word not in english_stops]"
   ]
  },
  {
   "cell_type": "code",
   "execution_count": 7,
   "metadata": {
    "collapsed": true
   },
   "outputs": [],
   "source": [
    "def filter_words_with_repeatable_letters(words: list):\n",
    "    return [word for word in words if not re.match('(.)\\\\1{2}', word)]\n",
    "    \n",
    "def is_language_usual(word: str):\n",
    "    length = len(word)\n",
    "    is_eng = re.match('[a-z]', word)\n",
    "    return length > 2 and ((not is_eng and length < 25) or (is_eng and length < 15))\n",
    "\n",
    "def filter_words_with_unusual_by_language_length(words: list):\n",
    "    return [word for word in words if is_language_usual(word)]"
   ]
  },
  {
   "cell_type": "code",
   "execution_count": 8,
   "metadata": {
    "collapsed": false
   },
   "outputs": [],
   "source": [
    "def tokenize_text(text: str):\n",
    "    text = text.lower()\n",
    "    text = delete_non_word_chars(text)\n",
    "    tokens = split_text(text)\n",
    "    tokens = filter_variable_names(tokens)\n",
    "    tokens = filter_stopwords(tokens)\n",
    "    tokens = stem_words(tokens)\n",
    "    tokens = filter_words_with_repeatable_letters(tokens)\n",
    "    tokens = filter_words_with_unusual_by_language_length(tokens)\n",
    "    return tokens"
   ]
  },
  {
   "cell_type": "code",
   "execution_count": 9,
   "metadata": {
    "collapsed": true
   },
   "outputs": [],
   "source": [
    "def transform_data(data: dict):\n",
    "    res = {}\n",
    "    res['Hubs'] = data['Hubs']\n",
    "    res['Id'] = data['Number']\n",
    "    res['Text'] = tokenize_text(data['Text'])\n",
    "    res['Comments'] = tokenize_text(' '.join(data['Comments']))\n",
    "    res['CodeComments'] = tokenize_text(' '.join(data['CodeComments']))\n",
    "    res['Tags'] = data['Tags']\n",
    "    return res"
   ]
  },
  {
   "cell_type": "code",
   "execution_count": 10,
   "metadata": {
    "collapsed": false,
    "scrolled": false
   },
   "outputs": [
    {
     "ename": "NameError",
     "evalue": "name 'unique' is not defined",
     "output_type": "error",
     "traceback": [
      "\u001b[1;31m---------------------------------------------------------------------------\u001b[0m",
      "\u001b[1;31mNameError\u001b[0m                                 Traceback (most recent call last)",
      "\u001b[1;32m<ipython-input-10-f6a7cd5746cd>\u001b[0m in \u001b[0;36m<module>\u001b[1;34m()\u001b[0m\n\u001b[1;32m----> 1\u001b[1;33m \u001b[0munique\u001b[0m\u001b[1;33m.\u001b[0m\u001b[0mmap\u001b[0m\u001b[1;33m(\u001b[0m\u001b[1;32mlambda\u001b[0m \u001b[0mx\u001b[0m\u001b[1;33m:\u001b[0m \u001b[0mtransform_data\u001b[0m\u001b[1;33m(\u001b[0m\u001b[0mx\u001b[0m\u001b[1;33m)\u001b[0m\u001b[1;33m)\u001b[0m\u001b[1;33m.\u001b[0m     \u001b[0mfilter\u001b[0m\u001b[1;33m(\u001b[0m\u001b[1;32mlambda\u001b[0m \u001b[0mx\u001b[0m\u001b[1;33m:\u001b[0m \u001b[0mx\u001b[0m\u001b[1;33m[\u001b[0m\u001b[1;34m'Text'\u001b[0m\u001b[1;33m]\u001b[0m\u001b[1;33m)\u001b[0m\u001b[1;33m.\u001b[0m     \u001b[0mmap\u001b[0m\u001b[1;33m(\u001b[0m\u001b[1;32mlambda\u001b[0m \u001b[0mx\u001b[0m\u001b[1;33m:\u001b[0m \u001b[0mjson\u001b[0m\u001b[1;33m.\u001b[0m\u001b[0mdumps\u001b[0m\u001b[1;33m(\u001b[0m\u001b[0mx\u001b[0m\u001b[1;33m)\u001b[0m\u001b[1;33m)\u001b[0m\u001b[1;33m.\u001b[0m     \u001b[0mrepartition\u001b[0m\u001b[1;33m(\u001b[0m\u001b[1;36m4\u001b[0m\u001b[1;33m)\u001b[0m\u001b[1;33m.\u001b[0m     \u001b[0msaveAsTextFile\u001b[0m\u001b[1;33m(\u001b[0m\u001b[1;34m'hdfs://master:54310/stemmed'\u001b[0m\u001b[1;33m)\u001b[0m\u001b[1;33m\u001b[0m\u001b[0m\n\u001b[0m",
      "\u001b[1;31mNameError\u001b[0m: name 'unique' is not defined"
     ]
    }
   ],
   "source": [
    "unique.map(lambda x: transform_data(x)). \\\n",
    "    filter(lambda x: x['Text']). \\\n",
    "    map(lambda x: json.dumps(x)). \\\n",
    "    repartition(4). \\\n",
    "    saveAsTextFile('hdfs://master:54310/stemmed')"
   ]
  },
  {
   "cell_type": "code",
   "execution_count": null,
   "metadata": {
    "collapsed": true
   },
   "outputs": [],
   "source": []
  },
  {
   "cell_type": "code",
   "execution_count": null,
   "metadata": {
    "collapsed": true
   },
   "outputs": [],
   "source": []
  },
  {
   "cell_type": "code",
   "execution_count": null,
   "metadata": {
    "collapsed": true
   },
   "outputs": [],
   "source": []
  },
  {
   "cell_type": "code",
   "execution_count": null,
   "metadata": {
    "collapsed": true
   },
   "outputs": [],
   "source": []
  },
  {
   "cell_type": "code",
   "execution_count": null,
   "metadata": {
    "collapsed": true
   },
   "outputs": [],
   "source": []
  }
 ],
 "metadata": {
  "kernelspec": {
   "display_name": "Python 3",
   "language": "python",
   "name": "python3"
  },
  "language_info": {
   "codemirror_mode": {
    "name": "ipython",
    "version": 3
   },
   "file_extension": ".py",
   "mimetype": "text/x-python",
   "name": "python",
   "nbconvert_exporter": "python",
   "pygments_lexer": "ipython3",
   "version": "3.4.3"
  }
 },
 "nbformat": 4,
 "nbformat_minor": 0
}
