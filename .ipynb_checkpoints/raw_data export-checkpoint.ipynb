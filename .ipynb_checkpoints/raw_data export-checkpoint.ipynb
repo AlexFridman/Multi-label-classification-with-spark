{
 "cells": [
  {
   "cell_type": "code",
   "execution_count": 1,
   "metadata": {
    "collapsed": true
   },
   "outputs": [],
   "source": [
    "import json"
   ]
  },
  {
   "cell_type": "code",
   "execution_count": 2,
   "metadata": {
    "collapsed": true
   },
   "outputs": [],
   "source": [
    "raw_data = sc.textFile('hdfs://master:54310/raw_data').map(json.loads)"
   ]
  },
  {
   "cell_type": "code",
   "execution_count": 7,
   "metadata": {
    "collapsed": false
   },
   "outputs": [
    {
     "data": {
      "text/plain": [
       "[{'Author': 'Денис Крючков',\n",
       "  'CodeComments': [],\n",
       "  'Comments': [],\n",
       "  'Company': None,\n",
       "  'Date': '2006-07-04 01:14:00',\n",
       "  'Favourites': 1,\n",
       "  'Habs': None,\n",
       "  'Hubs': ['Чёрная дыра'],\n",
       "  'Name': 'Googlonia',\n",
       "  'Number': 114,\n",
       "  'Rating': -2147483648,\n",
       "  'Tags': ['флаги', 'будущее', 'среда'],\n",
       "  'Text': '\\n      Флаги веб-сайтов.\\r\\nКаждый из нас ходит сразу под несколькими.\\r\\nМожет быть, в самом деле когда-нибудь исчезнут границы государств, и все мы будем ходить под флагом среды, в которой проводим больше всего времени?\\n\\n      \\n      \\n    ',\n",
       "  'Uri': 'http://www.habrahabr.ru/post/114',\n",
       "  'Views': 192,\n",
       "  '_id': 114}]"
      ]
     },
     "execution_count": 7,
     "metadata": {},
     "output_type": "execute_result"
    }
   ],
   "source": [
    "raw_data.take(1)"
   ]
  },
  {
   "cell_type": "code",
   "execution_count": 5,
   "metadata": {
    "collapsed": false
   },
   "outputs": [],
   "source": [
    "unique = raw_data.groupBy(lambda x: x['Uri']). \\\n",
    "    map(lambda g: list(g[1])[0])"
   ]
  },
  {
   "cell_type": "code",
   "execution_count": 16,
   "metadata": {
    "collapsed": false
   },
   "outputs": [],
   "source": [
    "clean_data = unique.map(lambda x: {'Id': x['Number'], 'Text': x['Text'], 'Labels': x['Hubs'] + x['Tags']}). \\\n",
    "    map(lambda x: json.dumps(x) + '\\n').collect()"
   ]
  },
  {
   "cell_type": "code",
   "execution_count": 17,
   "metadata": {
    "collapsed": true
   },
   "outputs": [],
   "source": [
    "with open('/home/hadoop/export/raw_data/raw_data.json', 'w+') as fp:\n",
    "    fp.writelines(clean_data)"
   ]
  },
  {
   "cell_type": "code",
   "execution_count": 19,
   "metadata": {
    "collapsed": false,
    "scrolled": true
   },
   "outputs": [
    {
     "name": "stdout",
     "output_type": "stream",
     "text": [
      "{'Id': 51896, 'Text': '\\n      Доброго времени суток!\\r\\n\\r\\nХочу попросить совета у хабражителей по поводу бекапов.\\r\\n\\r\\nЕсть папка с проектом, в неё находятся исходники и большое количество графических и видео файлов. В данный момент бекап скрипт делает следующим образом:\\r\\n\\r\\nДампит все базы в папку с бекапами — каждая база в свою папку, каждая таблица в свой файл\\r\\nЗапаковывает каждую папку с базой в .tar, потом жмёт всё это в 7z\\r\\nКопирует папку с проектом в папку бекапов\\r\\nПакует папку с проектом в .tar и жмёт 7z\\r\\n\\r\\nЕстественно графики много, она не ужимается и сжатие происходит очень долго. В данный момент там порядка 2-х гигабайт пользовательских графических файлов.\\r\\n\\r\\nНа данный момент есть следующие идеи:\\r\\n\\r\\nКопировать только все текстовые файлы, т.е. исходники и графику дизайна (её не много) — использовать find или сделать скрипт, который копирует все подпапки проекта по отдельности, пропуская папки с графикой\\r\\nПапки с графикой копировать отдельно и просто паковать в .tar\\r\\nВариант с rsync думал, но я не нашёл возможности делать синхронизацию на windows машину\\r\\n\\r\\n\\r\\nЛюбые дельные советы и идеи приветствуются.\\r\\nСервер работает на Gentoo Linux.\\n\\n      \\n      \\n    ', 'Labels': ['Чёрная дыра', 'backup', 'бекап', 'windows', 'linux']}\n"
     ]
    }
   ],
   "source": [
    "with open('/home/hadoop/export/raw_data/raw_data.json', 'r') as fp:\n",
    "    print(json.loads(fp.readline()))"
   ]
  },
  {
   "cell_type": "code",
   "execution_count": null,
   "metadata": {
    "collapsed": true
   },
   "outputs": [],
   "source": []
  }
 ],
 "metadata": {
  "kernelspec": {
   "display_name": "Python 3",
   "language": "python",
   "name": "python3"
  },
  "language_info": {
   "codemirror_mode": {
    "name": "ipython",
    "version": 3
   },
   "file_extension": ".py",
   "mimetype": "text/x-python",
   "name": "python",
   "nbconvert_exporter": "python",
   "pygments_lexer": "ipython3",
   "version": "3.4.3"
  }
 },
 "nbformat": 4,
 "nbformat_minor": 0
}
