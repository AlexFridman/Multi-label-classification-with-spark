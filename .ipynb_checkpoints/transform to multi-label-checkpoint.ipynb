{
 "cells": [
  {
   "cell_type": "code",
   "execution_count": 2,
   "metadata": {
    "collapsed": true
   },
   "outputs": [],
   "source": [
    "import json"
   ]
  },
  {
   "cell_type": "code",
   "execution_count": 3,
   "metadata": {
    "collapsed": true
   },
   "outputs": [],
   "source": [
    "raw_data = sc.textFile('hdfs://master:54310/clean'). \\\n",
    "    map(lambda line: json.loads(line))"
   ]
  },
  {
   "cell_type": "code",
   "execution_count": 5,
   "metadata": {
    "collapsed": true
   },
   "outputs": [],
   "source": [
    "excluding_wrods = raw_data.flatMap(lambda doc: [(f,1) for f in doc['Text']]). \\\n",
    "    reduceByKey(lambda a,b: a+b). \\\n",
    "    filter(lambda wc: wc[1] < 6). \\\n",
    "    collectAsMap()"
   ]
  },
  {
   "cell_type": "code",
   "execution_count": 6,
   "metadata": {
    "collapsed": false
   },
   "outputs": [
    {
     "data": {
      "text/plain": [
       "416090"
      ]
     },
     "execution_count": 6,
     "metadata": {},
     "output_type": "execute_result"
    }
   ],
   "source": [
    "len(excluding_wrods)"
   ]
  },
  {
   "cell_type": "code",
   "execution_count": 7,
   "metadata": {
    "collapsed": true
   },
   "outputs": [],
   "source": [
    "hub_bl = {'лог компании', 'рная дыра', 'пиарюсь'}\n",
    "def remove_bl_hubs_from_hubs(doc: dict):\n",
    "    doc['Hubs'] = [h for h in doc['Hubs'] if all([h_bl not in h for h_bl in hub_bl])]\n",
    "    return doc\n",
    "\n",
    "def exclude_words(words: list):\n",
    "    return [w for w in words if w not in excluding_wrods]\n",
    "\n",
    "    \n",
    "sc.textFile('hdfs://master:54310/clean'). \\\n",
    "    map(lambda line: remove_bl_hubs_from_hubs(json.loads(line))). \\\n",
    "    filter(lambda doc: doc['Hubs']). \\\n",
    "    map(lambda doc: {'Id': doc['Id'],\n",
    "                     'Features': exclude_words(doc['Text']),\n",
    "                     'Label': doc['Hubs']}). \\\n",
    "    map(lambda x: json.dumps(x)). \\\n",
    "    repartition(4). \\\n",
    "    saveAsTextFile('hdfs://master:54310/multi-label')"
   ]
  },
  {
   "cell_type": "code",
   "execution_count": null,
   "metadata": {
    "collapsed": true
   },
   "outputs": [],
   "source": []
  }
 ],
 "metadata": {
  "kernelspec": {
   "display_name": "Python 3",
   "language": "python",
   "name": "python3"
  },
  "language_info": {
   "codemirror_mode": {
    "name": "ipython",
    "version": 3
   },
   "file_extension": ".py",
   "mimetype": "text/x-python",
   "name": "python",
   "nbconvert_exporter": "python",
   "pygments_lexer": "ipython3",
   "version": "3.4.3"
  }
 },
 "nbformat": 4,
 "nbformat_minor": 0
}
