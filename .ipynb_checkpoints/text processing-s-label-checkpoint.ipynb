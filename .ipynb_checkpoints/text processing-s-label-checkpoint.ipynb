{
 "cells": [
  {
   "cell_type": "code",
   "execution_count": 10,
   "metadata": {
    "collapsed": false,
    "scrolled": true
   },
   "outputs": [],
   "source": [
    "raw_data = sc.textFile('hdfs://master:54310/raw_data')"
   ]
  },
  {
   "cell_type": "code",
   "execution_count": 11,
   "metadata": {
    "collapsed": false
   },
   "outputs": [],
   "source": [
    "import json\n",
    "data = raw_data.map(json.loads)"
   ]
  },
  {
   "cell_type": "code",
   "execution_count": 12,
   "metadata": {
    "collapsed": true
   },
   "outputs": [],
   "source": [
    "unique = data.groupBy(lambda x: x['Uri']). \\\n",
    "    map(lambda g: list(g[1])[0])"
   ]
  },
  {
   "cell_type": "code",
   "execution_count": null,
   "metadata": {
    "collapsed": false
   },
   "outputs": [],
   "source": [
    "data.count(), unique.count()"
   ]
  },
  {
   "cell_type": "code",
   "execution_count": 14,
   "metadata": {
    "collapsed": false
   },
   "outputs": [],
   "source": [
    "from snowballstemmer import RussianStemmer, EnglishStemmer\n",
    "russian_stemmer = RussianStemmer()\n",
    "english_stemmer = EnglishStemmer()\n",
    "\n",
    "def stem_words(words: list):\n",
    "    stemmed = russian_stemmer.stemWords(words)\n",
    "    stemmed = english_stemmer.stemWords(stemmed)\n",
    "    return stemmed"
   ]
  },
  {
   "cell_type": "code",
   "execution_count": 15,
   "metadata": {
    "collapsed": true
   },
   "outputs": [],
   "source": [
    "from nltk.tokenize import regexp_tokenize\n",
    "\n",
    "def split_text(text: str):\n",
    "    return regexp_tokenize(text, '''[\\w']+''')"
   ]
  },
  {
   "cell_type": "code",
   "execution_count": 16,
   "metadata": {
    "collapsed": true
   },
   "outputs": [],
   "source": [
    "import re\n",
    "\n",
    "def create_compiled_url_regexp():\n",
    "    url_regexp = r'''(?i)\\b((?:[a-z][\\w-]+:(?:/{1,3}|[a-z0-9%])|www\\d{0,3}[.]|\n",
    "    [a-z0-9.\\-]+[.][a-z]{2,4}/)(?:[^\\s()<>]+|\\(([^\\s()<>]+|(\\([^\\s()<>]+\\)))*\\))+(?:\\(([^\\s()<>]+|\n",
    "    (\\([^\\s()<>]+\\)))*\\)|[^\\s`!()\\[\\]{};:'\".,<>?«»“”‘’]))'''\n",
    "    return re.compile(url_regexp)\n",
    "\n",
    "url_regexp = create_compiled_url_regexp()\n",
    "\n",
    "def replace_urls(text: str):\n",
    "    return url_regexp.sub(' ', text)\n",
    "\n",
    "def filter_variable_names(words: list):\n",
    "    return [word for word in words if '_' not in word]\n",
    "\n",
    "def delete_non_word_chars(text: str):\n",
    "    temp = text#replace_urls(text)\n",
    "    temp = temp.replace('ё', 'е')\n",
    "    temp = re.sub(r'(&[a-z0-9]*;)', ' ', temp) # & encoded symbols\n",
    "    temp = re.sub(r'(\\W|\\d)+', ' ', temp) # non word or digit\n",
    "    temp = re.sub(r'\\s+', ' ', temp) # 2+ spaces\n",
    "    return temp.strip()"
   ]
  },
  {
   "cell_type": "code",
   "execution_count": 17,
   "metadata": {
    "collapsed": false,
    "scrolled": false
   },
   "outputs": [],
   "source": [
    "from nltk.corpus import stopwords\n",
    "\n",
    "russian_stops = stopwords.words('russian')\n",
    "english_stops = stopwords.words('english')\n",
    "\n",
    "def filter_stopwords(words: list):\n",
    "    return [word for word in words \\\n",
    "           if word not in russian_stops \\\n",
    "           and word not in english_stops]"
   ]
  },
  {
   "cell_type": "code",
   "execution_count": 18,
   "metadata": {
    "collapsed": true
   },
   "outputs": [],
   "source": [
    "def filter_words_with_repeatable_letters(words: list):\n",
    "    return [word for word in words if not re.match('(.)\\\\1{2}', word)]\n",
    "    \n",
    "def is_language_usual(word: str):\n",
    "    length = len(word)\n",
    "    is_eng = re.match('[a-z]', word)\n",
    "    return length > 2 and ((not is_eng and length < 25) or (is_eng and length < 15))\n",
    "\n",
    "def filter_words_with_unusual_by_language_length(words: list):\n",
    "    return [word for word in words if is_language_usual(word)]"
   ]
  },
  {
   "cell_type": "code",
   "execution_count": 19,
   "metadata": {
    "collapsed": false
   },
   "outputs": [],
   "source": [
    "def tokenize_text(text: str):\n",
    "    text = text.lower()\n",
    "    text = delete_non_word_chars(text)\n",
    "    tokens = split_text(text)\n",
    "    tokens = filter_variable_names(tokens)\n",
    "    tokens = filter_stopwords(tokens)\n",
    "    tokens = stem_words(tokens)\n",
    "    tokens = filter_words_with_repeatable_letters(tokens)\n",
    "    tokens = filter_words_with_unusual_by_language_length(tokens)\n",
    "    return tokens"
   ]
  },
  {
   "cell_type": "code",
   "execution_count": 20,
   "metadata": {
    "collapsed": true
   },
   "outputs": [],
   "source": [
    "def normalize_label(label: str):\n",
    "    temp = label.lower()\n",
    "    temp = temp.replace('ё', 'е')\n",
    "    temp = split_text(temp)\n",
    "    temp = russian_stemmer.stemWords(temp)\n",
    "    temp = english_stemmer.stemWords(temp)\n",
    "    return ' '.join(temp)\n",
    "\n",
    "label_bl = {'лог компании', 'рная дыра', 'пиарюсь'}\n",
    "def filter_bl_labels(labels: list):\n",
    "    return [l for l in labels if\n",
    "            all([l_bl not in l for l_bl in label_bl])]\n",
    "\n",
    "def normalize_labels(labels: list):    \n",
    "    return [normalize_label(l_i) for l_i in filter_bl_labels(labels)]    "
   ]
  },
  {
   "cell_type": "code",
   "execution_count": 21,
   "metadata": {
    "collapsed": true
   },
   "outputs": [],
   "source": [
    "def transform_data(data: dict):\n",
    "    res = {}\n",
    "    res['Labels'] = normalize_labels(data['Hubs'] + data['Tags'])\n",
    "    res['Id'] = data['Number']\n",
    "    res['Features'] = tokenize_text(data['Text'])\n",
    "    return res"
   ]
  },
  {
   "cell_type": "code",
   "execution_count": 22,
   "metadata": {
    "collapsed": false
   },
   "outputs": [],
   "source": [
    "transformed_data = unique.map(lambda x: transform_data(x))"
   ]
  },
  {
   "cell_type": "code",
   "execution_count": 23,
   "metadata": {
    "collapsed": false
   },
   "outputs": [
    {
     "data": {
      "text/plain": [
       "PythonRDD[7] at RDD at PythonRDD.scala:43"
      ]
     },
     "execution_count": 23,
     "metadata": {},
     "output_type": "execute_result"
    }
   ],
   "source": [
    "transformed_data.cache()"
   ]
  },
  {
   "cell_type": "code",
   "execution_count": 24,
   "metadata": {
    "collapsed": true
   },
   "outputs": [],
   "source": [
    "excluding_labels = transformed_data.flatMap(lambda l: l['Labels']). \\\n",
    "    map(lambda l: (l,1)). \\\n",
    "    reduceByKey(int.__add__). \\\n",
    "    filter(lambda l: l[1] < 30).collectAsMap()"
   ]
  },
  {
   "cell_type": "code",
   "execution_count": 26,
   "metadata": {
    "collapsed": false
   },
   "outputs": [
    {
     "data": {
      "text/plain": [
       "101302"
      ]
     },
     "execution_count": 26,
     "metadata": {},
     "output_type": "execute_result"
    }
   ],
   "source": [
    "transformed_data.flatMap(lambda l: l['Labels']).distinct().count()"
   ]
  },
  {
   "cell_type": "code",
   "execution_count": 25,
   "metadata": {
    "collapsed": false
   },
   "outputs": [
    {
     "data": {
      "text/plain": [
       "98773"
      ]
     },
     "execution_count": 25,
     "metadata": {},
     "output_type": "execute_result"
    }
   ],
   "source": [
    "len(excluding_labels)"
   ]
  },
  {
   "cell_type": "code",
   "execution_count": 22,
   "metadata": {
    "collapsed": true
   },
   "outputs": [],
   "source": [
    "excluding_labels_br = sc.broadcast(excluding_labels)"
   ]
  },
  {
   "cell_type": "code",
   "execution_count": 23,
   "metadata": {
    "collapsed": false
   },
   "outputs": [],
   "source": [
    "def filter_labels(doc: dict):\n",
    "    doc['Labels'] = [l for l in doc['Labels']\n",
    "                     if l not in excluding_labels_br.value]\n",
    "    return doc"
   ]
  },
  {
   "cell_type": "code",
   "execution_count": 24,
   "metadata": {
    "collapsed": false,
    "scrolled": true
   },
   "outputs": [],
   "source": [
    "transformed_data.map(filter_labels). \\\n",
    "    filter(lambda x: len(x['Features']) > 0 and len(x['Labels']) > 2). \\\n",
    "    map(lambda x: json.dumps(x)). \\\n",
    "    repartition(6). \\\n",
    "    saveAsTextFile('hdfs://master:54310/clean_ml')"
   ]
  }
 ],
 "metadata": {
  "kernelspec": {
   "display_name": "Python 3",
   "language": "python",
   "name": "python3"
  },
  "language_info": {
   "codemirror_mode": {
    "name": "ipython",
    "version": 3
   },
   "file_extension": ".py",
   "mimetype": "text/x-python",
   "name": "python",
   "nbconvert_exporter": "python",
   "pygments_lexer": "ipython3",
   "version": "3.4.3"
  }
 },
 "nbformat": 4,
 "nbformat_minor": 0
}
