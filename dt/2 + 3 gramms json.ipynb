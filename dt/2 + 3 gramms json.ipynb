{
 "cells": [
  {
   "cell_type": "code",
   "execution_count": 1,
   "metadata": {
    "collapsed": true
   },
   "outputs": [],
   "source": [
    "import json\n",
    "from pyspark.mllib.util import MLUtils\n",
    "from collections import Counter\n",
    "from pyspark.mllib.linalg import Vectors\n",
    "from pyspark.mllib.classification import LabeledPoint"
   ]
  },
  {
   "cell_type": "code",
   "execution_count": 2,
   "metadata": {
    "collapsed": true
   },
   "outputs": [],
   "source": [
    "def add_bi_tri_gramms(doc):\n",
    "    words = doc['Features']\n",
    "    bigramms = ['{} {}'.format(w_0, w_1) for w_0, w_1 in zip(words[:-1], words[1:])]\n",
    "    trigramms = ['{} {} {}'.format(w_0, w_1, w_2) for w_0, w_1, w_2 in zip(words[:-2], words[1:-1], words[2:])]\n",
    "    doc['Features'].extend(bigramms)\n",
    "    doc['Features'].extend(trigramms)\n",
    "    return doc    "
   ]
  },
  {
   "cell_type": "code",
   "execution_count": 3,
   "metadata": {
    "collapsed": true
   },
   "outputs": [],
   "source": [
    "temp_data = sc.textFile('hdfs://master:54310/exp_f/clean') \\\n",
    "    .map(json.loads).map(add_bi_tri_gramms)"
   ]
  },
  {
   "cell_type": "code",
   "execution_count": 4,
   "metadata": {
    "collapsed": false
   },
   "outputs": [],
   "source": [
    "word_WL = temp_data.flatMap(lambda x: set(x['Features'])) \\\n",
    "    .map(lambda w: (w, 1)) \\\n",
    "    .reduceByKey(int.__add__) \\\n",
    "    .filter(lambda wc: wc[1] > 24) \\\n",
    "    .map(lambda wc: wc[0])  \\\n",
    "    .collect()"
   ]
  },
  {
   "cell_type": "code",
   "execution_count": 5,
   "metadata": {
    "collapsed": false
   },
   "outputs": [
    {
     "data": {
      "text/plain": [
       "226119"
      ]
     },
     "execution_count": 5,
     "metadata": {},
     "output_type": "execute_result"
    }
   ],
   "source": [
    "len(word_WL)"
   ]
  },
  {
   "cell_type": "code",
   "execution_count": 6,
   "metadata": {
    "collapsed": true
   },
   "outputs": [],
   "source": [
    "word_WL_br = sc.broadcast(set(word_WL))"
   ]
  },
  {
   "cell_type": "code",
   "execution_count": 7,
   "metadata": {
    "collapsed": true
   },
   "outputs": [],
   "source": [
    "def filter_words(doc):\n",
    "    doc['Features'] = [w for w in doc['Features'] if w in word_WL_br.value]\n",
    "    return doc"
   ]
  },
  {
   "cell_type": "code",
   "execution_count": 8,
   "metadata": {
    "collapsed": true
   },
   "outputs": [],
   "source": [
    "clean_rdd = temp_data.map(filter_words)"
   ]
  },
  {
   "cell_type": "code",
   "execution_count": 11,
   "metadata": {
    "collapsed": false,
    "scrolled": true
   },
   "outputs": [],
   "source": [
    "clean_rdd.map(json.dumps).repartition(6).saveAsTextFile('hdfs://master:54310/exp_f/2_3_gramms')"
   ]
  },
  {
   "cell_type": "code",
   "execution_count": null,
   "metadata": {
    "collapsed": true
   },
   "outputs": [],
   "source": []
  }
 ],
 "metadata": {
  "kernelspec": {
   "display_name": "Python 3",
   "language": "python",
   "name": "python3"
  },
  "language_info": {
   "codemirror_mode": {
    "name": "ipython",
    "version": 3
   },
   "file_extension": ".py",
   "mimetype": "text/x-python",
   "name": "python",
   "nbconvert_exporter": "python",
   "pygments_lexer": "ipython3",
   "version": "3.4.3"
  }
 },
 "nbformat": 4,
 "nbformat_minor": 0
}
