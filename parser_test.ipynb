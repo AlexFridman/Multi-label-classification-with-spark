{
 "cells": [
  {
   "cell_type": "code",
   "execution_count": 1,
   "metadata": {
    "collapsed": true
   },
   "outputs": [],
   "source": [
    "from bs4 import BeautifulSoup\n",
    "\n",
    "\n",
    "class TopicParser:\n",
    "    @staticmethod\n",
    "    def extract_tags(soup: BeautifulSoup) -> list:\n",
    "        tag_tags = soup.findAll(name='a', attrs={'rel': 'tag'})\n",
    "        return [tag_tag.get_text.lower() for tag_tag in tag_tags]\n",
    "\n",
    "    @staticmethod\n",
    "    def extract_hubs(soup: BeautifulSoup) -> list:\n",
    "        hub_tags = soup.findAll(name='a', attrs={'class': 'hub'})\n",
    "        return [hub_tag.get_text().lower() for hub_tag in hub_tags]\n",
    "\n",
    "    @staticmethod\n",
    "    def extract_text(soup: BeautifulSoup) -> str:\n",
    "        text_tag = soup.find(name='div', attrs={'class': 'content html_format'})\n",
    "        return text_tag.get_text()"
   ]
  },
  {
   "cell_type": "code",
   "execution_count": 8,
   "metadata": {
    "collapsed": true
   },
   "outputs": [],
   "source": [
    "import json"
   ]
  },
  {
   "cell_type": "code",
   "execution_count": 12,
   "metadata": {
    "collapsed": true
   },
   "outputs": [],
   "source": [
    "data = sc.textFile('hdfs://master:54310/ml_clean').map(json.loads)"
   ]
  },
  {
   "cell_type": "code",
   "execution_count": 14,
   "metadata": {
    "collapsed": false
   },
   "outputs": [
    {
     "data": {
      "text/plain": [
       "{'Features': ['сегодн',\n",
       "  'праздник',\n",
       "  'дел',\n",
       "  'любим',\n",
       "  'нам',\n",
       "  'ресурс',\n",
       "  'хабрахабр',\n",
       "  'отмеча',\n",
       "  'юбил',\n",
       "  'юбил',\n",
       "  'назван',\n",
       "  'стотысячн',\n",
       "  'пост',\n",
       "  'поздравля',\n",
       "  'жител',\n",
       "  'сег',\n",
       "  'ресурс',\n",
       "  'знаменательн',\n",
       "  'днем',\n",
       "  'жела',\n",
       "  'хабр',\n",
       "  'увлекательн',\n",
       "  'стат',\n",
       "  'нескучн',\n",
       "  'гайд',\n",
       "  'меньш',\n",
       "  'крик',\n",
       "  'торт',\n",
       "  'сторон',\n",
       "  'посетител'],\n",
       " 'Id': 100000,\n",
       " 'Labels': ['внутрен голос', 'хабр', 'юбил']}"
      ]
     },
     "execution_count": 14,
     "metadata": {},
     "output_type": "execute_result"
    }
   ],
   "source": [
    "data.filter(lambda x: x['Id'] == 100000).take(1)[0]"
   ]
  },
  {
   "cell_type": "code",
   "execution_count": 5,
   "metadata": {
    "collapsed": true
   },
   "outputs": [],
   "source": [
    "from random import randint\n",
    "from requests import request"
   ]
  },
  {
   "cell_type": "code",
   "execution_count": null,
   "metadata": {
    "collapsed": true
   },
   "outputs": [],
   "source": [
    "for i in range(5000, 200000, 10000):\n",
    "    hub_id = randint(i - 5000, i + 5000)\n",
    "    url = 'http://habrahabr.ru/post/{}/'.format(hub_id)\n",
    "    response = request('GET', url)\n",
    "    if response.status_code == 404:\n",
    "        "
   ]
  }
 ],
 "metadata": {
  "kernelspec": {
   "display_name": "Python 3",
   "language": "python",
   "name": "python3"
  },
  "language_info": {
   "codemirror_mode": {
    "name": "ipython",
    "version": 3
   },
   "file_extension": ".py",
   "mimetype": "text/x-python",
   "name": "python",
   "nbconvert_exporter": "python",
   "pygments_lexer": "ipython3",
   "version": "3.4.3"
  }
 },
 "nbformat": 4,
 "nbformat_minor": 0
}
