{
 "cells": [
  {
   "cell_type": "code",
   "execution_count": 2,
   "metadata": {
    "collapsed": false
   },
   "outputs": [],
   "source": [
    "data = sc.textFile('hdfs://master:54310/data')"
   ]
  },
  {
   "cell_type": "code",
   "execution_count": 3,
   "metadata": {
    "collapsed": true
   },
   "outputs": [],
   "source": [
    "import json"
   ]
  },
  {
   "cell_type": "code",
   "execution_count": 5,
   "metadata": {
    "collapsed": true
   },
   "outputs": [],
   "source": [
    "def parse(line: str):\n",
    "    return json.loads(line)"
   ]
  },
  {
   "cell_type": "code",
   "execution_count": 6,
   "metadata": {
    "collapsed": true
   },
   "outputs": [],
   "source": [
    "data = data.map(lambda line: parse(line))"
   ]
  },
  {
   "cell_type": "code",
   "execution_count": 7,
   "metadata": {
    "collapsed": true
   },
   "outputs": [],
   "source": [
    "groupped = data.groupBy(lambda row: row[\"Uri\"]).map(lambda g: list(g[1])[0])"
   ]
  },
  {
   "cell_type": "code",
   "execution_count": 8,
   "metadata": {
    "collapsed": false
   },
   "outputs": [
    {
     "data": {
      "text/plain": [
       "[{'Author': 'Eugene Kudashev',\n",
       "  'CodeComments': [],\n",
       "  'Comments': [],\n",
       "  'Company': None,\n",
       "  'Date': '2008-12-04 10:34:00',\n",
       "  'Favourites': 0,\n",
       "  'Habs': None,\n",
       "  'Hubs': ['Хабрахабр'],\n",
       "  'Name': 'Активные пользователи',\n",
       "  'Number': 46152,\n",
       "  'Rating': -2147483648,\n",
       "  'Tags': ['ошибки на сайте', 'странные вещи'],\n",
       "  'Text': '\\n      По адресу habrahabr.ru/people/ уже больше недели наблюдаю странную вещь:\\r\\n\\r\\n\\r\\n\\r\\nАктивные: 21. Эта цифра меняется, но значения больше двух сотен я не видел. В чем дело? Ведь ясно, что если под активными пользователями подразумевать залогинившихся пользователей, посещающих Хабр хотя бы раз в сутки, то их явно больше 21.\\n\\n      \\n      \\n    ',\n",
       "  'Uri': 'http://www.habrahabr.ru/post/46152',\n",
       "  'Views': 37,\n",
       "  '_id': 46152}]"
      ]
     },
     "execution_count": 8,
     "metadata": {},
     "output_type": "execute_result"
    }
   ],
   "source": [
    "groupped.take(1)"
   ]
  },
  {
   "cell_type": "code",
   "execution_count": 10,
   "metadata": {
    "collapsed": true
   },
   "outputs": [],
   "source": [
    "groupped.map(lambda l: json.dumps(l)).repartition(4).saveAsTextFile('hdfs://master:54310/unique')"
   ]
  },
  {
   "cell_type": "code",
   "execution_count": 11,
   "metadata": {
    "collapsed": false
   },
   "outputs": [
    {
     "data": {
      "text/plain": [
       "128169"
      ]
     },
     "execution_count": 11,
     "metadata": {},
     "output_type": "execute_result"
    }
   ],
   "source": [
    "sc.textFile('hdfs://master:54310/unique').count()"
   ]
  },
  {
   "cell_type": "code",
   "execution_count": null,
   "metadata": {
    "collapsed": true
   },
   "outputs": [],
   "source": []
  }
 ],
 "metadata": {
  "kernelspec": {
   "display_name": "Python 3",
   "language": "python",
   "name": "python3"
  },
  "language_info": {
   "codemirror_mode": {
    "name": "ipython",
    "version": 3
   },
   "file_extension": ".py",
   "mimetype": "text/x-python",
   "name": "python",
   "nbconvert_exporter": "python",
   "pygments_lexer": "ipython3",
   "version": "3.4.3"
  }
 },
 "nbformat": 4,
 "nbformat_minor": 0
}
