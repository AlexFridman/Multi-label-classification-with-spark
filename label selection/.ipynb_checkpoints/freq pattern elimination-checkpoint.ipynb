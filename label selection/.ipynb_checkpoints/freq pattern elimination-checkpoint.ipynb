{
 "cells": [
  {
   "cell_type": "code",
   "execution_count": 2,
   "metadata": {
    "collapsed": true
   },
   "outputs": [],
   "source": [
    "import json\n",
    "data = sc.textFile('hdfs://master:54310/test3'). \\\n",
    "    map(lambda x: json.loads(x))"
   ]
  },
  {
   "cell_type": "code",
   "execution_count": 3,
   "metadata": {
    "collapsed": false
   },
   "outputs": [
    {
     "data": {
      "text/plain": [
       "dict_keys(['Id', 'Features', 'Labels'])"
      ]
     },
     "execution_count": 3,
     "metadata": {},
     "output_type": "execute_result"
    }
   ],
   "source": [
    "data.take(1)[0].keys()"
   ]
  },
  {
   "cell_type": "code",
   "execution_count": 4,
   "metadata": {
    "collapsed": false
   },
   "outputs": [],
   "source": [
    "labels = data.map(lambda doc: doc['Labels'])"
   ]
  },
  {
   "cell_type": "code",
   "execution_count": 5,
   "metadata": {
    "collapsed": true
   },
   "outputs": [],
   "source": [
    "from nltk.stem import SnowballStemmer\n",
    "stemmer = SnowballStemmer('russian')"
   ]
  },
  {
   "cell_type": "code",
   "execution_count": 6,
   "metadata": {
    "collapsed": true
   },
   "outputs": [],
   "source": [
    "label_count = labels.flatMap(lambda l: l). \\\n",
    "    map(lambda l: (l,1)). \\\n",
    "    reduceByKey(lambda a, b: a+b). \\\n",
    "    collectAsMap()"
   ]
  },
  {
   "cell_type": "code",
   "execution_count": 7,
   "metadata": {
    "collapsed": false
   },
   "outputs": [],
   "source": [
    "from collections import Counter\n",
    "words_from_labels = labels.flatMap(lambda labels: [(i,i.split(' ')) for i in labels]). \\\n",
    "    flatMap(lambda doc: [(stemmer.stem(i),[doc[0]]) for i in doc[1]]). \\\n",
    "    reduceByKey(lambda l1,l2: l1+l2). \\\n",
    "    filter(lambda x: len(set(x[1]))>1). \\\n",
    "    map(lambda x: (x[0],Counter(x[1]))). \\\n",
    "    zipWithIndex()"
   ]
  },
  {
   "cell_type": "code",
   "execution_count": 8,
   "metadata": {
    "collapsed": false
   },
   "outputs": [
    {
     "data": {
      "text/plain": [
       "175"
      ]
     },
     "execution_count": 8,
     "metadata": {},
     "output_type": "execute_result"
    }
   ],
   "source": [
    "words_from_labels.count()"
   ]
  },
  {
   "cell_type": "code",
   "execution_count": 9,
   "metadata": {
    "collapsed": false
   },
   "outputs": [
    {
     "data": {
      "text/plain": [
       "[(('карт', Counter({'карты': 124, 'карта': 37})), 21),\n",
       " (('под',\n",
       "   Counter({'разработка под android': 958, 'разработка под ios': 939, 'разработка под windows phone': 220, 'разработка под windows': 136, 'разработка под e-commerce': 87, 'разработка под tizen': 52})),\n",
       "  22),\n",
       " (('карьер', Counter({'карьера': 84, 'карьера в it-индустрии': 62})), 23),\n",
       " (('защит', Counter({'защита': 91, 'защита информации': 53})), 24),\n",
       " (('droider', Counter({'droider chart': 80, 'droider': 68})), 25),\n",
       " (('книг', Counter({'книги': 183, 'электронные книги': 134, 'книга': 61})),\n",
       "  26),\n",
       " (('процессор', Counter({'процессоры': 80, 'процессор': 46})), 27),\n",
       " (('сообществ',\n",
       "   Counter({'социальные сети и сообщества': 368, 'сообщество': 37, 'сообщества': 34})),\n",
       "  28),\n",
       " (('stor', Counter({'app store': 161, 'windows store': 61})), 29)]"
      ]
     },
     "execution_count": 9,
     "metadata": {},
     "output_type": "execute_result"
    }
   ],
   "source": [
    "words_from_labels.filter(lambda x: 20 < x[1] <= 29).take(10)"
   ]
  },
  {
   "cell_type": "code",
   "execution_count": 215,
   "metadata": {
    "collapsed": true
   },
   "outputs": [],
   "source": [
    "import re"
   ]
  },
  {
   "cell_type": "code",
   "execution_count": 217,
   "metadata": {
    "collapsed": false
   },
   "outputs": [],
   "source": [
    "with open('/home/hadoop/data/sets_of_labels.txt', 'w+') as fp:\n",
    "    for i in words_from_labels.collect():\n",
    "        line = json.dumps(i, ensure_ascii=False)\n",
    "        line = re.sub(\"[\\[\\]\\{\\}\\\"]\", \" \", line)\n",
    "        line = re.sub(\"\\s+\", \" \", line)\n",
    "        fp.write(line+'\\n\\n')"
   ]
  },
  {
   "cell_type": "code",
   "execution_count": 10,
   "metadata": {
    "collapsed": true
   },
   "outputs": [],
   "source": [
    "from collections import defaultdict"
   ]
  },
  {
   "cell_type": "code",
   "execution_count": 11,
   "metadata": {
    "collapsed": true
   },
   "outputs": [],
   "source": [
    "lable_repl = defaultdict(set)"
   ]
  },
  {
   "cell_type": "code",
   "execution_count": 12,
   "metadata": {
    "collapsed": false
   },
   "outputs": [],
   "source": [
    "with open('/home/hadoop/data/label_repl.txt', 'r') as fp:\n",
    "    for line in fp:\n",
    "        words = line.strip().split(',')\n",
    "        lable_repl[words[0]] = lable_repl[words[0]].union(set(words[1:]))"
   ]
  },
  {
   "cell_type": "code",
   "execution_count": 11,
   "metadata": {
    "collapsed": true
   },
   "outputs": [
    {
     "data": {
      "text/plain": [
       "[('windows',\n",
       "  {'vista', 'windows 7', 'windows 8', 'windows vista', 'windows xp'}),\n",
       " ('windows phone',\n",
       "  {'windows phone 7', 'windows phone 8', 'разработка под windows phone'}),\n",
       " ('роботы', {'робот', 'робототехника'}),\n",
       " ('телефоны', {'мобильные телефоны', 'телефон'}),\n",
       " ('офисы', {'офис', 'офисы it-компаний'}),\n",
       " ('ruby on rails', {'rails', 'ruby'}),\n",
       " ('мобильная разработка',\n",
       "  {'mobile development', 'разработка мобильных приложений'}),\n",
       " ('облако', {'cloud', 'clouds', 'облака'}),\n",
       " ('сделай сам', {'diy', 'diy или сделай сам'}),\n",
       " ('linux', {'настройка linux', 'настройка линуxи', 'настройка линух'})]"
      ]
     },
     "execution_count": 11,
     "metadata": {},
     "output_type": "execute_result"
    }
   ],
   "source": [
    "[(k,v) for k,v in lable_repl.items() if len(v) > 1][:10]"
   ]
  },
  {
   "cell_type": "code",
   "execution_count": null,
   "metadata": {
    "collapsed": true
   },
   "outputs": [],
   "source": []
  },
  {
   "cell_type": "code",
   "execution_count": 13,
   "metadata": {
    "collapsed": false
   },
   "outputs": [
    {
     "data": {
      "text/plain": [
       "(130, 130)"
      ]
     },
     "execution_count": 13,
     "metadata": {},
     "output_type": "execute_result"
    }
   ],
   "source": [
    "all_v = set()\n",
    "i = 0\n",
    "for k,vs in lable_repl.items():\n",
    "    for v in vs:\n",
    "        all_v.add(v)\n",
    "        i+=1\n",
    "len(all_v),i"
   ]
  },
  {
   "cell_type": "code",
   "execution_count": 14,
   "metadata": {
    "collapsed": false,
    "scrolled": true
   },
   "outputs": [
    {
     "data": {
      "text/plain": [
       "103"
      ]
     },
     "execution_count": 14,
     "metadata": {},
     "output_type": "execute_result"
    }
   ],
   "source": [
    "len(lable_repl)"
   ]
  },
  {
   "cell_type": "code",
   "execution_count": 15,
   "metadata": {
    "collapsed": true
   },
   "outputs": [],
   "source": [
    "lable_repl_inv = {}"
   ]
  },
  {
   "cell_type": "code",
   "execution_count": 16,
   "metadata": {
    "collapsed": true
   },
   "outputs": [],
   "source": [
    "for l, ls_to_repl in lable_repl.items():\n",
    "    for repl_l in ls_to_repl:\n",
    "        lable_repl_inv[repl_l] = l"
   ]
  },
  {
   "cell_type": "code",
   "execution_count": 17,
   "metadata": {
    "collapsed": false
   },
   "outputs": [
    {
     "data": {
      "text/plain": [
       "130"
      ]
     },
     "execution_count": 17,
     "metadata": {},
     "output_type": "execute_result"
    }
   ],
   "source": [
    "len(lable_repl_inv)"
   ]
  },
  {
   "cell_type": "code",
   "execution_count": 18,
   "metadata": {
    "collapsed": false
   },
   "outputs": [],
   "source": [
    "def replace_labels(obj: dict):\n",
    "    new_labels = []\n",
    "    for old_l in obj['Labels']:\n",
    "        if old_l in lable_repl_inv:\n",
    "            new_labels.append(lable_repl_inv[old_l])\n",
    "        else:\n",
    "            new_labels.append(old_l)\n",
    "    obj['Labels'] = list(set(new_labels))\n",
    "    return obj"
   ]
  },
  {
   "cell_type": "code",
   "execution_count": 19,
   "metadata": {
    "collapsed": false,
    "scrolled": true
   },
   "outputs": [
    {
     "data": {
      "text/plain": [
       "dict_keys(['Id', 'Features', 'Labels'])"
      ]
     },
     "execution_count": 19,
     "metadata": {},
     "output_type": "execute_result"
    }
   ],
   "source": [
    "data.take(1)[0].keys()"
   ]
  },
  {
   "cell_type": "code",
   "execution_count": 20,
   "metadata": {
    "collapsed": false
   },
   "outputs": [],
   "source": [
    "lables_lengths_after_repl = data.map(replace_labels). \\\n",
    "    map(lambda x: len(x['Labels'])).collect()\n",
    "lables_lengths_before_repl = data.map(lambda x: len(x['Labels'])). \\\n",
    "    collect()"
   ]
  },
  {
   "cell_type": "code",
   "execution_count": 21,
   "metadata": {
    "collapsed": false
   },
   "outputs": [
    {
     "name": "stdout",
     "output_type": "stream",
     "text": [
      "878\n",
      "1000\n"
     ]
    }
   ],
   "source": [
    "print(data.map(replace_labels). \\\n",
    "    flatMap(lambda x: x['Labels']). \\\n",
    "    distinct(). \\\n",
    "    count())\n",
    "print(data.flatMap(lambda x: x['Labels']). \\\n",
    "    distinct(). \\\n",
    "    count())"
   ]
  },
  {
   "cell_type": "code",
   "execution_count": 21,
   "metadata": {
    "collapsed": true
   },
   "outputs": [],
   "source": [
    "from matplotlib import pyplot as plt\n",
    "import seaborn; seaborn.set()\n",
    "%matplotlib inline"
   ]
  },
  {
   "cell_type": "code",
   "execution_count": 22,
   "metadata": {
    "collapsed": false,
    "scrolled": true
   },
   "outputs": [
    {
     "data": {
      "image/png": "[encoded data removed]",
      "text/plain": [
       "<matplotlib.figure.Figure at 0x7f267e578550>"
      ]
     },
     "metadata": {},
     "output_type": "display_data"
    }
   ],
   "source": [
    "plt.hist(lables_lengths_before_repl)\n",
    "plt.xticks(range(25))\n",
    "plt.show()"
   ]
  },
  {
   "cell_type": "code",
   "execution_count": 23,
   "metadata": {
    "collapsed": false
   },
   "outputs": [
    {
     "data": {
      "text/plain": [
       "Counter({3: 16977, 4: 9593, 5: 4538, 6: 2108, 7: 914, 8: 538, 9: 233, 10: 142, 11: 86, 14: 42, 15: 40, 16: 34, 12: 28, 17: 21, 13: 15, 18: 15, 19: 3, 20: 1, 21: 1, 22: 1})"
      ]
     },
     "execution_count": 23,
     "metadata": {},
     "output_type": "execute_result"
    }
   ],
   "source": [
    "Counter(lables_lengths_before_repl)"
   ]
  },
  {
   "cell_type": "code",
   "execution_count": 24,
   "metadata": {
    "collapsed": false,
    "scrolled": true
   },
   "outputs": [
    {
     "data": {
      "image/png": "[encoded data removed]",
      "text/plain": [
       "<matplotlib.figure.Figure at 0x7f2678488860>"
      ]
     },
     "metadata": {},
     "output_type": "display_data"
    }
   ],
   "source": [
    "plt.hist(lables_lengths_after_repl)\n",
    "plt.xticks(range(25))\n",
    "plt.show()"
   ]
  },
  {
   "cell_type": "code",
   "execution_count": 25,
   "metadata": {
    "collapsed": false
   },
   "outputs": [
    {
     "data": {
      "text/plain": [
       "Counter({3: 16832, 4: 9132, 5: 4126, 6: 1891, 2: 1547, 7: 789, 8: 406, 9: 206, 10: 127, 11: 86, 13: 66, 15: 28, 14: 27, 1: 26, 16: 19, 12: 13, 17: 6, 18: 1, 21: 1, 22: 1})"
      ]
     },
     "execution_count": 25,
     "metadata": {},
     "output_type": "execute_result"
    }
   ],
   "source": [
    "Counter(lables_lengths_after_repl)"
   ]
  },
  {
   "cell_type": "code",
   "execution_count": 22,
   "metadata": {
    "collapsed": false
   },
   "outputs": [],
   "source": [
    "data.map(replace_labels). \\\n",
    "    map(json.dumps). \\\n",
    "    repartition(4). \\\n",
    "    saveAsTextFile('hdfs://master:54310/new_lables3')"
   ]
  },
  {
   "cell_type": "code",
   "execution_count": 111,
   "metadata": {
    "collapsed": true
   },
   "outputs": [],
   "source": [
    "label_idx = labels.flatMap(lambda ls: list(set([stemmer.stem(l) for l in ls]))). \\\n",
    "    distinct(). \\\n",
    "    zipWithIndex(). \\\n",
    "    collectAsMap()"
   ]
  },
  {
   "cell_type": "code",
   "execution_count": 141,
   "metadata": {
    "collapsed": false
   },
   "outputs": [],
   "source": [
    "from pyspark.mllib.fpm import FPGrowth\n",
    "\n",
    "for_train = labels.map(lambda ls: list(sorted(set([label_idx[stemmer.stem(l)] for l in ls]))))\n",
    "model = FPGrowth.train(for_train,minSupport=0.0)\n",
    "result = model.freqItemsets().collect()\n",
    "#for fi in result:\n",
    "#    print(fi)"
   ]
  },
  {
   "cell_type": "code",
   "execution_count": null,
   "metadata": {
    "collapsed": false,
    "scrolled": true
   },
   "outputs": [],
   "source": [
    "freqs = model.freqItemsets(). \\\n",
    "    map(lambda fi: ' '.join(map(str, sorted(fi.items)))). \\\n",
    "    distinct(). \\\n",
    "    map(lambda s: len(s.split(' '))).countByValue()"
   ]
  },
  {
   "cell_type": "code",
   "execution_count": 177,
   "metadata": {
    "collapsed": false,
    "scrolled": true
   },
   "outputs": [],
   "source": [
    "freqs_by_freqs = model.freqItemsets(). \\\n",
    "    repartition(24). \\\n",
    "    map(lambda fi: fi.freq). \\\n",
    "    countByValue()"
   ]
  },
  {
   "cell_type": "code",
   "execution_count": 179,
   "metadata": {
    "collapsed": false
   },
   "outputs": [],
   "source": [
    "idx_label = dict([(v,k) for k,v in label_idx.items()])"
   ]
  },
  {
   "cell_type": "code",
   "execution_count": 186,
   "metadata": {
    "collapsed": false
   },
   "outputs": [],
   "source": [
    "top_fi = model.freqItemsets(). \\\n",
    "    filter(lambda fi: fi.freq > 150 and len(fi.items) > 1). \\\n",
    "    map(lambda fi: (fi.freq, [idx_label[idx] for idx in fi.items])). \\\n",
    "    sortBy(lambda x: x[0], ascending=False).collect()"
   ]
  },
  {
   "cell_type": "code",
   "execution_count": 220,
   "metadata": {
    "collapsed": true
   },
   "outputs": [
    {
     "name": "stdout",
     "output_type": "stream",
     "text": [
      "188\n"
     ]
    },
    {
     "data": {
      "text/plain": [
       "(123,\n",
       " [(1042, ['настройка линуx', 'linux']),\n",
       "  (916, ['javascript', 'веб-разработк']),\n",
       "  (712, ['разработка под андроид', 'android']),\n",
       "  (546, ['разработка под иос', 'ios']),\n",
       "  (525, ['css', 'html']),\n",
       "  (521, ['css', 'веб-разработк']),\n",
       "  (519, ['c#', '.net']),\n",
       "  (517, ['php', 'веб-разработк']),\n",
       "  (509, ['html', 'веб-разработк']),\n",
       "  (436, ['ios', 'android']),\n",
       "  (431, ['веб-дизайн', 'веб-разработк']),\n",
       "  (429, ['iphon', 'appl']),\n",
       "  (418, ['разработк', 'программирован']),\n",
       "  (406, ['ubunt', 'настройка линуx']),\n",
       "  (401, ['безопасн', 'информационная безопасн']),\n",
       "  (400, ['html', 'javascript']),\n",
       "  (336, ['c++', 'программирован']),\n",
       "  (324, ['разработка мобильных приложен', 'android']),\n",
       "  (307, ['ubunt', 'linux']),\n",
       "  (302, ['разработка под иос', 'разработка мобильных приложен']),\n",
       "  (291, ['jquer', 'веб-разработк']),\n",
       "  (291, ['css', 'javascript']),\n",
       "  (288, ['веб-дизайн', 'css']),\n",
       "  (287, ['googl', 'android']),\n",
       "  (285, ['jquer', 'javascript']),\n",
       "  (282, ['разработка мобильных приложен', 'ios']),\n",
       "  (280, ['html5', 'javascript']),\n",
       "  (278, ['юзабилит', 'интерфейс']),\n",
       "  (276, ['системное администрирован', 'linux']),\n",
       "  (269, ['html5', 'веб-разработк']),\n",
       "  (261, ['дайджест', 'новост']),\n",
       "  (260, ['wеб-разработк', 'веб-разработк']),\n",
       "  (260, ['разработка под иос', 'разработка под андроид']),\n",
       "  (259, ['системное администрирован', 'настройка линуx']),\n",
       "  (259, ['ит-инфраструктур', 'системное администрирован']),\n",
       "  (259, ['разработка под андроид', 'разработка мобильных приложен']),\n",
       "  (256, ['html5', 'html']),\n",
       "  (252, ['windows', 'microsoft']),\n",
       "  (250, ['новост', 'веб-разработк']),\n",
       "  (249, ['ссылк', 'веб-разработк']),\n",
       "  (246, ['ссылк', 'новост']),\n",
       "  (244, ['node.js', 'javascript']),\n",
       "  (244, ['смартфон', 'android']),\n",
       "  (236, ['дайджест', 'веб-разработк']),\n",
       "  (229, ['css3', 'css']),\n",
       "  (226, ['программирован', 'веб-разработк']),\n",
       "  (225, ['веб-дизайн', 'html']),\n",
       "  (223, ['игр', 'game development']),\n",
       "  (220, ['криптограф', 'информационная безопасн']),\n",
       "  (220, ['unity3d', 'game development']),\n",
       "  (218, ['ссылк', 'дайджест']),\n",
       "  (217, ['gamed', 'game development']),\n",
       "  (212, ['алгоритм', 'программирован']),\n",
       "  (209, ['open sourc', 'linux']),\n",
       "  (207, ['.net', 'программирован']),\n",
       "  (206, ['jav', 'программирован']),\n",
       "  (205, ['тестирован', 'тестирование ит-сист']),\n",
       "  (203, ['ruby on rails', 'rub']),\n",
       "  (198, ['ipad', 'iphon']),\n",
       "  (198, ['css3', 'веб-разработк']),\n",
       "  (197, ['js', 'веб-разработк']),\n",
       "  (193, ['microsoft', 'googl']),\n",
       "  (192, ['jquer', 'html']),\n",
       "  (192, ['браузер', 'веб-разработк']),\n",
       "  (190, ['usabilit', 'интерфейс']),\n",
       "  (190, ['инвестиц', 'стартап']),\n",
       "  (188, ['di', 'диы или сделай с']),\n",
       "  (188, ['js', 'css']),\n",
       "  (188, ['iphon', 'ios']),\n",
       "  (187, ['js', 'html']),\n",
       "  (185, ['windows', 'linux']),\n",
       "  (184, ['уязвим', 'информационная безопасн']),\n",
       "  (182, ['разработка мобильных приложен', 'game development']),\n",
       "  (181, ['jquer', 'css']),\n",
       "  (181, ['nok', 'смартфон']),\n",
       "  (177, ['css3', 'html']),\n",
       "  (176, ['ссылк', 'веб-дизайн']),\n",
       "  (175, ['новост', 'веб-дизайн']),\n",
       "  (173, ['javascript', 'программирован']),\n",
       "  (173, ['windows phon', 'android']),\n",
       "  (172, ['космос', 'космонавтик']),\n",
       "  (172, ['хостинг', 'ит-инфраструктур']),\n",
       "  (172, ['разработка под иос', 'android']),\n",
       "  (172, ['социальные сети и сообществ', 'социальные сет']),\n",
       "  (172, ['*nix', 'настройка линуx']),\n",
       "  (171, ['css3', 'html5']),\n",
       "  (171, ['arduin', 'диы или сделай с']),\n",
       "  (170, ['*nix', 'linux']),\n",
       "  (169, ['взлом', 'информационная безопасн']),\n",
       "  (168, ['дайджест', 'веб-дизайн']),\n",
       "  (168, ['ios', 'appl']),\n",
       "  (168, ['серверное администрирован', 'системное администрирован']),\n",
       "  (167, ['разработк', 'веб-разработк']),\n",
       "  (166, ['браузер', 'css']),\n",
       "  (166, ['c#', 'программирован']),\n",
       "  (165, ['python', 'программирован']),\n",
       "  (165, ['windows phon', 'ios']),\n",
       "  (165, ['css3', 'веб-дизайн']),\n",
       "  (163, ['html5', 'css']),\n",
       "  (163, ['сетевые технолог', 'ит-инфраструктур']),\n",
       "  (162, ['asp.net', '.net']),\n",
       "  (162, ['робот', 'робототехник']),\n",
       "  (161, ['браузер', 'веб-дизайн']),\n",
       "  (161, ['objective-c', 'разработка под иос']),\n",
       "  (161, ['facebook', 'социальные сет']),\n",
       "  (160, ['firefox', 'браузер']),\n",
       "  (160, ['open sourc', 'настройка линуx']),\n",
       "  (160, ['mysql', 'php']),\n",
       "  (160, ['ipad', 'appl']),\n",
       "  (160, ['сетевые технолог', 'системное администрирован']),\n",
       "  (159, ['разработка под андроид', 'ios']),\n",
       "  (157, ['jquer', 'веб-дизайн']),\n",
       "  (156, ['js', 'веб-дизайн']),\n",
       "  (156, ['ресурс', 'веб-дизайн']),\n",
       "  (155, ['js', 'jquer']),\n",
       "  (155, ['браузер', 'html']),\n",
       "  (155, ['ресурс', 'веб-разработк']),\n",
       "  (154, ['виртуализац', 'системное администрирован']),\n",
       "  (154, ['ссылк', 'браузер']),\n",
       "  (152, ['js', 'браузер']),\n",
       "  (151, ['новост', 'браузер']),\n",
       "  (151, ['ссылк', 'html']),\n",
       "  (151, ['ссылк', 'css'])])"
      ]
     },
     "execution_count": 220,
     "metadata": {},
     "output_type": "execute_result"
    }
   ],
   "source": [
    "print(len(top_fi))\n",
    "v = [t for t in top_fi if len(t[1]) == 2]\n",
    "len(v),v"
   ]
  },
  {
   "cell_type": "code",
   "execution_count": 222,
   "metadata": {
    "collapsed": false
   },
   "outputs": [
    {
     "data": {
      "text/plain": [
       "[]"
      ]
     },
     "execution_count": 222,
     "metadata": {},
     "output_type": "execute_result"
    }
   ],
   "source": [
    "with open()"
   ]
  },
  {
   "cell_type": "code",
   "execution_count": null,
   "metadata": {
    "collapsed": true
   },
   "outputs": [],
   "source": []
  }
 ],
 "metadata": {
  "kernelspec": {
   "display_name": "Python 3",
   "language": "python",
   "name": "python3"
  },
  "language_info": {
   "codemirror_mode": {
    "name": "ipython",
    "version": 3
   },
   "file_extension": ".py",
   "mimetype": "text/x-python",
   "name": "python",
   "nbconvert_exporter": "python",
   "pygments_lexer": "ipython3",
   "version": "3.4.3"
  }
 },
 "nbformat": 4,
 "nbformat_minor": 0
}
