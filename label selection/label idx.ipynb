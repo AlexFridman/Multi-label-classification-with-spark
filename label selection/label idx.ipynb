{
 "cells": [
  {
   "cell_type": "code",
   "execution_count": 33,
   "metadata": {
    "collapsed": false
   },
   "outputs": [],
   "source": [
    "import json\n",
    "import seaborn; seaborn.set()\n",
    "from matplotlib import pyplot as plt\n",
    "%matplotlib inline"
   ]
  },
  {
   "cell_type": "code",
   "execution_count": 7,
   "metadata": {
    "collapsed": true
   },
   "outputs": [],
   "source": [
    "data = sc.textFile('hdfs://master:54310/experiment'). \\\n",
    "    map(lambda x: json.loads(x))"
   ]
  },
  {
   "cell_type": "code",
   "execution_count": 13,
   "metadata": {
    "collapsed": false
   },
   "outputs": [],
   "source": [
    "all_labels = data.flatMap(lambda x: x['Labels']). \\\n",
    "    map(lambda l: l.lower())"
   ]
  },
  {
   "cell_type": "code",
   "execution_count": 15,
   "metadata": {
    "collapsed": true
   },
   "outputs": [],
   "source": [
    "all_label_count = all_labels.filter(lambda l: 'лог компании' not in l). \\\n",
    "    countByValue()"
   ]
  },
  {
   "cell_type": "code",
   "execution_count": 21,
   "metadata": {
    "collapsed": false
   },
   "outputs": [],
   "source": [
    "top_10_min_freq = sc.parallelize(all_label_count.items()). \\\n",
    "    sortBy(lambda lc: lc[1]).take(10)\n",
    "top_10_max_freq = sc.parallelize(all_label_count.items()). \\\n",
    "    sortBy(lambda lc: lc[1], ascending=False).take(10)"
   ]
  },
  {
   "cell_type": "code",
   "execution_count": 22,
   "metadata": {
    "collapsed": true
   },
   "outputs": [
    {
     "data": {
      "text/plain": [
       "[('чёрная дыра', 29258),\n",
       " ('я пиарюсь', 5177),\n",
       " ('веб-разработка', 5029),\n",
       " ('информационная безопасность', 4615),\n",
       " ('программирование', 3508),\n",
       " ('настройка linux', 2971),\n",
       " ('javascript', 2390),\n",
       " ('системное администрирование', 2204),\n",
       " ('google', 2194),\n",
       " ('железо', 2077)]"
      ]
     },
     "execution_count": 22,
     "metadata": {},
     "output_type": "execute_result"
    }
   ],
   "source": [
    "top_10_max_freq"
   ]
  },
  {
   "cell_type": "code",
   "execution_count": 23,
   "metadata": {
    "collapsed": true
   },
   "outputs": [
    {
     "data": {
      "text/plain": [
       "[('монетизация мобильных приложений', 1),\n",
       " ('управление продуктом', 1),\n",
       " ('контент-маркетинг', 1),\n",
       " ('производство и разработка электроники', 1),\n",
       " ('образование за рубежом', 1),\n",
       " ('монетизация игр', 1),\n",
       " ('сотовая связь', 1),\n",
       " ('geektimes', 1),\n",
       " ('управление e-commerce', 1),\n",
       " ('интернет-маркетинг', 1)]"
      ]
     },
     "execution_count": 23,
     "metadata": {},
     "output_type": "execute_result"
    }
   ],
   "source": [
    "top_10_min_freq"
   ]
  },
  {
   "cell_type": "code",
   "execution_count": 24,
   "metadata": {
    "collapsed": true
   },
   "outputs": [],
   "source": [
    "label_bl = ['чёрная дыра', 'я пиарюсь']"
   ]
  },
  {
   "cell_type": "code",
   "execution_count": 27,
   "metadata": {
    "collapsed": true
   },
   "outputs": [
    {
     "data": {
      "text/plain": [
       "defaultdict(<class 'int'>, {1: 10, 2: 5, 3: 3, 4: 4, 5: 6, 6: 4, 7: 1, 8: 2, 9: 1, 10: 5, 11: 3, 12: 3, 13: 8, 14: 2, 15: 5, 16: 4, 17: 2, 18: 1, 19: 6, 20: 5, 21: 4, 22: 4, 23: 4, 24: 3, 516: 1, 26: 2, 27: 4, 28: 1, 29: 2, 542: 1, 31: 3, 32: 5, 33: 3, 34: 3, 35: 1, 1030: 1, 38: 4, 39: 3, 40: 1, 41: 3, 42: 2, 4615: 1, 44: 2, 45: 1, 46: 3, 47: 3, 520: 1, 50: 1, 51: 1, 52: 2, 53: 4, 55: 2, 56: 3, 5177: 1, 58: 5, 59: 3, 61: 1, 62: 3, 63: 2, 64: 1, 67: 4, 68: 1, 69: 3, 70: 1, 71: 1, 72: 3, 73: 1, 29258: 1, 75: 1, 76: 2, 1037: 1, 80: 2, 593: 1, 82: 1, 600: 1, 89: 1, 90: 1, 1551: 1, 92: 2, 93: 2, 94: 2, 97: 2, 98: 2, 2390: 1, 106: 1, 107: 1, 108: 2, 110: 1, 189: 1, 112: 2, 113: 2, 114: 3, 79: 1, 117: 1, 119: 1, 120: 3, 123: 3, 124: 1, 128: 3, 129: 2, 2050: 1, 132: 2, 133: 1, 134: 1, 135: 3, 137: 1, 138: 1, 141: 1, 142: 1, 1901: 1, 144: 1, 2194: 1, 147: 1, 662: 2, 624: 1, 153: 1, 154: 1, 155: 1, 156: 1, 157: 1, 161: 1, 1187: 1, 164: 1, 679: 1, 168: 1, 169: 1, 683: 1, 174: 1, 2077: 1, 178: 1, 179: 1, 180: 2, 30: 1, 182: 2, 1208: 1, 185: 3, 186: 1, 701: 1, 190: 1, 703: 1, 192: 2, 193: 1, 194: 1, 195: 1, 196: 2, 199: 1, 201: 2, 202: 2, 204: 1, 205: 1, 211: 1, 1237: 1, 215: 1, 728: 1, 217: 1, 219: 1, 733: 1, 1061: 1, 227: 1, 229: 1, 231: 1, 232: 1, 233: 1, 242: 1, 243: 1, 707: 1, 761: 1, 251: 1, 764: 1, 257: 2, 258: 3, 43: 1, 261: 1, 266: 1, 269: 1, 1809: 1, 275: 2, 279: 1, 285: 1, 289: 1, 49: 1, 298: 1, 1074: 1, 303: 1, 307: 1, 309: 1, 311: 1, 312: 1, 313: 1, 314: 1, 735: 1, 319: 1, 322: 1, 130: 1, 842: 1, 331: 1, 337: 1, 1362: 1, 339: 1, 654: 1, 342: 1, 57: 4, 344: 1, 741: 1, 355: 1, 873: 1, 146: 1, 1257: 1, 376: 1, 377: 1, 378: 1, 1343: 1, 524: 1, 385: 1, 390: 1, 729: 1, 1346: 1, 915: 1, 404: 1, 405: 2, 406: 1, 1571: 1, 2971: 1, 415: 1, 1440: 1, 667: 1, 5029: 1, 2204: 1, 1458: 1, 1971: 1, 3508: 1, 850: 1, 450: 1, 81: 1, 460: 1, 464: 1, 1785: 1, 475: 1, 627: 1, 592: 1, 482: 1, 1511: 1, 338: 1, 503: 1, 508: 3})"
      ]
     },
     "execution_count": 27,
     "metadata": {},
     "output_type": "execute_result"
    }
   ],
   "source": [
    "sc.parallelize(all_label_count.items()). \\\n",
    "    keyBy(lambda lc: lc[1]). \\\n",
    "    countByKey()"
   ]
  },
  {
   "cell_type": "code",
   "execution_count": 49,
   "metadata": {
    "collapsed": false
   },
   "outputs": [],
   "source": [
    "counts = sc.parallelize(all_label_count.items()). \\\n",
    "    map(lambda lc: lc[1]). \\\n",
    "    filter(lambda c: c<100). \\\n",
    "    collect()"
   ]
  },
  {
   "cell_type": "code",
   "execution_count": 34,
   "metadata": {
    "collapsed": true
   },
   "outputs": [
    {
     "data": {
      "text/plain": [
       "([1.0,\n",
       "  2926.7,\n",
       "  5852.4,\n",
       "  8778.099999999999,\n",
       "  11703.8,\n",
       "  14629.5,\n",
       "  17555.199999999997,\n",
       "  20480.899999999998,\n",
       "  23406.6,\n",
       "  26332.3,\n",
       "  29258],\n",
       " [402, 5, 0, 0, 0, 0, 0, 0, 0, 1])"
      ]
     },
     "execution_count": 34,
     "metadata": {},
     "output_type": "execute_result"
    }
   ],
   "source": [
    "hist"
   ]
  },
  {
   "cell_type": "code",
   "execution_count": 51,
   "metadata": {
    "collapsed": false
   },
   "outputs": [
    {
     "data": {
      "image/png": "[encoded data removed]",
      "text/plain": [
       "<matplotlib.figure.Figure at 0x7f3e9a1b0390>"
      ]
     },
     "metadata": {},
     "output_type": "display_data"
    }
   ],
   "source": [
    "plt.hist(counts,20)\n",
    "plt.show()"
   ]
  },
  {
   "cell_type": "code",
   "execution_count": 39,
   "metadata": {
    "collapsed": true
   },
   "outputs": [
    {
     "data": {
      "text/plain": [
       "[132,\n",
       " 71,\n",
       " 251,\n",
       " 155,\n",
       " 269,\n",
       " 205,\n",
       " 146,\n",
       " 80,\n",
       " 211,\n",
       " 12,\n",
       " 92,\n",
       " 123,\n",
       " 15,\n",
       " 19,\n",
       " 41,\n",
       " 3508,\n",
       " 219,\n",
       " 312,\n",
       " 1,\n",
       " 23,\n",
       " 378,\n",
       " 70,\n",
       " 61,\n",
       " 10,\n",
       " 12,\n",
       " 94,\n",
       " 47,\n",
       " 24,\n",
       " 21,\n",
       " 201,\n",
       " 33,\n",
       " 24,\n",
       " 138,\n",
       " 1,\n",
       " 741,\n",
       " 147,\n",
       " 98,\n",
       " 202,\n",
       " 97,\n",
       " 842,\n",
       " 5,\n",
       " 231,\n",
       " 112,\n",
       " 26,\n",
       " 285,\n",
       " 17,\n",
       " 257,\n",
       " 298,\n",
       " 41,\n",
       " 45,\n",
       " 4,\n",
       " 39,\n",
       " 180,\n",
       " 701,\n",
       " 59,\n",
       " 508,\n",
       " 67,\n",
       " 33,\n",
       " 1362,\n",
       " 75,\n",
       " 124,\n",
       " 14,\n",
       " 32,\n",
       " 108,\n",
       " 322,\n",
       " 376,\n",
       " 8,\n",
       " 32,\n",
       " 243,\n",
       " 39,\n",
       " 182,\n",
       " 22,\n",
       " 13,\n",
       " 1237,\n",
       " 58,\n",
       " 15,\n",
       " 266,\n",
       " 20,\n",
       " 113,\n",
       " 24,\n",
       " 153,\n",
       " 2194,\n",
       " 20,\n",
       " 2,\n",
       " 15,\n",
       " 275,\n",
       " 1971,\n",
       " 258,\n",
       " 93,\n",
       " 196,\n",
       " 53,\n",
       " 38,\n",
       " 9,\n",
       " 33,\n",
       " 11,\n",
       " 464,\n",
       " 7,\n",
       " 1,\n",
       " 15,\n",
       " 2050,\n",
       " 1458,\n",
       " 108,\n",
       " 217,\n",
       " 337,\n",
       " 679,\n",
       " 62,\n",
       " 192,\n",
       " 106,\n",
       " 229,\n",
       " 26,\n",
       " 72,\n",
       " 233,\n",
       " 137,\n",
       " 144,\n",
       " 62,\n",
       " 58,\n",
       " 29258,\n",
       " 338,\n",
       " 73,\n",
       " 10,\n",
       " 503,\n",
       " 2971,\n",
       " 133,\n",
       " 47,\n",
       " 764,\n",
       " 161,\n",
       " 520,\n",
       " 52,\n",
       " 5,\n",
       " 192,\n",
       " 232,\n",
       " 58,\n",
       " 662,\n",
       " 13,\n",
       " 199,\n",
       " 11,\n",
       " 6,\n",
       " 761,\n",
       " 289,\n",
       " 16,\n",
       " 42,\n",
       " 46,\n",
       " 6,\n",
       " 873,\n",
       " 13,\n",
       " 31,\n",
       " 193,\n",
       " 128,\n",
       " 385,\n",
       " 3,\n",
       " 114,\n",
       " 32,\n",
       " 10,\n",
       " 156,\n",
       " 114,\n",
       " 68,\n",
       " 89,\n",
       " 50,\n",
       " 1343,\n",
       " 67,\n",
       " 1551,\n",
       " 13,\n",
       " 1,\n",
       " 18,\n",
       " 311,\n",
       " 23,\n",
       " 142,\n",
       " 15,\n",
       " 67,\n",
       " 279,\n",
       " 508,\n",
       " 94,\n",
       " 4,\n",
       " 56,\n",
       " 90,\n",
       " 31,\n",
       " 5177,\n",
       " 215,\n",
       " 46,\n",
       " 120,\n",
       " 654,\n",
       " 14,\n",
       " 16,\n",
       " 56,\n",
       " 179,\n",
       " 19,\n",
       " 1061,\n",
       " 242,\n",
       " 1030,\n",
       " 16,\n",
       " 112,\n",
       " 2077,\n",
       " 57,\n",
       " 227,\n",
       " 157,\n",
       " 57,\n",
       " 27,\n",
       " 114,\n",
       " 1,\n",
       " 542,\n",
       " 1809,\n",
       " 733,\n",
       " 135,\n",
       " 2,\n",
       " 13,\n",
       " 319,\n",
       " 1257,\n",
       " 729,\n",
       " 683,\n",
       " 5,\n",
       " 185,\n",
       " 27,\n",
       " 20,\n",
       " 52,\n",
       " 62,\n",
       " 1,\n",
       " 31,\n",
       " 12,\n",
       " 735,\n",
       " 119,\n",
       " 460,\n",
       " 1785,\n",
       " 13,\n",
       " 314,\n",
       " 19,\n",
       " 21,\n",
       " 92,\n",
       " 27,\n",
       " 667,\n",
       " 3,\n",
       " 258,\n",
       " 1901,\n",
       " 107,\n",
       " 98,\n",
       " 4615,\n",
       " 6,\n",
       " 593,\n",
       " 132,\n",
       " 34,\n",
       " 313,\n",
       " 1,\n",
       " 59,\n",
       " 23,\n",
       " 154,\n",
       " 20,\n",
       " 6,\n",
       " 204,\n",
       " 516,\n",
       " 34,\n",
       " 29,\n",
       " 141,\n",
       " 415,\n",
       " 703,\n",
       " 5029,\n",
       " 93,\n",
       " 63,\n",
       " 1440,\n",
       " 110,\n",
       " 8,\n",
       " 182,\n",
       " 600,\n",
       " 185,\n",
       " 1511,\n",
       " 475,\n",
       " 1346,\n",
       " 202,\n",
       " 80,\n",
       " 28,\n",
       " 16,\n",
       " 113,\n",
       " 57,\n",
       " 135,\n",
       " 69,\n",
       " 342,\n",
       " 168,\n",
       " 63,\n",
       " 58,\n",
       " 130,\n",
       " 180,\n",
       " 53,\n",
       " 196,\n",
       " 5,\n",
       " 76,\n",
       " 169,\n",
       " 35,\n",
       " 195,\n",
       " 129,\n",
       " 524,\n",
       " 355,\n",
       " 56,\n",
       " 406,\n",
       " 339,\n",
       " 27,\n",
       " 257,\n",
       " 186,\n",
       " 194,\n",
       " 128,\n",
       " 72,\n",
       " 123,\n",
       " 19,\n",
       " 21,\n",
       " 915,\n",
       " 49,\n",
       " 123,\n",
       " 38,\n",
       " 624,\n",
       " 309,\n",
       " 185,\n",
       " 1037,\n",
       " 69,\n",
       " 331,\n",
       " 728,\n",
       " 32,\n",
       " 32,\n",
       " 1,\n",
       " 51,\n",
       " 11,\n",
       " 69,\n",
       " 5,\n",
       " 58,\n",
       " 178,\n",
       " 390,\n",
       " 303,\n",
       " 81,\n",
       " 1,\n",
       " 129,\n",
       " 261,\n",
       " 40,\n",
       " 10,\n",
       " 22,\n",
       " 20,\n",
       " 135,\n",
       " 707,\n",
       " 592,\n",
       " 23,\n",
       " 57,\n",
       " 377,\n",
       " 82,\n",
       " 1074,\n",
       " 42,\n",
       " 30,\n",
       " 44,\n",
       " 59,\n",
       " 39,\n",
       " 67,\n",
       " 29,\n",
       " 120,\n",
       " 1571,\n",
       " 405,\n",
       " 344,\n",
       " 38,\n",
       " 2,\n",
       " 72,\n",
       " 44,\n",
       " 22,\n",
       " 3,\n",
       " 1,\n",
       " 2204,\n",
       " 41,\n",
       " 662,\n",
       " 79,\n",
       " 13,\n",
       " 117,\n",
       " 1208,\n",
       " 5,\n",
       " 4,\n",
       " 850,\n",
       " 404,\n",
       " 38,\n",
       " 190,\n",
       " 21,\n",
       " 76,\n",
       " 164,\n",
       " 120,\n",
       " 482,\n",
       " 508,\n",
       " 1187,\n",
       " 97,\n",
       " 4,\n",
       " 275,\n",
       " 450,\n",
       " 10,\n",
       " 627,\n",
       " 189,\n",
       " 201,\n",
       " 405,\n",
       " 43,\n",
       " 19,\n",
       " 47,\n",
       " 2390,\n",
       " 55,\n",
       " 53,\n",
       " 53,\n",
       " 13,\n",
       " 34,\n",
       " 307,\n",
       " 128,\n",
       " 17,\n",
       " 2,\n",
       " 64,\n",
       " 19,\n",
       " 134,\n",
       " 46,\n",
       " 258,\n",
       " 2,\n",
       " 174,\n",
       " 55,\n",
       " 22]"
      ]
     },
     "execution_count": 39,
     "metadata": {},
     "output_type": "execute_result"
    }
   ],
   "source": [
    "counts"
   ]
  },
  {
   "cell_type": "code",
   "execution_count": 54,
   "metadata": {
    "collapsed": false
   },
   "outputs": [
    {
     "data": {
      "text/plain": [
       "378"
      ]
     },
     "execution_count": 54,
     "metadata": {},
     "output_type": "execute_result"
    }
   ],
   "source": [
    "sc.parallelize(all_label_count.items()). \\\n",
    "    map(lambda lc: lc[1]). \\\n",
    "    filter(lambda c: 5<c<5100). \\\n",
    "    count()"
   ]
  },
  {
   "cell_type": "code",
   "execution_count": 55,
   "metadata": {
    "collapsed": true
   },
   "outputs": [],
   "source": [
    "counts = sc.parallelize(all_label_count.items()). \\\n",
    "    map(lambda lc: lc[1]). \\\n",
    "    filter(lambda c: 5<c<5100). \\\n",
    "    collect()"
   ]
  },
  {
   "cell_type": "code",
   "execution_count": 59,
   "metadata": {
    "collapsed": false
   },
   "outputs": [
    {
     "data": {
      "image/png": "[encoded data removed]",
      "text/plain": [
       "<matplotlib.figure.Figure at 0x7f3e99c797f0>"
      ]
     },
     "metadata": {},
     "output_type": "display_data"
    }
   ],
   "source": [
    "plt.hist(counts,5)\n",
    "plt.show()"
   ]
  },
  {
   "cell_type": "code",
   "execution_count": 69,
   "metadata": {
    "collapsed": true
   },
   "outputs": [],
   "source": [
    "label_wl = sc.parallelize(all_label_count.items()). \\\n",
    "    filter(lambda lc: 5<lc[1]<5100). \\\n",
    "    map(lambda lc: lc[0])\n",
    "\n",
    "label_wl_set = set(label_wl.collect())"
   ]
  },
  {
   "cell_type": "code",
   "execution_count": 70,
   "metadata": {
    "collapsed": false
   },
   "outputs": [
    {
     "data": {
      "text/plain": [
       "126683"
      ]
     },
     "execution_count": 70,
     "metadata": {},
     "output_type": "execute_result"
    }
   ],
   "source": [
    "data.map(lambda x: x['Labels']). \\\n",
    "    map(lambda x: set(x).intersection(label_wl_set)). \\\n",
    "    filter(lambda x: not x). \\\n",
    "    count()"
   ]
  },
  {
   "cell_type": "code",
   "execution_count": 71,
   "metadata": {
    "collapsed": true
   },
   "outputs": [],
   "source": [
    "label_idx = label_wl.zipWithIndex(). \\\n",
    "    map(lambda l: json.dumps(l)). \\\n",
    "    repartition(1). \\\n",
    "    saveAsTextFile('hdfs://master:54310/label_idx')"
   ]
  }
 ],
 "metadata": {
  "kernelspec": {
   "display_name": "Python 3",
   "language": "python",
   "name": "python3"
  },
  "language_info": {
   "codemirror_mode": {
    "name": "ipython",
    "version": 3
   },
   "file_extension": ".py",
   "mimetype": "text/x-python",
   "name": "python",
   "nbconvert_exporter": "python",
   "pygments_lexer": "ipython3",
   "version": "3.4.3"
  }
 },
 "nbformat": 4,
 "nbformat_minor": 0
}
