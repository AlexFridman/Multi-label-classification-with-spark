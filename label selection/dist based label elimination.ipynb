{
 "cells": [
  {
   "cell_type": "code",
   "execution_count": 1,
   "metadata": {
    "collapsed": true
   },
   "outputs": [],
   "source": [
    "import json\n",
    "\n",
    "raw_data = sc.textFile('hdfs://master:54310/test'). \\\n",
    "    map(lambda line: json.loads(line))"
   ]
  },
  {
   "cell_type": "code",
   "execution_count": 2,
   "metadata": {
    "collapsed": true
   },
   "outputs": [],
   "source": [
    "unique_labels = raw_data.flatMap(lambda x: x['Labels']).distinct()"
   ]
  },
  {
   "cell_type": "code",
   "execution_count": 41,
   "metadata": {
    "collapsed": false
   },
   "outputs": [],
   "source": [
    "from functools import lru_cache\n",
    "\n",
    "lru_cache(maxsize=None)\n",
    "def  minEditDistR(target, source):\n",
    "   \"\"\" Minimum edit distance. Straight from the recurrence. \"\"\"\n",
    "\n",
    "   i = len(target); j = len(source)\n",
    "\n",
    "   if i == 0:  return j\n",
    "   elif j == 0: return i\n",
    "\n",
    "   return(min(minEditDistR(target[:i-1],source)+1,\n",
    "              minEditDistR(target, source[:j-1])+1,\n",
    "              minEditDistR(target[:i-1], source[:j-1])+substCost(source[j-1], target[i-1])))\n",
    "\n",
    "def substCost(x,y):\n",
    "    if x == y: return 0\n",
    "    else: return 2"
   ]
  },
  {
   "cell_type": "code",
   "execution_count": 45,
   "metadata": {
    "collapsed": false,
    "scrolled": true
   },
   "outputs": [
    {
     "data": {
      "text/plain": [
       "PythonRDD[69] at RDD at PythonRDD.scala:43"
      ]
     },
     "execution_count": 45,
     "metadata": {},
     "output_type": "execute_result"
    }
   ],
   "source": [
    "with_ed = unique_labels.cartesian(unique_labels). \\\n",
    "    filter(lambda l: len(l) < 5). \\\n",
    "    filter(lambda l: (l[0] != l[1]) and (abs(len(l[0]) - len(l[1])) < 3)\n",
    "          and len(set(l[0]).intersection(set(l[1]))) > 2). \\\n",
    "    map(lambda l: (l[0], l[1], minEditDistR(l[0], l[1])))\n",
    "with_ed.cache()"
   ]
  },
  {
   "cell_type": "code",
   "execution_count": 46,
   "metadata": {
    "collapsed": false
   },
   "outputs": [
    {
     "data": {
      "text/plain": [
       "52870"
      ]
     },
     "execution_count": 46,
     "metadata": {},
     "output_type": "execute_result"
    }
   ],
   "source": [
    "unique_labels.cartesian(unique_labels). \\\n",
    "    filter(lambda l: len(l) < 5). \\\n",
    "    filter(lambda l: (l[0] != l[1]) and (abs(len(l[0]) - len(l[1])) < 3)\n",
    "          and len(set(l[0]).intersection(set(l[1]))) > 2). \\\n",
    "    count()"
   ]
  },
  {
   "cell_type": "code",
   "execution_count": null,
   "metadata": {
    "collapsed": false,
    "scrolled": true
   },
   "outputs": [],
   "source": [
    "with_ed.sortBy(lambda x: x[2]).take(40)"
   ]
  },
  {
   "cell_type": "code",
   "execution_count": null,
   "metadata": {
    "collapsed": true
   },
   "outputs": [],
   "source": []
  }
 ],
 "metadata": {
  "kernelspec": {
   "display_name": "Python 3",
   "language": "python",
   "name": "python3"
  },
  "language_info": {
   "codemirror_mode": {
    "name": "ipython",
    "version": 3
   },
   "file_extension": ".py",
   "mimetype": "text/x-python",
   "name": "python",
   "nbconvert_exporter": "python",
   "pygments_lexer": "ipython3",
   "version": "3.4.3"
  }
 },
 "nbformat": 4,
 "nbformat_minor": 0
}
