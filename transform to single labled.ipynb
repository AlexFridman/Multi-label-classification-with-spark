{
 "cells": [
  {
   "cell_type": "code",
   "execution_count": 6,
   "metadata": {
    "collapsed": false
   },
   "outputs": [],
   "source": [
    "import json\n",
    "from collections import Counter\n",
    "\n",
    "hub_bl = {'лог компании', 'рная дыра', 'пиарюсь'}\n",
    "def remove_bl_hubs_from_hubs(doc: dict):\n",
    "    doc['Hubs'] = [h for h in doc['Hubs'] if all([h_bl not in h for h_bl in hub_bl])]\n",
    "    return doc\n",
    "\n",
    "def divide_by_total_count(word_count: dict):\n",
    "    val_sum = sum(word_count.values())\n",
    "    for k,v in word_count.items():\n",
    "        word_count[k] = v/val_sum\n",
    "    return word_count\n",
    "\n",
    "probs = sc.textFile('hdfs://master:54310/clean'). \\\n",
    "    map(lambda line: remove_bl_hubs_from_hubs(json.loads(line))). \\\n",
    "    map(lambda doc: (doc['Hubs'], Counter(doc['Text']))). \\\n",
    "    flatMap(lambda x: [(h, x[1]) for h in x[0]]). \\\n",
    "    reduceByKey(lambda a,b: a+b). \\\n",
    "    map(lambda x: (x[0], divide_by_total_count(dict(x[1])))). \\\n",
    "    collectAsMap()\n",
    "    \n",
    "from math import log\n",
    "def calc_log_prob(label: str, words: list):\n",
    "    word_probs = probs[label]\n",
    "    return sum([log(word_probs[word]) for word in set(words) if word in word_probs]) \n",
    "\n",
    "def choose_max_prob_hub(doc: list, hubs: list):\n",
    "    if len(hubs) == 1:\n",
    "        return hubs[0]\n",
    "    else:\n",
    "        return max([(h, calc_log_prob(h, doc)) for h in hubs], key=lambda x: x[1])[0]\n",
    "    \n",
    "sc.textFile('hdfs://master:54310/clean'). \\\n",
    "    map(lambda line: remove_bl_hubs_from_hubs(json.loads(line))). \\\n",
    "    filter(lambda doc: doc['Hubs']). \\\n",
    "    map(lambda doc: {'Id': doc['Id'],\n",
    "                     'Features': doc['Text'],\n",
    "                     'Label': choose_max_prob_hub(doc['Text'], doc['Hubs'])}). \\\n",
    "    map(lambda x: json.dumps(x)). \\\n",
    "    repartition(4). \\\n",
    "    saveAsTextFile('hdfs://master:54310/single-label')"
   ]
  },
  {
   "cell_type": "code",
   "execution_count": null,
   "metadata": {
    "collapsed": true
   },
   "outputs": [],
   "source": []
  }
 ],
 "metadata": {
  "kernelspec": {
   "display_name": "Python 3",
   "language": "python",
   "name": "python3"
  },
  "language_info": {
   "codemirror_mode": {
    "name": "ipython",
    "version": 3
   },
   "file_extension": ".py",
   "mimetype": "text/x-python",
   "name": "python",
   "nbconvert_exporter": "python",
   "pygments_lexer": "ipython3",
   "version": "3.4.3"
  }
 },
 "nbformat": 4,
 "nbformat_minor": 0
}
