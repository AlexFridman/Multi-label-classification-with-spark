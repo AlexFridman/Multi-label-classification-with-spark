{
 "cells": [
  {
   "cell_type": "code",
   "execution_count": 20,
   "metadata": {
    "collapsed": false,
    "scrolled": true
   },
   "outputs": [],
   "source": [
    "def jaccard_index(set_1, set_2):\n",
    "    #set_1, set_2 = set(item_1), set(item_2)\n",
    "    u = set_1.union(set_2)\n",
    "    i = set_1.intersection(set_2)\n",
    "    return len(i)/len(u)"
   ]
  },
  {
   "cell_type": "code",
   "execution_count": 10,
   "metadata": {
    "collapsed": true
   },
   "outputs": [],
   "source": [
    "def get_kNN(data, X, n_neighbors, metric=jaccard_index):\n",
    "    return data.map(lambda x: (x, metric(X, x['Features']))). \\\n",
    "        sortBy(lambda x: x[1], ascending=False). \\\n",
    "        take(n_neighbors)"
   ]
  },
  {
   "cell_type": "code",
   "execution_count": 3,
   "metadata": {
    "collapsed": false
   },
   "outputs": [],
   "source": [
    "import json\n",
    "data = sc.textFile('hdfs://master:54310/clean'). \\\n",
    "    map(lambda line: json.loads(line)). \\\n",
    "    map(lambda doc: {'Id': doc['Id'], 'Features': doc['Text'], 'Labels': doc['Hubs']}). \\\n",
    "    cache()"
   ]
  },
  {
   "cell_type": "code",
   "execution_count": 4,
   "metadata": {
    "collapsed": false
   },
   "outputs": [],
   "source": [
    "word_idx = data.flatMap(lambda d: set(d['Features'])). \\\n",
    "    distinct(). \\\n",
    "    zipWithIndex(). \\\n",
    "    collectAsMap()"
   ]
  },
  {
   "cell_type": "code",
   "execution_count": 5,
   "metadata": {
    "collapsed": true
   },
   "outputs": [],
   "source": [
    "def vectorize_features(x: dict):\n",
    "    x['Features'] = [word_idx[f] for f in x['Features']]\n",
    "    return x"
   ]
  },
  {
   "cell_type": "code",
   "execution_count": 18,
   "metadata": {
    "collapsed": true
   },
   "outputs": [],
   "source": [
    "vectorized_data = data.map(lambda d: vectorize_features(d)).cache()"
   ]
  },
  {
   "cell_type": "code",
   "execution_count": 25,
   "metadata": {
    "collapsed": false
   },
   "outputs": [],
   "source": [
    "xs = data.filter(lambda d: 'Android' in d['Labels']).take(100)\n",
    "xs_features = [x['Features'] for x in xs]\n",
    "#xs_id = [x['Id'] for x in xs]"
   ]
  },
  {
   "cell_type": "code",
   "execution_count": 27,
   "metadata": {
    "collapsed": true
   },
   "outputs": [],
   "source": [
    "xs_vec_features = [[word_idx[f] for f in set(x_features)] for x_features in xs_features]"
   ]
  },
  {
   "cell_type": "code",
   "execution_count": 34,
   "metadata": {
    "collapsed": false
   },
   "outputs": [
    {
     "name": "stdout",
     "output_type": "stream",
     "text": [
      "1 loops, best of 1: 17min 25s per loop\n"
     ]
    }
   ],
   "source": [
    "%%timeit -n1 -r 1\n",
    "for x_vec_features in xs_vec_features:\n",
    "    neighbors = get_kNN(vectorized_data, x_vec_features, 5)"
   ]
  },
  {
   "cell_type": "code",
   "execution_count": 36,
   "metadata": {
    "collapsed": true
   },
   "outputs": [],
   "source": [
    "x = data.filter(lambda d: 'Android' in d['Labels']).take(1)[0]\n",
    "x_features = x['Features']\n",
    "x_id = x['Id']\n",
    "x_vec_features = [word_idx[f] for f in set(x_features)]"
   ]
  },
  {
   "cell_type": "code",
   "execution_count": 37,
   "metadata": {
    "collapsed": false
   },
   "outputs": [],
   "source": [
    "neighbors = get_kNN(vectorized_data, x_vec_features, 5)"
   ]
  },
  {
   "cell_type": "code",
   "execution_count": 38,
   "metadata": {
    "collapsed": false
   },
   "outputs": [],
   "source": [
    "ids = list(map(lambda x: x[0]['Id'], neighbors))"
   ]
  },
  {
   "cell_type": "code",
   "execution_count": 39,
   "metadata": {
    "collapsed": false
   },
   "outputs": [
    {
     "name": "stdout",
     "output_type": "stream",
     "text": [
      "113549 [113549, 64214, 124237, 120883, 115577]\n"
     ]
    }
   ],
   "source": [
    "print(x_id, ids)"
   ]
  },
  {
   "cell_type": "code",
   "execution_count": 40,
   "metadata": {
    "collapsed": false
   },
   "outputs": [
    {
     "data": {
      "text/plain": [
       "[1.0,\n",
       " 0.11834319526627218,\n",
       " 0.10526315789473684,\n",
       " 0.1044776119402985,\n",
       " 0.10135135135135136]"
      ]
     },
     "execution_count": 40,
     "metadata": {},
     "output_type": "execute_result"
    }
   ],
   "source": [
    "list(map(lambda x: x[1], neighbors))"
   ]
  }
 ],
 "metadata": {
  "kernelspec": {
   "display_name": "Python 3",
   "language": "python",
   "name": "python3"
  },
  "language_info": {
   "codemirror_mode": {
    "name": "ipython",
    "version": 3
   },
   "file_extension": ".py",
   "mimetype": "text/x-python",
   "name": "python",
   "nbconvert_exporter": "python",
   "pygments_lexer": "ipython3",
   "version": "3.4.3"
  }
 },
 "nbformat": 4,
 "nbformat_minor": 0
}
